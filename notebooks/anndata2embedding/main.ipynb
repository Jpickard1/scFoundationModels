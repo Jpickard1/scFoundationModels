{
 "cells": [
  {
   "cell_type": "markdown",
   "id": "9e56b71d-4955-4ab6-9992-554b5ea32951",
   "metadata": {},
   "source": [
    "# Embedding Ann Data with Different SC Foundation Models"
   ]
  },
  {
   "cell_type": "code",
   "execution_count": 1,
   "id": "39fcaadf-e774-4586-8943-80e0542ed397",
   "metadata": {},
   "outputs": [
    {
     "name": "stdout",
     "output_type": "stream",
     "text": [
      "general imports\n",
      "bioinf imports\n",
      "scgpt wont work\n",
      "tGPT will work\n",
      "geneformer will work\n"
     ]
    }
   ],
   "source": [
    "# This import may take a moment to run\n",
    "from embed import *"
   ]
  },
  {
   "cell_type": "code",
   "execution_count": 11,
   "id": "9c90ea46-5e70-4d2b-b89e-5301e7955d22",
   "metadata": {},
   "outputs": [
    {
     "data": {
      "text/plain": [
       "View of AnnData object with n_obs × n_vars = 18 × 19393\n",
       "    obs: 'dataset', 'sample_id', 'timepoint', 'hour', 'n_counts', 'control', 'order', 'replicate', 'batch'\n",
       "    var: 'gene_id', 'token_id', 'Chromosome', 'Source', 'Feature', 'Start', 'End', 'Score', 'Strand', 'Frame', 'gene_version', 'gene_source', 'gene_biotype', 'transcript_id', 'transcript_version', 'transcript_name', 'transcript_source', 'transcript_biotype', 'tag', 'ccds_id', 'exon_number', 'exon_id', 'exon_version', 'protein_id', 'protein_version', 'transcript_support_level', 'ensembl_id', 'gene_name'"
      ]
     },
     "execution_count": 11,
     "metadata": {},
     "output_type": "execute_result"
    }
   ],
   "source": [
    "# load our data\n",
    "input_file = '/nfs/turbo/umms-indikar/shared/projects/geneformer/data/rajapakse_lab_data_jpic.h5ad'\n",
    "adata      = sc.read_h5ad(input_file)\n",
    "\n",
    "adata.var['gene_name'] = adata.var.index\n",
    "adata = adata[adata.obs['dataset'] == 'chen_2015', :] # or chen_2015\n",
    "adata"
   ]
  },
  {
   "cell_type": "code",
   "execution_count": 3,
   "id": "5359aed7-f334-494d-ac85-84c479f65788",
   "metadata": {},
   "outputs": [],
   "source": [
    "# load mitotic exit data\n",
    "input_file = '/nfs/turbo/umms-indikar/shared/projects/geneformer/data/mitoticExit.h5ad'\n",
    "adata      = sc.read_h5ad(input_file)"
   ]
  },
  {
   "cell_type": "code",
   "execution_count": 4,
   "id": "e3e2dfd3-94e5-4aff-be93-2052560a97be",
   "metadata": {},
   "outputs": [
    {
     "data": {
      "text/html": [
       "<div>\n",
       "<style scoped>\n",
       "    .dataframe tbody tr th:only-of-type {\n",
       "        vertical-align: middle;\n",
       "    }\n",
       "\n",
       "    .dataframe tbody tr th {\n",
       "        vertical-align: top;\n",
       "    }\n",
       "\n",
       "    .dataframe thead th {\n",
       "        text-align: right;\n",
       "    }\n",
       "</style>\n",
       "<table border=\"1\" class=\"dataframe\">\n",
       "  <thead>\n",
       "    <tr style=\"text-align: right;\">\n",
       "      <th></th>\n",
       "      <th>Plate_Id</th>\n",
       "      <th>Well_Id</th>\n",
       "      <th>Fucci_g1</th>\n",
       "      <th>Fucci_g2</th>\n",
       "      <th>Cell cycle phase</th>\n",
       "      <th>Cell cycle time</th>\n",
       "    </tr>\n",
       "    <tr>\n",
       "      <th>Index</th>\n",
       "      <th></th>\n",
       "      <th></th>\n",
       "      <th></th>\n",
       "      <th></th>\n",
       "      <th></th>\n",
       "      <th></th>\n",
       "    </tr>\n",
       "  </thead>\n",
       "  <tbody>\n",
       "    <tr>\n",
       "      <th>plate_1_Well68</th>\n",
       "      <td>plate_1</td>\n",
       "      <td>68</td>\n",
       "      <td>74</td>\n",
       "      <td>23403</td>\n",
       "      <td>G2/M</td>\n",
       "      <td>0</td>\n",
       "    </tr>\n",
       "    <tr>\n",
       "      <th>plate_1_Well56</th>\n",
       "      <td>plate_1</td>\n",
       "      <td>56</td>\n",
       "      <td>49</td>\n",
       "      <td>23709</td>\n",
       "      <td>G2/M</td>\n",
       "      <td>0</td>\n",
       "    </tr>\n",
       "    <tr>\n",
       "      <th>plate_1_Well175</th>\n",
       "      <td>plate_1</td>\n",
       "      <td>175</td>\n",
       "      <td>955</td>\n",
       "      <td>74</td>\n",
       "      <td>G1</td>\n",
       "      <td>56.55108562</td>\n",
       "    </tr>\n",
       "    <tr>\n",
       "      <th>plate_1_Well53</th>\n",
       "      <td>plate_1</td>\n",
       "      <td>53</td>\n",
       "      <td>3</td>\n",
       "      <td>20775</td>\n",
       "      <td>G2/M</td>\n",
       "      <td>0</td>\n",
       "    </tr>\n",
       "    <tr>\n",
       "      <th>plate_1_Well130</th>\n",
       "      <td>plate_1</td>\n",
       "      <td>130</td>\n",
       "      <td>987</td>\n",
       "      <td>146</td>\n",
       "      <td>G1</td>\n",
       "      <td>57.79340672</td>\n",
       "    </tr>\n",
       "    <tr>\n",
       "      <th>...</th>\n",
       "      <td>...</td>\n",
       "      <td>...</td>\n",
       "      <td>...</td>\n",
       "      <td>...</td>\n",
       "      <td>...</td>\n",
       "      <td>...</td>\n",
       "    </tr>\n",
       "    <tr>\n",
       "      <th>plate_3_Well366</th>\n",
       "      <td>plate_3</td>\n",
       "      <td>366</td>\n",
       "      <td>1504</td>\n",
       "      <td>-13</td>\n",
       "      <td>G1</td>\n",
       "      <td>309.2371724</td>\n",
       "    </tr>\n",
       "    <tr>\n",
       "      <th>plate_3_Well251</th>\n",
       "      <td>plate_3</td>\n",
       "      <td>251</td>\n",
       "      <td>1216</td>\n",
       "      <td>-17</td>\n",
       "      <td>G1</td>\n",
       "      <td>267.2770725</td>\n",
       "    </tr>\n",
       "    <tr>\n",
       "      <th>plate_3_Well200</th>\n",
       "      <td>plate_3</td>\n",
       "      <td>200</td>\n",
       "      <td>1177</td>\n",
       "      <td>-62</td>\n",
       "      <td>G1</td>\n",
       "      <td>261.4856624</td>\n",
       "    </tr>\n",
       "    <tr>\n",
       "      <th>plate_3_Well230</th>\n",
       "      <td>plate_3</td>\n",
       "      <td>230</td>\n",
       "      <td>2483</td>\n",
       "      <td>-48</td>\n",
       "      <td>G1</td>\n",
       "      <td>454.8880935</td>\n",
       "    </tr>\n",
       "    <tr>\n",
       "      <th>plate_3_Well229</th>\n",
       "      <td>plate_3</td>\n",
       "      <td>229</td>\n",
       "      <td>679</td>\n",
       "      <td>47</td>\n",
       "      <td>G1</td>\n",
       "      <td>182.5866567</td>\n",
       "    </tr>\n",
       "  </tbody>\n",
       "</table>\n",
       "<p>841 rows × 6 columns</p>\n",
       "</div>"
      ],
      "text/plain": [
       "                Plate_Id Well_Id Fucci_g1 Fucci_g2 Cell cycle phase  \\\n",
       "Index                                                                 \n",
       "plate_1_Well68   plate_1      68       74    23403             G2/M   \n",
       "plate_1_Well56   plate_1      56       49    23709             G2/M   \n",
       "plate_1_Well175  plate_1     175      955       74               G1   \n",
       "plate_1_Well53   plate_1      53        3    20775             G2/M   \n",
       "plate_1_Well130  plate_1     130      987      146               G1   \n",
       "...                  ...     ...      ...      ...              ...   \n",
       "plate_3_Well366  plate_3     366     1504      -13               G1   \n",
       "plate_3_Well251  plate_3     251     1216      -17               G1   \n",
       "plate_3_Well200  plate_3     200     1177      -62               G1   \n",
       "plate_3_Well230  plate_3     230     2483      -48               G1   \n",
       "plate_3_Well229  plate_3     229      679       47               G1   \n",
       "\n",
       "                Cell cycle time  \n",
       "Index                            \n",
       "plate_1_Well68                0  \n",
       "plate_1_Well56                0  \n",
       "plate_1_Well175     56.55108562  \n",
       "plate_1_Well53                0  \n",
       "plate_1_Well130     57.79340672  \n",
       "...                         ...  \n",
       "plate_3_Well366     309.2371724  \n",
       "plate_3_Well251     267.2770725  \n",
       "plate_3_Well200     261.4856624  \n",
       "plate_3_Well230     454.8880935  \n",
       "plate_3_Well229     182.5866567  \n",
       "\n",
       "[841 rows x 6 columns]"
      ]
     },
     "execution_count": 4,
     "metadata": {},
     "output_type": "execute_result"
    }
   ],
   "source": [
    "adata.obs"
   ]
  },
  {
   "cell_type": "code",
   "execution_count": 12,
   "id": "dd7b8694-22f2-4e68-ba14-e4bdf0930034",
   "metadata": {},
   "outputs": [],
   "source": [
    "adata.write('/nfs/turbo/umms-indikar/shared/projects/foundation_models/experiments/fibroblastProliferation/raw.h5ad')"
   ]
  },
  {
   "cell_type": "markdown",
   "id": "b89d1986-4caf-4ef8-bd27-2378ea97eed8",
   "metadata": {},
   "source": [
    "## Geneformer"
   ]
  },
  {
   "cell_type": "code",
   "execution_count": 13,
   "id": "6bddb461-0705-4c89-921a-22d17ccf6aea",
   "metadata": {},
   "outputs": [
    {
     "data": {
      "application/vnd.jupyter.widget-view+json": {
       "model_id": "64fa2e8497704d7ab796fb33e020d97b",
       "version_major": 2,
       "version_minor": 0
      },
      "text/plain": [
       "Map (num_proc=16):   0%|          | 0/18 [00:00<?, ? examples/s]"
      ]
     },
     "metadata": {},
     "output_type": "display_data"
    },
    {
     "data": {
      "application/vnd.jupyter.widget-view+json": {
       "model_id": "1312bce7071644e39b9380dde1df7cb7",
       "version_major": 2,
       "version_minor": 0
      },
      "text/plain": [
       "Saving the dataset (0/1 shards):   0%|          | 0/18 [00:00<?, ? examples/s]"
      ]
     },
     "metadata": {},
     "output_type": "display_data"
    },
    {
     "name": "stdout",
     "output_type": "stream",
     "text": [
      "/nfs/turbo/umms-indikar/shared/projects/geneformer/geneformer-12L-30M/\n"
     ]
    },
    {
     "data": {
      "application/vnd.jupyter.widget-view+json": {
       "model_id": "80c0323cf5fa42b8b93677cd2c83df8f",
       "version_major": 2,
       "version_minor": 0
      },
      "text/plain": [
       "  0%|          | 0/2 [00:00<?, ?it/s]"
      ]
     },
     "metadata": {},
     "output_type": "display_data"
    }
   ],
   "source": [
    "embedAdGF = embed(adata, 'geneformer', output_directory='~', output_file='geneformer.h5ad')"
   ]
  },
  {
   "cell_type": "code",
   "execution_count": 6,
   "id": "f8f8b37b-5288-4fb0-b296-dc1de908f371",
   "metadata": {},
   "outputs": [
    {
     "data": {
      "text/plain": [
       "AnnData object with n_obs × n_vars = 48 × 512\n",
       "    obs: 'dataset', 'sample_id', 'timepoint', 'hour', 'n_counts', 'control', 'order', 'replicate', 'batch'"
      ]
     },
     "execution_count": 6,
     "metadata": {},
     "output_type": "execute_result"
    }
   ],
   "source": [
    "embedAdGF"
   ]
  },
  {
   "cell_type": "code",
   "execution_count": 14,
   "id": "4230cdae-60ea-4689-a35c-a38127e11b68",
   "metadata": {},
   "outputs": [],
   "source": [
    "embedAdGF.write('/nfs/turbo/umms-indikar/shared/projects/foundation_models/experiments/fibroblastProliferation/geneformer.h5ad')"
   ]
  },
  {
   "cell_type": "markdown",
   "id": "669678fe-23eb-4e26-b547-1c93c3e5dc12",
   "metadata": {},
   "source": [
    "## tGPT"
   ]
  },
  {
   "cell_type": "code",
   "execution_count": 15,
   "id": "ceb480bf-f54b-45fe-b2b3-ed560cb818a3",
   "metadata": {},
   "outputs": [
    {
     "name": "stdout",
     "output_type": "stream",
     "text": [
      "cuda\n",
      "Tokenizer set\n",
      "model set\n",
      "model to device\n",
      "model eval\n"
     ]
    },
    {
     "name": "stderr",
     "output_type": "stream",
     "text": [
      "100%|██████████| 1/1 [00:00<00:00, 24.62it/s]\n"
     ]
    }
   ],
   "source": [
    "embedAdT = embed(adata, 'tGPT', output_directory='~', output_file='tgpt.h5ad')"
   ]
  },
  {
   "cell_type": "code",
   "execution_count": 16,
   "id": "f7b18408-9223-42d8-ab7d-84e4fc07aff2",
   "metadata": {},
   "outputs": [],
   "source": [
    "embedAdT.write('/nfs/turbo/umms-indikar/shared/projects/foundation_models/experiments/fibroblastProliferation/tGPT.h5ad')"
   ]
  },
  {
   "cell_type": "code",
   "execution_count": null,
   "id": "273c0569-10a3-4093-9ea2-a72147f93e6d",
   "metadata": {},
   "outputs": [],
   "source": []
  },
  {
   "cell_type": "markdown",
   "id": "8330cca7-b5ab-45fa-ab6e-7735b5520923",
   "metadata": {},
   "source": [
    "## scGPT"
   ]
  },
  {
   "cell_type": "code",
   "execution_count": 6,
   "id": "9293fe75-a964-4945-9c0b-c52c4d06733e",
   "metadata": {},
   "outputs": [
    {
     "name": "stdout",
     "output_type": "stream",
     "text": [
      "scGPT - INFO - match 0/15957 genes in vocabulary of size 60697.\n"
     ]
    },
    {
     "name": "stderr",
     "output_type": "stream",
     "text": [
      "/home/jpic/.conda/envs/scgpt3/lib/python3.10/site-packages/scgpt/model/model.py:77: UserWarning: flash-attn is not installed, using pytorch transformer instead. Set use_fast_transformer=False to avoid this warning. Installing flash-attn is highly recommended.\n",
      "  warnings.warn(\n",
      "Embedding cells:   0%|          | 0/14 [00:00<?, ?it/s]\n"
     ]
    },
    {
     "ename": "ValueError",
     "evalue": "Caught ValueError in DataLoader worker process 0.\nOriginal Traceback (most recent call last):\n  File \"/home/jpic/.conda/envs/scgpt3/lib/python3.10/site-packages/torch/utils/data/_utils/worker.py\", line 308, in _worker_loop\n    data = fetcher.fetch(index)\n  File \"/home/jpic/.conda/envs/scgpt3/lib/python3.10/site-packages/torch/utils/data/_utils/fetch.py\", line 54, in fetch\n    return self.collate_fn(data)\n  File \"/home/jpic/.conda/envs/scgpt3/lib/python3.10/site-packages/scgpt/data_collator.py\", line 88, in __call__\n    expressions[self.keep_first_n_tokens :] = binning(\n  File \"/home/jpic/.conda/envs/scgpt3/lib/python3.10/site-packages/scgpt/preprocess.py\", line 283, in binning\n    if row.max() == 0:\n  File \"/home/jpic/.local/lib/python3.10/site-packages/numpy/core/_methods.py\", line 41, in _amax\n    return umr_maximum(a, axis, None, out, keepdims, initial, where)\nValueError: zero-size array to reduction operation maximum which has no identity\n",
     "output_type": "error",
     "traceback": [
      "\u001b[0;31m---------------------------------------------------------------------------\u001b[0m",
      "\u001b[0;31mValueError\u001b[0m                                Traceback (most recent call last)",
      "Cell \u001b[0;32mIn[6], line 1\u001b[0m\n\u001b[0;32m----> 1\u001b[0m embedAdscGPT \u001b[38;5;241m=\u001b[39m \u001b[43membed\u001b[49m\u001b[43m(\u001b[49m\u001b[43madata\u001b[49m\u001b[43m,\u001b[49m\u001b[43m \u001b[49m\u001b[38;5;124;43m'\u001b[39;49m\u001b[38;5;124;43mscgpt\u001b[39;49m\u001b[38;5;124;43m'\u001b[39;49m\u001b[43m,\u001b[49m\u001b[43m \u001b[49m\u001b[43moutput_directory\u001b[49m\u001b[38;5;241;43m=\u001b[39;49m\u001b[38;5;124;43m'\u001b[39;49m\u001b[38;5;124;43m~\u001b[39;49m\u001b[38;5;124;43m'\u001b[39;49m\u001b[43m,\u001b[49m\u001b[43m \u001b[49m\u001b[43moutput_file\u001b[49m\u001b[38;5;241;43m=\u001b[39;49m\u001b[38;5;124;43m'\u001b[39;49m\u001b[38;5;124;43mscgpt.h5ad\u001b[39;49m\u001b[38;5;124;43m'\u001b[39;49m\u001b[43m,\u001b[49m\u001b[43m \u001b[49m\u001b[43mmodel_directory\u001b[49m\u001b[38;5;241;43m=\u001b[39;49m\u001b[38;5;124;43m\"\u001b[39;49m\u001b[38;5;124;43m/nfs/turbo/umms-indikar/shared/projects/foundation_models/scGPT_human\u001b[39;49m\u001b[38;5;124;43m\"\u001b[39;49m\u001b[43m)\u001b[49m\n",
      "File \u001b[0;32m~/scFoundationProject/scFoundationModels/notebooks/anndata2embedding/embed.py:105\u001b[0m, in \u001b[0;36membed\u001b[0;34m(adata, model, model_directory, output_directory, output_file, verbose)\u001b[0m\n\u001b[1;32m    103\u001b[0m \u001b[38;5;66;03m# Perform embedding    \u001b[39;00m\n\u001b[1;32m    104\u001b[0m \u001b[38;5;28;01mif\u001b[39;00m model \u001b[38;5;241m==\u001b[39m \u001b[38;5;124m'\u001b[39m\u001b[38;5;124mscgpt\u001b[39m\u001b[38;5;124m'\u001b[39m:\n\u001b[0;32m--> 105\u001b[0m     embed_adata \u001b[38;5;241m=\u001b[39m \u001b[43mscgptEmbed\u001b[49m\u001b[43m(\u001b[49m\u001b[43madata\u001b[49m\u001b[43m,\u001b[49m\u001b[43m \u001b[49m\u001b[43mmodel_directory\u001b[49m\u001b[43m)\u001b[49m\n\u001b[1;32m    106\u001b[0m \u001b[38;5;28;01melif\u001b[39;00m model \u001b[38;5;241m==\u001b[39m \u001b[38;5;124m'\u001b[39m\u001b[38;5;124mgeneformer\u001b[39m\u001b[38;5;124m'\u001b[39m:\n\u001b[1;32m    107\u001b[0m     embed_adata \u001b[38;5;241m=\u001b[39m geneformerEmbed(adata, output_path \u001b[38;5;241m=\u001b[39m output_directory, filename\u001b[38;5;241m=\u001b[39moutput_file, verbose\u001b[38;5;241m=\u001b[39mverbose)\n",
      "File \u001b[0;32m~/scFoundationProject/scFoundationModels/notebooks/anndata2embedding/embed.py:129\u001b[0m, in \u001b[0;36mscgptEmbed\u001b[0;34m(adata, model_directory)\u001b[0m\n\u001b[1;32m    125\u001b[0m \u001b[38;5;66;03m# Auth: Joshua Pickard\u001b[39;00m\n\u001b[1;32m    126\u001b[0m \u001b[38;5;66;03m#       jpic@umich.edu\u001b[39;00m\n\u001b[1;32m    127\u001b[0m \u001b[38;5;66;03m# Date: July 14, 2024\u001b[39;00m\n\u001b[1;32m    128\u001b[0m model_dir   \u001b[38;5;241m=\u001b[39m Path(\u001b[38;5;124m\"\u001b[39m\u001b[38;5;124m/nfs/turbo/umms-indikar/shared/projects/foundation_models/scGPT_human\u001b[39m\u001b[38;5;124m\"\u001b[39m)\n\u001b[0;32m--> 129\u001b[0m embed_adata \u001b[38;5;241m=\u001b[39m \u001b[43mscg\u001b[49m\u001b[38;5;241;43m.\u001b[39;49m\u001b[43mtasks\u001b[49m\u001b[38;5;241;43m.\u001b[39;49m\u001b[43membed_data\u001b[49m\u001b[43m(\u001b[49m\n\u001b[1;32m    130\u001b[0m \u001b[43m    \u001b[49m\u001b[43madata\u001b[49m\u001b[43m,\u001b[49m\u001b[43m            \u001b[49m\u001b[38;5;66;43;03m# data\u001b[39;49;00m\n\u001b[1;32m    131\u001b[0m \u001b[43m    \u001b[49m\u001b[43mmodel_directory\u001b[49m\u001b[43m,\u001b[49m\u001b[43m  \u001b[49m\u001b[38;5;66;43;03m# pointer at model\u001b[39;49;00m\n\u001b[1;32m    132\u001b[0m \u001b[43m    \u001b[49m\u001b[43mgene_col\u001b[49m\u001b[43m    \u001b[49m\u001b[38;5;241;43m=\u001b[39;49m\u001b[43m \u001b[49m\u001b[38;5;124;43m\"\u001b[39;49m\u001b[38;5;124;43mindex\u001b[39;49m\u001b[38;5;124;43m\"\u001b[39;49m\u001b[43m,\u001b[49m\u001b[43m \u001b[49m\u001b[38;5;66;43;03m# the index of the adata.var are genes/tokens for scGPT\u001b[39;49;00m\n\u001b[1;32m    133\u001b[0m \u001b[43m    \u001b[49m\u001b[43mobs_to_save\u001b[49m\u001b[43m \u001b[49m\u001b[38;5;241;43m=\u001b[39;49m\u001b[43m \u001b[49m\u001b[38;5;28;43mlist\u001b[39;49m\u001b[43m(\u001b[49m\u001b[43madata\u001b[49m\u001b[38;5;241;43m.\u001b[39;49m\u001b[43mobs\u001b[49m\u001b[38;5;241;43m.\u001b[39;49m\u001b[43mcolumns\u001b[49m\u001b[43m)\u001b[49m\u001b[43m,\u001b[49m\u001b[43m  \u001b[49m\u001b[38;5;66;43;03m# save all of the metadata in the new dataframe\u001b[39;49;00m\n\u001b[1;32m    134\u001b[0m \u001b[43m    \u001b[49m\u001b[43mbatch_size\u001b[49m\u001b[43m  \u001b[49m\u001b[38;5;241;43m=\u001b[39;49m\u001b[43m \u001b[49m\u001b[38;5;241;43m64\u001b[39;49m\u001b[43m,\u001b[49m\u001b[43m      \u001b[49m\u001b[38;5;66;43;03m# I am not sure what this does\u001b[39;49;00m\n\u001b[1;32m    135\u001b[0m \u001b[43m    \u001b[49m\u001b[43mreturn_new_adata\u001b[49m\u001b[38;5;241;43m=\u001b[39;49m\u001b[38;5;28;43;01mTrue\u001b[39;49;00m\u001b[43m,\u001b[49m\n\u001b[1;32m    136\u001b[0m \u001b[43m\u001b[49m\u001b[43m)\u001b[49m\n\u001b[1;32m    137\u001b[0m \u001b[38;5;28;01mreturn\u001b[39;00m embed_adata\n",
      "File \u001b[0;32m~/.conda/envs/scgpt3/lib/python3.10/site-packages/scgpt/tasks/cell_emb.py:263\u001b[0m, in \u001b[0;36membed_data\u001b[0;34m(adata_or_file, model_dir, gene_col, max_length, batch_size, obs_to_save, device, use_fast_transformer, return_new_adata)\u001b[0m\n\u001b[1;32m    260\u001b[0m model\u001b[38;5;241m.\u001b[39meval()\n\u001b[1;32m    262\u001b[0m \u001b[38;5;66;03m# get cell embeddings\u001b[39;00m\n\u001b[0;32m--> 263\u001b[0m cell_embeddings \u001b[38;5;241m=\u001b[39m \u001b[43mget_batch_cell_embeddings\u001b[49m\u001b[43m(\u001b[49m\n\u001b[1;32m    264\u001b[0m \u001b[43m    \u001b[49m\u001b[43madata\u001b[49m\u001b[43m,\u001b[49m\n\u001b[1;32m    265\u001b[0m \u001b[43m    \u001b[49m\u001b[43mcell_embedding_mode\u001b[49m\u001b[38;5;241;43m=\u001b[39;49m\u001b[38;5;124;43m\"\u001b[39;49m\u001b[38;5;124;43mcls\u001b[39;49m\u001b[38;5;124;43m\"\u001b[39;49m\u001b[43m,\u001b[49m\n\u001b[1;32m    266\u001b[0m \u001b[43m    \u001b[49m\u001b[43mmodel\u001b[49m\u001b[38;5;241;43m=\u001b[39;49m\u001b[43mmodel\u001b[49m\u001b[43m,\u001b[49m\n\u001b[1;32m    267\u001b[0m \u001b[43m    \u001b[49m\u001b[43mvocab\u001b[49m\u001b[38;5;241;43m=\u001b[39;49m\u001b[43mvocab\u001b[49m\u001b[43m,\u001b[49m\n\u001b[1;32m    268\u001b[0m \u001b[43m    \u001b[49m\u001b[43mmax_length\u001b[49m\u001b[38;5;241;43m=\u001b[39;49m\u001b[43mmax_length\u001b[49m\u001b[43m,\u001b[49m\n\u001b[1;32m    269\u001b[0m \u001b[43m    \u001b[49m\u001b[43mbatch_size\u001b[49m\u001b[38;5;241;43m=\u001b[39;49m\u001b[43mbatch_size\u001b[49m\u001b[43m,\u001b[49m\n\u001b[1;32m    270\u001b[0m \u001b[43m    \u001b[49m\u001b[43mmodel_configs\u001b[49m\u001b[38;5;241;43m=\u001b[39;49m\u001b[43mmodel_configs\u001b[49m\u001b[43m,\u001b[49m\n\u001b[1;32m    271\u001b[0m \u001b[43m    \u001b[49m\u001b[43mgene_ids\u001b[49m\u001b[38;5;241;43m=\u001b[39;49m\u001b[43mgene_ids\u001b[49m\u001b[43m,\u001b[49m\n\u001b[1;32m    272\u001b[0m \u001b[43m    \u001b[49m\u001b[43muse_batch_labels\u001b[49m\u001b[38;5;241;43m=\u001b[39;49m\u001b[38;5;28;43;01mFalse\u001b[39;49;00m\u001b[43m,\u001b[49m\n\u001b[1;32m    273\u001b[0m \u001b[43m\u001b[49m\u001b[43m)\u001b[49m\n\u001b[1;32m    275\u001b[0m \u001b[38;5;28;01mif\u001b[39;00m return_new_adata:\n\u001b[1;32m    276\u001b[0m     obs_df \u001b[38;5;241m=\u001b[39m adata\u001b[38;5;241m.\u001b[39mobs[obs_to_save] \u001b[38;5;28;01mif\u001b[39;00m obs_to_save \u001b[38;5;129;01mis\u001b[39;00m \u001b[38;5;129;01mnot\u001b[39;00m \u001b[38;5;28;01mNone\u001b[39;00m \u001b[38;5;28;01melse\u001b[39;00m \u001b[38;5;28;01mNone\u001b[39;00m\n",
      "File \u001b[0;32m~/.conda/envs/scgpt3/lib/python3.10/site-packages/scgpt/tasks/cell_emb.py:122\u001b[0m, in \u001b[0;36mget_batch_cell_embeddings\u001b[0;34m(adata, cell_embedding_mode, model, vocab, max_length, batch_size, model_configs, gene_ids, use_batch_labels)\u001b[0m\n\u001b[1;32m    120\u001b[0m \u001b[38;5;28;01mwith\u001b[39;00m torch\u001b[38;5;241m.\u001b[39mno_grad(), torch\u001b[38;5;241m.\u001b[39mcuda\u001b[38;5;241m.\u001b[39mamp\u001b[38;5;241m.\u001b[39mautocast(enabled\u001b[38;5;241m=\u001b[39m\u001b[38;5;28;01mTrue\u001b[39;00m):\n\u001b[1;32m    121\u001b[0m     count \u001b[38;5;241m=\u001b[39m \u001b[38;5;241m0\u001b[39m\n\u001b[0;32m--> 122\u001b[0m     \u001b[38;5;28;01mfor\u001b[39;00m data_dict \u001b[38;5;129;01min\u001b[39;00m tqdm(data_loader, desc\u001b[38;5;241m=\u001b[39m\u001b[38;5;124m\"\u001b[39m\u001b[38;5;124mEmbedding cells\u001b[39m\u001b[38;5;124m\"\u001b[39m):\n\u001b[1;32m    123\u001b[0m         input_gene_ids \u001b[38;5;241m=\u001b[39m data_dict[\u001b[38;5;124m\"\u001b[39m\u001b[38;5;124mgene\u001b[39m\u001b[38;5;124m\"\u001b[39m]\u001b[38;5;241m.\u001b[39mto(device)\n\u001b[1;32m    124\u001b[0m         src_key_padding_mask \u001b[38;5;241m=\u001b[39m input_gene_ids\u001b[38;5;241m.\u001b[39meq(\n\u001b[1;32m    125\u001b[0m             vocab[model_configs[\u001b[38;5;124m\"\u001b[39m\u001b[38;5;124mpad_token\u001b[39m\u001b[38;5;124m\"\u001b[39m]]\n\u001b[1;32m    126\u001b[0m         )\n",
      "File \u001b[0;32m~/.local/lib/python3.10/site-packages/tqdm/std.py:1181\u001b[0m, in \u001b[0;36mtqdm.__iter__\u001b[0;34m(self)\u001b[0m\n\u001b[1;32m   1178\u001b[0m time \u001b[38;5;241m=\u001b[39m \u001b[38;5;28mself\u001b[39m\u001b[38;5;241m.\u001b[39m_time\n\u001b[1;32m   1180\u001b[0m \u001b[38;5;28;01mtry\u001b[39;00m:\n\u001b[0;32m-> 1181\u001b[0m     \u001b[38;5;28;01mfor\u001b[39;00m obj \u001b[38;5;129;01min\u001b[39;00m iterable:\n\u001b[1;32m   1182\u001b[0m         \u001b[38;5;28;01myield\u001b[39;00m obj\n\u001b[1;32m   1183\u001b[0m         \u001b[38;5;66;03m# Update and possibly print the progressbar.\u001b[39;00m\n\u001b[1;32m   1184\u001b[0m         \u001b[38;5;66;03m# Note: does not call self.update(1) for speed optimisation.\u001b[39;00m\n",
      "File \u001b[0;32m~/.conda/envs/scgpt3/lib/python3.10/site-packages/torch/utils/data/dataloader.py:630\u001b[0m, in \u001b[0;36m_BaseDataLoaderIter.__next__\u001b[0;34m(self)\u001b[0m\n\u001b[1;32m    627\u001b[0m \u001b[38;5;28;01mif\u001b[39;00m \u001b[38;5;28mself\u001b[39m\u001b[38;5;241m.\u001b[39m_sampler_iter \u001b[38;5;129;01mis\u001b[39;00m \u001b[38;5;28;01mNone\u001b[39;00m:\n\u001b[1;32m    628\u001b[0m     \u001b[38;5;66;03m# TODO(https://github.com/pytorch/pytorch/issues/76750)\u001b[39;00m\n\u001b[1;32m    629\u001b[0m     \u001b[38;5;28mself\u001b[39m\u001b[38;5;241m.\u001b[39m_reset()  \u001b[38;5;66;03m# type: ignore[call-arg]\u001b[39;00m\n\u001b[0;32m--> 630\u001b[0m data \u001b[38;5;241m=\u001b[39m \u001b[38;5;28;43mself\u001b[39;49m\u001b[38;5;241;43m.\u001b[39;49m\u001b[43m_next_data\u001b[49m\u001b[43m(\u001b[49m\u001b[43m)\u001b[49m\n\u001b[1;32m    631\u001b[0m \u001b[38;5;28mself\u001b[39m\u001b[38;5;241m.\u001b[39m_num_yielded \u001b[38;5;241m+\u001b[39m\u001b[38;5;241m=\u001b[39m \u001b[38;5;241m1\u001b[39m\n\u001b[1;32m    632\u001b[0m \u001b[38;5;28;01mif\u001b[39;00m \u001b[38;5;28mself\u001b[39m\u001b[38;5;241m.\u001b[39m_dataset_kind \u001b[38;5;241m==\u001b[39m _DatasetKind\u001b[38;5;241m.\u001b[39mIterable \u001b[38;5;129;01mand\u001b[39;00m \\\n\u001b[1;32m    633\u001b[0m         \u001b[38;5;28mself\u001b[39m\u001b[38;5;241m.\u001b[39m_IterableDataset_len_called \u001b[38;5;129;01mis\u001b[39;00m \u001b[38;5;129;01mnot\u001b[39;00m \u001b[38;5;28;01mNone\u001b[39;00m \u001b[38;5;129;01mand\u001b[39;00m \\\n\u001b[1;32m    634\u001b[0m         \u001b[38;5;28mself\u001b[39m\u001b[38;5;241m.\u001b[39m_num_yielded \u001b[38;5;241m>\u001b[39m \u001b[38;5;28mself\u001b[39m\u001b[38;5;241m.\u001b[39m_IterableDataset_len_called:\n",
      "File \u001b[0;32m~/.conda/envs/scgpt3/lib/python3.10/site-packages/torch/utils/data/dataloader.py:1345\u001b[0m, in \u001b[0;36m_MultiProcessingDataLoaderIter._next_data\u001b[0;34m(self)\u001b[0m\n\u001b[1;32m   1343\u001b[0m \u001b[38;5;28;01melse\u001b[39;00m:\n\u001b[1;32m   1344\u001b[0m     \u001b[38;5;28;01mdel\u001b[39;00m \u001b[38;5;28mself\u001b[39m\u001b[38;5;241m.\u001b[39m_task_info[idx]\n\u001b[0;32m-> 1345\u001b[0m     \u001b[38;5;28;01mreturn\u001b[39;00m \u001b[38;5;28;43mself\u001b[39;49m\u001b[38;5;241;43m.\u001b[39;49m\u001b[43m_process_data\u001b[49m\u001b[43m(\u001b[49m\u001b[43mdata\u001b[49m\u001b[43m)\u001b[49m\n",
      "File \u001b[0;32m~/.conda/envs/scgpt3/lib/python3.10/site-packages/torch/utils/data/dataloader.py:1371\u001b[0m, in \u001b[0;36m_MultiProcessingDataLoaderIter._process_data\u001b[0;34m(self, data)\u001b[0m\n\u001b[1;32m   1369\u001b[0m \u001b[38;5;28mself\u001b[39m\u001b[38;5;241m.\u001b[39m_try_put_index()\n\u001b[1;32m   1370\u001b[0m \u001b[38;5;28;01mif\u001b[39;00m \u001b[38;5;28misinstance\u001b[39m(data, ExceptionWrapper):\n\u001b[0;32m-> 1371\u001b[0m     \u001b[43mdata\u001b[49m\u001b[38;5;241;43m.\u001b[39;49m\u001b[43mreraise\u001b[49m\u001b[43m(\u001b[49m\u001b[43m)\u001b[49m\n\u001b[1;32m   1372\u001b[0m \u001b[38;5;28;01mreturn\u001b[39;00m data\n",
      "File \u001b[0;32m~/.conda/envs/scgpt3/lib/python3.10/site-packages/torch/_utils.py:694\u001b[0m, in \u001b[0;36mExceptionWrapper.reraise\u001b[0;34m(self)\u001b[0m\n\u001b[1;32m    690\u001b[0m \u001b[38;5;28;01mexcept\u001b[39;00m \u001b[38;5;167;01mTypeError\u001b[39;00m:\n\u001b[1;32m    691\u001b[0m     \u001b[38;5;66;03m# If the exception takes multiple arguments, don't try to\u001b[39;00m\n\u001b[1;32m    692\u001b[0m     \u001b[38;5;66;03m# instantiate since we don't know how to\u001b[39;00m\n\u001b[1;32m    693\u001b[0m     \u001b[38;5;28;01mraise\u001b[39;00m \u001b[38;5;167;01mRuntimeError\u001b[39;00m(msg) \u001b[38;5;28;01mfrom\u001b[39;00m \u001b[38;5;28;01mNone\u001b[39;00m\n\u001b[0;32m--> 694\u001b[0m \u001b[38;5;28;01mraise\u001b[39;00m exception\n",
      "\u001b[0;31mValueError\u001b[0m: Caught ValueError in DataLoader worker process 0.\nOriginal Traceback (most recent call last):\n  File \"/home/jpic/.conda/envs/scgpt3/lib/python3.10/site-packages/torch/utils/data/_utils/worker.py\", line 308, in _worker_loop\n    data = fetcher.fetch(index)\n  File \"/home/jpic/.conda/envs/scgpt3/lib/python3.10/site-packages/torch/utils/data/_utils/fetch.py\", line 54, in fetch\n    return self.collate_fn(data)\n  File \"/home/jpic/.conda/envs/scgpt3/lib/python3.10/site-packages/scgpt/data_collator.py\", line 88, in __call__\n    expressions[self.keep_first_n_tokens :] = binning(\n  File \"/home/jpic/.conda/envs/scgpt3/lib/python3.10/site-packages/scgpt/preprocess.py\", line 283, in binning\n    if row.max() == 0:\n  File \"/home/jpic/.local/lib/python3.10/site-packages/numpy/core/_methods.py\", line 41, in _amax\n    return umr_maximum(a, axis, None, out, keepdims, initial, where)\nValueError: zero-size array to reduction operation maximum which has no identity\n"
     ]
    }
   ],
   "source": [
    "embedAdscGPT = embed(adata, 'scgpt', output_directory='~', output_file='scgpt.h5ad', model_directory=\"/nfs/turbo/umms-indikar/shared/projects/foundation_models/scGPT_human\")"
   ]
  },
  {
   "cell_type": "code",
   "execution_count": null,
   "id": "e8edfbd6-65f5-4337-97a0-3be1a32cfe2f",
   "metadata": {},
   "outputs": [],
   "source": [
    "embedAdscGPT.write('/nfs/turbo/umms-indikar/shared/projects/foundation_models/experiments/mitoticExit/scgpt.h5ad')"
   ]
  },
  {
   "cell_type": "markdown",
   "id": "8b7a5538-8be1-462e-8e72-f708b0e4e6f0",
   "metadata": {},
   "source": [
    "## scFoundation"
   ]
  },
  {
   "cell_type": "code",
   "execution_count": 6,
   "id": "e1b2c1a0-83db-41ed-9f7a-d892c4c6c721",
   "metadata": {},
   "outputs": [
    {
     "data": {
      "text/plain": [
       "AnnData object with n_obs × n_vars = 66 × 1024\n",
       "    obs: 'dataset', 'sample_id', 'timepoint', 'hour', 'n_counts', 'control', 'order', 'replicate', 'batch'"
      ]
     },
     "execution_count": 6,
     "metadata": {},
     "output_type": "execute_result"
    }
   ],
   "source": [
    "embedAd"
   ]
  }
 ],
 "metadata": {
  "kernelspec": {
   "display_name": "Python 3 (ipykernel)",
   "language": "python",
   "name": "python3"
  },
  "language_info": {
   "codemirror_mode": {
    "name": "ipython",
    "version": 3
   },
   "file_extension": ".py",
   "mimetype": "text/x-python",
   "name": "python",
   "nbconvert_exporter": "python",
   "pygments_lexer": "ipython3",
   "version": "3.11.7"
  }
 },
 "nbformat": 4,
 "nbformat_minor": 5
}
