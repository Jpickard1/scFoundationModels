{
 "cells": [
  {
   "cell_type": "markdown",
   "id": "b719dec0-993a-4f62-85a9-758e93664a17",
   "metadata": {},
   "source": [
    "# MWE: Nicheformer Embeddings"
   ]
  },
  {
   "cell_type": "code",
   "execution_count": null,
   "id": "6c8fd6fd-2389-4e0e-a158-9992580b0ed3",
   "metadata": {},
   "outputs": [],
   "source": [
    "import scanpy as sc\n",
    "import anndata as ad\n",
    "import pandas as pd\n",
    "import numpy as np\n",
    "import math\n",
    "import numba\n",
    "from scipy.sparse import issparse\n",
    "from sklearn.utils import sparsefuncs\n",
    "from pyensembl import EnsemblRelease\n",
    "\n",
    "import pyarrow.parquet as pq\n",
    "import pyarrow\n",
    "from os.path import join\n",
    "from tqdm import tqdm"
   ]
  },
  {
   "cell_type": "code",
   "execution_count": null,
   "id": "2331119e-0d0a-45af-b1d1-efc6ecf504f9",
   "metadata": {},
   "outputs": [],
   "source": []
  }
 ],
 "metadata": {
  "kernelspec": {
   "display_name": "",
   "name": ""
  },
  "language_info": {
   "name": ""
  }
 },
 "nbformat": 4,
 "nbformat_minor": 5
}
