{
 "cells": [
  {
   "cell_type": "markdown",
   "id": "e62967a7-9def-41ed-ab29-2d749451afc8",
   "metadata": {},
   "source": [
    "# Minimal Working Example for scBERT\n",
    "\n",
    "**Install**\n",
    "- make a conda environment\n",
    "- add the dependincies [here](https://github.com/TencentAILabHealthcare/scBERT/blob/master/requirements.txt)\n",
    "- note: not all dependencies will be resolved. `scanpy`, `pandas`, and `matplotlib` versions will need to be resolved manually\n",
    "- hit 'em with a `pip install local-attention`\n",
    "- clone the scBERT repo and point the path to include the `utils.py` and `perfomer_pytorch` directories"
   ]
  },
  {
   "cell_type": "code",
   "execution_count": 2,
   "id": "eebba19c-cd9c-4acb-b79d-53e28ff5fe55",
   "metadata": {},
   "outputs": [],
   "source": [
    "# Imports from the environment\n",
    "import os\n",
    "import gc\n",
    "import argparse\n",
    "import json\n",
    "import random\n",
    "import math\n",
    "import random\n",
    "from functools import reduce\n",
    "import numpy as np\n",
    "import pandas as pd\n",
    "from scipy import sparse\n",
    "from sklearn.model_selection import train_test_split, ShuffleSplit, StratifiedShuffleSplit, StratifiedKFold\n",
    "from sklearn.metrics import accuracy_score, f1_score, confusion_matrix, precision_recall_fscore_support, classification_report\n",
    "import torch\n",
    "from torch import nn\n",
    "from torch.optim import Adam, SGD, AdamW\n",
    "from torch.nn import functional as F\n",
    "# from performer_pytorch import PerformerLM\n",
    "import scanpy as sc\n",
    "import anndata as ad\n",
    "# from utils import *\n",
    "import pickle as pkl"
   ]
  },
  {
   "cell_type": "code",
   "execution_count": 3,
   "id": "f5f115e9-98a6-46ef-9ddf-2d3e6727d4bf",
   "metadata": {},
   "outputs": [],
   "source": [
    "# Imports from the scBERT repo\n",
    "import sys\n",
    "sys.path.append('/home/jpic/scFoundationProject/scBERT/scBERT/')\n",
    "from scBERTutils import *\n",
    "from performer_pytorch import PerformerLM"
   ]
  },
  {
   "cell_type": "code",
   "execution_count": 4,
   "id": "81cab09b-10fd-4bde-97d3-a36113b5946e",
   "metadata": {},
   "outputs": [],
   "source": [
    "SEED            = 0    # args.seed\n",
    "EPOCHS          = 10   # args.epoch\n",
    "SEQ_LEN         = None # args.gene_num + 1\n",
    "UNASSIGN        = None # args.novel_type\n",
    "UNASSIGN_THRES  = None # args.unassign_thres if UNASSIGN == True else 0\n",
    "CLASS           = None # args.bin_num + 2\n",
    "POS_EMBED_USING = None # args.pos_embed\n",
    "data_path       = '/nfs/turbo/umms-indikar/shared/projects/foundation_models/example_inputs/scBERT/Zheng68K.h5ad'"
   ]
  },
  {
   "cell_type": "code",
   "execution_count": 6,
   "id": "f1d68bff-bb54-4a87-adc9-70d3227b0388",
   "metadata": {},
   "outputs": [
    {
     "name": "stdout",
     "output_type": "stream",
     "text": [
      "device=cuda\n"
     ]
    }
   ],
   "source": [
    "device = torch.device(\"cuda\" if torch.cuda.is_available() else \"cpu\")\n",
    "print(f'device={device}')"
   ]
  },
  {
   "cell_type": "code",
   "execution_count": 7,
   "id": "349f8f3d-742b-4015-9572-3746a6f914b1",
   "metadata": {},
   "outputs": [],
   "source": [
    "file_path = '/nfs/turbo/umms-indikar/shared/projects/foundation_models/scBERT/panglao_pretrain.pth'\n",
    "data = torch.load(file_path)\n"
   ]
  },
  {
   "cell_type": "code",
   "execution_count": 9,
   "id": "e9525321-4218-414e-ad9e-6eb65bd8b422",
   "metadata": {},
   "outputs": [
    {
     "name": "stdout",
     "output_type": "stream",
     "text": [
      "Key: epoch\n",
      "Key: model_state_dict\n",
      "Key: optimizer_state_dict\n",
      "Key: scheduler_state_dict\n",
      "Key: losses\n"
     ]
    }
   ],
   "source": [
    "if isinstance(data, dict):\n",
    "    for key, value in data.items():\n",
    "        print(f\"Key: {key}\")\n",
    "        # print(f\"Value: {value}\\n\")\n",
    "else:\n",
    "    print(data)\n"
   ]
  },
  {
   "cell_type": "code",
   "execution_count": 8,
   "id": "3031511f-e5f1-44e5-9737-1801bfde9e39",
   "metadata": {},
   "outputs": [
    {
     "data": {
      "text/plain": [
       "AnnData object with n_obs × n_vars = 68450 × 16906\n",
       "    obs: 'TSNE.1', 'TSNE.2', 'celltype', 'n_genes'\n",
       "    uns: 'log1p'"
      ]
     },
     "execution_count": 8,
     "metadata": {},
     "output_type": "execute_result"
    }
   ],
   "source": [
    "adata = sc.read_h5ad(data_path)\n",
    "adata"
   ]
  },
  {
   "cell_type": "code",
   "execution_count": 11,
   "id": "a85c12dc-7961-4065-ae23-181557ea7ff3",
   "metadata": {},
   "outputs": [
    {
     "data": {
      "text/plain": [
       "<68450x16906 sparse matrix of type '<class 'numpy.float32'>'\n",
       "\twith 33627905 stored elements in Compressed Sparse Row format>"
      ]
     },
     "execution_count": 11,
     "metadata": {},
     "output_type": "execute_result"
    }
   ],
   "source": [
    "adata.X"
   ]
  },
  {
   "cell_type": "code",
   "execution_count": 12,
   "id": "5dd61930-b611-45fd-9645-6ba5ca86acd4",
   "metadata": {},
   "outputs": [
    {
     "ename": "FileNotFoundError",
     "evalue": "[Errno 2] No such file or directory: 'label_dict'",
     "output_type": "error",
     "traceback": [
      "\u001b[0;31m---------------------------------------------------------------------------\u001b[0m",
      "\u001b[0;31mFileNotFoundError\u001b[0m                         Traceback (most recent call last)",
      "Cell \u001b[0;32mIn[12], line 2\u001b[0m\n\u001b[1;32m      1\u001b[0m \u001b[38;5;66;03m#load the label stored during the fine-tune stage\u001b[39;00m\n\u001b[0;32m----> 2\u001b[0m \u001b[38;5;28;01mwith\u001b[39;00m \u001b[38;5;28;43mopen\u001b[39;49m\u001b[43m(\u001b[49m\u001b[38;5;124;43m'\u001b[39;49m\u001b[38;5;124;43mlabel_dict\u001b[39;49m\u001b[38;5;124;43m'\u001b[39;49m\u001b[43m,\u001b[49m\u001b[43m \u001b[49m\u001b[38;5;124;43m'\u001b[39;49m\u001b[38;5;124;43mrb\u001b[39;49m\u001b[38;5;124;43m'\u001b[39;49m\u001b[43m)\u001b[49m \u001b[38;5;28;01mas\u001b[39;00m fp:\n\u001b[1;32m      3\u001b[0m     label_dict \u001b[38;5;241m=\u001b[39m pkl\u001b[38;5;241m.\u001b[39mload(fp)\n\u001b[1;32m      4\u001b[0m \u001b[38;5;28;01mwith\u001b[39;00m \u001b[38;5;28mopen\u001b[39m(\u001b[38;5;124m'\u001b[39m\u001b[38;5;124mlabel\u001b[39m\u001b[38;5;124m'\u001b[39m, \u001b[38;5;124m'\u001b[39m\u001b[38;5;124mrb\u001b[39m\u001b[38;5;124m'\u001b[39m) \u001b[38;5;28;01mas\u001b[39;00m fp:\n",
      "File \u001b[0;32m~/.conda/envs/scBERT/lib/python3.8/site-packages/IPython/core/interactiveshell.py:284\u001b[0m, in \u001b[0;36m_modified_open\u001b[0;34m(file, *args, **kwargs)\u001b[0m\n\u001b[1;32m    277\u001b[0m \u001b[38;5;28;01mif\u001b[39;00m file \u001b[38;5;129;01min\u001b[39;00m {\u001b[38;5;241m0\u001b[39m, \u001b[38;5;241m1\u001b[39m, \u001b[38;5;241m2\u001b[39m}:\n\u001b[1;32m    278\u001b[0m     \u001b[38;5;28;01mraise\u001b[39;00m \u001b[38;5;167;01mValueError\u001b[39;00m(\n\u001b[1;32m    279\u001b[0m         \u001b[38;5;124mf\u001b[39m\u001b[38;5;124m\"\u001b[39m\u001b[38;5;124mIPython won\u001b[39m\u001b[38;5;124m'\u001b[39m\u001b[38;5;124mt let you open fd=\u001b[39m\u001b[38;5;132;01m{\u001b[39;00mfile\u001b[38;5;132;01m}\u001b[39;00m\u001b[38;5;124m by default \u001b[39m\u001b[38;5;124m\"\u001b[39m\n\u001b[1;32m    280\u001b[0m         \u001b[38;5;124m\"\u001b[39m\u001b[38;5;124mas it is likely to crash IPython. If you know what you are doing, \u001b[39m\u001b[38;5;124m\"\u001b[39m\n\u001b[1;32m    281\u001b[0m         \u001b[38;5;124m\"\u001b[39m\u001b[38;5;124myou can use builtins\u001b[39m\u001b[38;5;124m'\u001b[39m\u001b[38;5;124m open.\u001b[39m\u001b[38;5;124m\"\u001b[39m\n\u001b[1;32m    282\u001b[0m     )\n\u001b[0;32m--> 284\u001b[0m \u001b[38;5;28;01mreturn\u001b[39;00m \u001b[43mio_open\u001b[49m\u001b[43m(\u001b[49m\u001b[43mfile\u001b[49m\u001b[43m,\u001b[49m\u001b[43m \u001b[49m\u001b[38;5;241;43m*\u001b[39;49m\u001b[43margs\u001b[49m\u001b[43m,\u001b[49m\u001b[43m \u001b[49m\u001b[38;5;241;43m*\u001b[39;49m\u001b[38;5;241;43m*\u001b[39;49m\u001b[43mkwargs\u001b[49m\u001b[43m)\u001b[49m\n",
      "\u001b[0;31mFileNotFoundError\u001b[0m: [Errno 2] No such file or directory: 'label_dict'"
     ]
    }
   ],
   "source": [
    "#load the label stored during the fine-tune stage\n",
    "with open('label_dict', 'rb') as fp:\n",
    "    label_dict = pkl.load(fp)\n",
    "with open('label', 'rb') as fp:\n",
    "    label = pkl.load(fp)\n",
    "\n",
    "class_num = np.unique(label, return_counts=True)[1].tolist()\n",
    "class_weight = torch.tensor([(1 - (x / sum(class_num))) ** 2 for x in class_num])\n",
    "label = torch.from_numpy(label)\n",
    "data = data.X\n"
   ]
  }
 ],
 "metadata": {
  "kernelspec": {
   "display_name": "scBERT",
   "language": "python",
   "name": "scbert"
  },
  "language_info": {
   "codemirror_mode": {
    "name": "ipython",
    "version": 3
   },
   "file_extension": ".py",
   "mimetype": "text/x-python",
   "name": "python",
   "nbconvert_exporter": "python",
   "pygments_lexer": "ipython3",
   "version": "3.8.19"
  }
 },
 "nbformat": 4,
 "nbformat_minor": 5
}
