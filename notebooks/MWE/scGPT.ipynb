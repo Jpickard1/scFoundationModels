{
 "cells": [
  {
   "cell_type": "markdown",
   "id": "34342d0e-1fc1-4ee4-83e8-1f195f1f775f",
   "metadata": {},
   "source": [
    "# Minimal Working Example for scGPT\n",
    "\n",
    "How to install:\n",
    "1. `module load cuda`\n",
    "2. `pip install scgpt \"flash-attn<1.0.5\"`\n",
    "3. dependencies will be handled separately\n"
   ]
  },
  {
   "cell_type": "code",
   "execution_count": null,
   "id": "66d22197-7480-4670-bb7b-2f6114b2a4a4",
   "metadata": {},
   "outputs": [],
   "source": []
  }
 ],
 "metadata": {
  "kernelspec": {
   "display_name": "Python 3 (ipykernel)",
   "language": "python",
   "name": "python3"
  },
  "language_info": {
   "codemirror_mode": {
    "name": "ipython",
    "version": 3
   },
   "file_extension": ".py",
   "mimetype": "text/x-python",
   "name": "python",
   "nbconvert_exporter": "python",
   "pygments_lexer": "ipython3",
   "version": "3.11.7"
  }
 },
 "nbformat": 4,
 "nbformat_minor": 5
}
