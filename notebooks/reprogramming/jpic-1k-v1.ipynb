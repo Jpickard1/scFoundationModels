{
 "cells": [
  {
   "cell_type": "markdown",
   "id": "c15dfbe8-dd5e-4562-84d3-f3c871032f59",
   "metadata": {},
   "source": [
    "# jpic-1k-v1\n",
    "\n",
    "This notebook is a continuation of the first 1k all TFs embedding experiment. `jpic-1k-v0.ipynb` contains the code to make the perturbation files for individual cells, and this notebook contains code to make embeddings for these cells."
   ]
  },
  {
   "cell_type": "code",
   "execution_count": 1,
   "id": "dbb16225-b200-447e-aab5-8b59fd6941f1",
   "metadata": {},
   "outputs": [
    {
     "name": "stdout",
     "output_type": "stream",
     "text": [
      "general imports\n",
      "bioinf imports\n",
      "scgpt wont work\n",
      "tGPT will work\n"
     ]
    },
    {
     "name": "stderr",
     "output_type": "stream",
     "text": [
      "2024-09-30 08:15:34.290324: E external/local_xla/xla/stream_executor/cuda/cuda_fft.cc:485] Unable to register cuFFT factory: Attempting to register factory for plugin cuFFT when one has already been registered\n",
      "2024-09-30 08:15:34.894971: E external/local_xla/xla/stream_executor/cuda/cuda_dnn.cc:8454] Unable to register cuDNN factory: Attempting to register factory for plugin cuDNN when one has already been registered\n",
      "2024-09-30 08:15:35.057573: E external/local_xla/xla/stream_executor/cuda/cuda_blas.cc:1452] Unable to register cuBLAS factory: Attempting to register factory for plugin cuBLAS when one has already been registered\n",
      "2024-09-30 08:15:36.130819: I tensorflow/core/platform/cpu_feature_guard.cc:210] This TensorFlow binary is optimized to use available CPU instructions in performance-critical operations.\n",
      "To enable the following instructions: AVX2 AVX512F FMA, in other operations, rebuild TensorFlow with the appropriate compiler flags.\n",
      "2024-09-30 08:15:46.105480: W tensorflow/compiler/tf2tensorrt/utils/py_utils.cc:38] TF-TRT Warning: Could not find TensorRT\n"
     ]
    },
    {
     "name": "stdout",
     "output_type": "stream",
     "text": [
      "geneformer will work\n",
      "general imports\n",
      "bioinf imports\n",
      "scgpt wont work\n",
      "tGPT will work\n",
      "geneformer will work\n"
     ]
    }
   ],
   "source": [
    "import os\n",
    "import sys\n",
    "import scanpy as sc\n",
    "import anndata as ad\n",
    "import importlib\n",
    "\n",
    "sys.path.append('../anndata2embedding')\n",
    "import embed\n",
    "importlib.reload(embed)\n",
    "from embed import *\n"
   ]
  },
  {
   "cell_type": "code",
   "execution_count": 2,
   "id": "836d7e60-9473-498f-9b22-1af2c940569e",
   "metadata": {},
   "outputs": [],
   "source": [
    "# Input and output paths\n",
    "input_path = \"/scratch/indikar_root/indikar0/jpic/pb1k/data\"\n",
    "output_path = \"/scratch/indikar_root/indikar0/jpic/pb1k/geneformer\""
   ]
  },
  {
   "cell_type": "code",
   "execution_count": 3,
   "id": "9cdbfa16-34ee-4874-821e-2c3ea8e08512",
   "metadata": {},
   "outputs": [],
   "source": [
    "# Get the list of .h5ad files in the input directory\n",
    "h5ad_files = [f for f in os.listdir(input_path) if f.endswith(\".h5ad\")]"
   ]
  },
  {
   "cell_type": "code",
   "execution_count": null,
   "id": "436645ab-cfef-470f-9e78-ff5cf0d34d64",
   "metadata": {},
   "outputs": [
    {
     "name": "stdout",
     "output_type": "stream",
     "text": [
      "output_file='/scratch/indikar_root/indikar0/jpic/pb1k/geneformer/CATCGCTCACCCTTGT_TSP14_Vasculature_CoronaryArteries_10X_1_1.h5ad'\n",
      "Processing file: CATCGCTCACCCTTGT_TSP14_Vasculature_CoronaryArteries_10X_1_1.h5ad\n",
      "output_directory='/scratch/indikar_root/indikar0/jpic/pb1k/geneformer'\n",
      "l212: output_path='/scratch/indikar_root/indikar0/jpic/pb1k/geneformer'\n",
      "l213: type(output_path)=<class 'str'>\n",
      "l214: (output_path==None)=False\n",
      "Tokenizing the dataset\n"
     ]
    },
    {
     "data": {
      "application/vnd.jupyter.widget-view+json": {
       "model_id": "2dc15a45f04043ba99149ff204936ae2",
       "version_major": 2,
       "version_minor": 0
      },
      "text/plain": [
       "Map (num_proc=16):   0%|          | 0/16371 [00:00<?, ? examples/s]"
      ]
     },
     "metadata": {},
     "output_type": "display_data"
    },
    {
     "data": {
      "application/vnd.jupyter.widget-view+json": {
       "model_id": "cdf7349cb52e4e34ba4931fefa40286e",
       "version_major": 2,
       "version_minor": 0
      },
      "text/plain": [
       "Saving the dataset (0/1 shards):   0%|          | 0/16371 [00:00<?, ? examples/s]"
      ]
     },
     "metadata": {},
     "output_type": "display_data"
    },
    {
     "name": "stdout",
     "output_type": "stream",
     "text": [
      "/nfs/turbo/umms-indikar/shared/projects/geneformer/geneformer-12L-30M/\n"
     ]
    },
    {
     "name": "stderr",
     "output_type": "stream",
     "text": [
      "/home/jpic/.local/lib/python3.11/site-packages/torch/_utils.py:831: UserWarning: TypedStorage is deprecated. It will be removed in the future and UntypedStorage will be the only storage class. This should only matter to you if you are using storages directly.  To access UntypedStorage directly, use tensor.untyped_storage() instead of tensor.storage()\n",
      "  return self.fget.__get__(instance, owner)()\n"
     ]
    },
    {
     "data": {
      "application/vnd.jupyter.widget-view+json": {
       "model_id": "a8d228f2746c412191bcac4d26a1cd2e",
       "version_major": 2,
       "version_minor": 0
      },
      "text/plain": [
       "  0%|          | 0/1638 [00:00<?, ?it/s]"
      ]
     },
     "metadata": {},
     "output_type": "display_data"
    },
    {
     "name": "stdout",
     "output_type": "stream",
     "text": [
      "Embedding saved to: /scratch/indikar_root/indikar0/jpic/pb1k/geneformer/CATCGCTCACCCTTGT_TSP14_Vasculature_CoronaryArteries_10X_1_1.h5ad\n",
      "output_file='/scratch/indikar_root/indikar0/jpic/pb1k/geneformer/TGGATGTTCTCTCCGA_TSP4_Uterus_Endometrium_10X_1_1.h5ad'\n",
      "Processing file: TGGATGTTCTCTCCGA_TSP4_Uterus_Endometrium_10X_1_1.h5ad\n",
      "output_directory='/scratch/indikar_root/indikar0/jpic/pb1k/geneformer'\n",
      "l212: output_path='/scratch/indikar_root/indikar0/jpic/pb1k/geneformer'\n",
      "l213: type(output_path)=<class 'str'>\n",
      "l214: (output_path==None)=False\n",
      "Tokenizing the dataset\n"
     ]
    },
    {
     "data": {
      "application/vnd.jupyter.widget-view+json": {
       "model_id": "7faae47cfbcd4b08becef5d006cc02db",
       "version_major": 2,
       "version_minor": 0
      },
      "text/plain": [
       "Map (num_proc=16):   0%|          | 0/16371 [00:00<?, ? examples/s]"
      ]
     },
     "metadata": {},
     "output_type": "display_data"
    },
    {
     "data": {
      "application/vnd.jupyter.widget-view+json": {
       "model_id": "c2ac5fc450144455920e5cef6e1b3a77",
       "version_major": 2,
       "version_minor": 0
      },
      "text/plain": [
       "Saving the dataset (0/1 shards):   0%|          | 0/16371 [00:00<?, ? examples/s]"
      ]
     },
     "metadata": {},
     "output_type": "display_data"
    },
    {
     "name": "stdout",
     "output_type": "stream",
     "text": [
      "/nfs/turbo/umms-indikar/shared/projects/geneformer/geneformer-12L-30M/\n"
     ]
    },
    {
     "data": {
      "application/vnd.jupyter.widget-view+json": {
       "model_id": "06ec0a3d0835483a84d28ae9c21d1b78",
       "version_major": 2,
       "version_minor": 0
      },
      "text/plain": [
       "  0%|          | 0/1638 [00:00<?, ?it/s]"
      ]
     },
     "metadata": {},
     "output_type": "display_data"
    },
    {
     "name": "stdout",
     "output_type": "stream",
     "text": [
      "Embedding saved to: /scratch/indikar_root/indikar0/jpic/pb1k/geneformer/TGGATGTTCTCTCCGA_TSP4_Uterus_Endometrium_10X_1_1.h5ad\n",
      "output_file='/scratch/indikar_root/indikar0/jpic/pb1k/geneformer/GCCGTGAAGGAAAGTG_TSP4_Uterus_Endometrium_10X_1_1.h5ad'\n",
      "Processing file: GCCGTGAAGGAAAGTG_TSP4_Uterus_Endometrium_10X_1_1.h5ad\n",
      "output_directory='/scratch/indikar_root/indikar0/jpic/pb1k/geneformer'\n",
      "l212: output_path='/scratch/indikar_root/indikar0/jpic/pb1k/geneformer'\n",
      "l213: type(output_path)=<class 'str'>\n",
      "l214: (output_path==None)=False\n",
      "Tokenizing the dataset\n"
     ]
    },
    {
     "data": {
      "application/vnd.jupyter.widget-view+json": {
       "model_id": "272ace2eac284544a01c17a814682395",
       "version_major": 2,
       "version_minor": 0
      },
      "text/plain": [
       "Map (num_proc=16):   0%|          | 0/16371 [00:00<?, ? examples/s]"
      ]
     },
     "metadata": {},
     "output_type": "display_data"
    },
    {
     "data": {
      "application/vnd.jupyter.widget-view+json": {
       "model_id": "08b484828bfc4668ace60588a19f0ae8",
       "version_major": 2,
       "version_minor": 0
      },
      "text/plain": [
       "Saving the dataset (0/1 shards):   0%|          | 0/16371 [00:00<?, ? examples/s]"
      ]
     },
     "metadata": {},
     "output_type": "display_data"
    },
    {
     "name": "stdout",
     "output_type": "stream",
     "text": [
      "/nfs/turbo/umms-indikar/shared/projects/geneformer/geneformer-12L-30M/\n"
     ]
    },
    {
     "data": {
      "application/vnd.jupyter.widget-view+json": {
       "model_id": "213447b6ee4c42f691446f90ef927075",
       "version_major": 2,
       "version_minor": 0
      },
      "text/plain": [
       "  0%|          | 0/1638 [00:00<?, ?it/s]"
      ]
     },
     "metadata": {},
     "output_type": "display_data"
    },
    {
     "name": "stdout",
     "output_type": "stream",
     "text": [
      "Embedding saved to: /scratch/indikar_root/indikar0/jpic/pb1k/geneformer/GCCGTGAAGGAAAGTG_TSP4_Uterus_Endometrium_10X_1_1.h5ad\n",
      "output_file='/scratch/indikar_root/indikar0/jpic/pb1k/geneformer/TACCCACTCCGAGATT_TSP10_FAT_SCAT_10X_1_1.h5ad'\n",
      "Processing file: TACCCACTCCGAGATT_TSP10_FAT_SCAT_10X_1_1.h5ad\n",
      "output_directory='/scratch/indikar_root/indikar0/jpic/pb1k/geneformer'\n",
      "l212: output_path='/scratch/indikar_root/indikar0/jpic/pb1k/geneformer'\n",
      "l213: type(output_path)=<class 'str'>\n",
      "l214: (output_path==None)=False\n",
      "Tokenizing the dataset\n"
     ]
    },
    {
     "data": {
      "application/vnd.jupyter.widget-view+json": {
       "model_id": "16fad4e989c24d51bba14c24bb5c89ba",
       "version_major": 2,
       "version_minor": 0
      },
      "text/plain": [
       "Map (num_proc=16):   0%|          | 0/16371 [00:00<?, ? examples/s]"
      ]
     },
     "metadata": {},
     "output_type": "display_data"
    },
    {
     "data": {
      "application/vnd.jupyter.widget-view+json": {
       "model_id": "3cc4824f8c624b87ac8beecd0fbacd0a",
       "version_major": 2,
       "version_minor": 0
      },
      "text/plain": [
       "Saving the dataset (0/1 shards):   0%|          | 0/16371 [00:00<?, ? examples/s]"
      ]
     },
     "metadata": {},
     "output_type": "display_data"
    },
    {
     "name": "stdout",
     "output_type": "stream",
     "text": [
      "/nfs/turbo/umms-indikar/shared/projects/geneformer/geneformer-12L-30M/\n"
     ]
    },
    {
     "data": {
      "application/vnd.jupyter.widget-view+json": {
       "model_id": "def046e6ac7249bb92ab3e585e699f60",
       "version_major": 2,
       "version_minor": 0
      },
      "text/plain": [
       "  0%|          | 0/1638 [00:00<?, ?it/s]"
      ]
     },
     "metadata": {},
     "output_type": "display_data"
    },
    {
     "name": "stdout",
     "output_type": "stream",
     "text": [
      "Embedding saved to: /scratch/indikar_root/indikar0/jpic/pb1k/geneformer/TACCCACTCCGAGATT_TSP10_FAT_SCAT_10X_1_1.h5ad\n",
      "File already exists, skipping: /scratch/indikar_root/indikar0/jpic/pb1k/geneformer/B107813_E8_S288.homo.gencode.v30.ERCC.chrM.h5ad\n",
      "output_file='/scratch/indikar_root/indikar0/jpic/pb1k/geneformer/GCATTAGGTTATTCCT_TSP10_FAT_SCAT_10X_1_1.h5ad'\n",
      "Processing file: GCATTAGGTTATTCCT_TSP10_FAT_SCAT_10X_1_1.h5ad\n",
      "output_directory='/scratch/indikar_root/indikar0/jpic/pb1k/geneformer'\n",
      "l212: output_path='/scratch/indikar_root/indikar0/jpic/pb1k/geneformer'\n",
      "l213: type(output_path)=<class 'str'>\n",
      "l214: (output_path==None)=False\n",
      "Tokenizing the dataset\n"
     ]
    },
    {
     "data": {
      "application/vnd.jupyter.widget-view+json": {
       "model_id": "b3519badd45944559a9d2cbf24db943c",
       "version_major": 2,
       "version_minor": 0
      },
      "text/plain": [
       "Map (num_proc=16):   0%|          | 0/16371 [00:00<?, ? examples/s]"
      ]
     },
     "metadata": {},
     "output_type": "display_data"
    },
    {
     "data": {
      "application/vnd.jupyter.widget-view+json": {
       "model_id": "d5412e023d4d4cea84390ef8152ad84c",
       "version_major": 2,
       "version_minor": 0
      },
      "text/plain": [
       "Saving the dataset (0/1 shards):   0%|          | 0/16371 [00:00<?, ? examples/s]"
      ]
     },
     "metadata": {},
     "output_type": "display_data"
    },
    {
     "name": "stdout",
     "output_type": "stream",
     "text": [
      "/nfs/turbo/umms-indikar/shared/projects/geneformer/geneformer-12L-30M/\n"
     ]
    },
    {
     "data": {
      "application/vnd.jupyter.widget-view+json": {
       "model_id": "92ae3bac6da746ffbea2cb98a0f41834",
       "version_major": 2,
       "version_minor": 0
      },
      "text/plain": [
       "  0%|          | 0/1638 [00:00<?, ?it/s]"
      ]
     },
     "metadata": {},
     "output_type": "display_data"
    },
    {
     "name": "stdout",
     "output_type": "stream",
     "text": [
      "Embedding saved to: /scratch/indikar_root/indikar0/jpic/pb1k/geneformer/GCATTAGGTTATTCCT_TSP10_FAT_SCAT_10X_1_1.h5ad\n",
      "output_file='/scratch/indikar_root/indikar0/jpic/pb1k/geneformer/AGTGATCGTCTAGTGT_TSP8_Prostate_NA_10X_1_2.h5ad'\n",
      "Processing file: AGTGATCGTCTAGTGT_TSP8_Prostate_NA_10X_1_2.h5ad\n",
      "output_directory='/scratch/indikar_root/indikar0/jpic/pb1k/geneformer'\n",
      "l212: output_path='/scratch/indikar_root/indikar0/jpic/pb1k/geneformer'\n",
      "l213: type(output_path)=<class 'str'>\n",
      "l214: (output_path==None)=False\n",
      "Tokenizing the dataset\n"
     ]
    },
    {
     "data": {
      "application/vnd.jupyter.widget-view+json": {
       "model_id": "ce0ef7bd683d43a8b4d10d905d48f19a",
       "version_major": 2,
       "version_minor": 0
      },
      "text/plain": [
       "Map (num_proc=16):   0%|          | 0/16371 [00:00<?, ? examples/s]"
      ]
     },
     "metadata": {},
     "output_type": "display_data"
    },
    {
     "data": {
      "application/vnd.jupyter.widget-view+json": {
       "model_id": "ea7689ad7eb6465cb23b3aeeafa0ada8",
       "version_major": 2,
       "version_minor": 0
      },
      "text/plain": [
       "Saving the dataset (0/1 shards):   0%|          | 0/16371 [00:00<?, ? examples/s]"
      ]
     },
     "metadata": {},
     "output_type": "display_data"
    },
    {
     "name": "stdout",
     "output_type": "stream",
     "text": [
      "/nfs/turbo/umms-indikar/shared/projects/geneformer/geneformer-12L-30M/\n"
     ]
    },
    {
     "data": {
      "application/vnd.jupyter.widget-view+json": {
       "model_id": "e5c81b9bcf8744daaca9ff722d01dce3",
       "version_major": 2,
       "version_minor": 0
      },
      "text/plain": [
       "  0%|          | 0/1638 [00:00<?, ?it/s]"
      ]
     },
     "metadata": {},
     "output_type": "display_data"
    },
    {
     "name": "stdout",
     "output_type": "stream",
     "text": [
      "Embedding saved to: /scratch/indikar_root/indikar0/jpic/pb1k/geneformer/AGTGATCGTCTAGTGT_TSP8_Prostate_NA_10X_1_2.h5ad\n",
      "output_file='/scratch/indikar_root/indikar0/jpic/pb1k/geneformer/GGCAGTCGTTGCTGAT_TSP14_Vasculature_AortaVeneCava_10X_1_1.h5ad'\n",
      "Processing file: GGCAGTCGTTGCTGAT_TSP14_Vasculature_AortaVeneCava_10X_1_1.h5ad\n",
      "output_directory='/scratch/indikar_root/indikar0/jpic/pb1k/geneformer'\n",
      "l212: output_path='/scratch/indikar_root/indikar0/jpic/pb1k/geneformer'\n",
      "l213: type(output_path)=<class 'str'>\n",
      "l214: (output_path==None)=False\n",
      "Tokenizing the dataset\n"
     ]
    },
    {
     "data": {
      "application/vnd.jupyter.widget-view+json": {
       "model_id": "6a072e44cd2d48beb61c334a3497e20d",
       "version_major": 2,
       "version_minor": 0
      },
      "text/plain": [
       "Map (num_proc=16):   0%|          | 0/16371 [00:00<?, ? examples/s]"
      ]
     },
     "metadata": {},
     "output_type": "display_data"
    },
    {
     "data": {
      "application/vnd.jupyter.widget-view+json": {
       "model_id": "78d7a0146f0c4e2e9ddf37e017799f94",
       "version_major": 2,
       "version_minor": 0
      },
      "text/plain": [
       "Saving the dataset (0/1 shards):   0%|          | 0/16371 [00:00<?, ? examples/s]"
      ]
     },
     "metadata": {},
     "output_type": "display_data"
    },
    {
     "name": "stdout",
     "output_type": "stream",
     "text": [
      "/nfs/turbo/umms-indikar/shared/projects/geneformer/geneformer-12L-30M/\n"
     ]
    },
    {
     "data": {
      "application/vnd.jupyter.widget-view+json": {
       "model_id": "020a41662a6d4f6a96b016a77746913a",
       "version_major": 2,
       "version_minor": 0
      },
      "text/plain": [
       "  0%|          | 0/1638 [00:00<?, ?it/s]"
      ]
     },
     "metadata": {},
     "output_type": "display_data"
    },
    {
     "name": "stdout",
     "output_type": "stream",
     "text": [
      "Embedding saved to: /scratch/indikar_root/indikar0/jpic/pb1k/geneformer/GGCAGTCGTTGCTGAT_TSP14_Vasculature_AortaVeneCava_10X_1_1.h5ad\n",
      "output_file='/scratch/indikar_root/indikar0/jpic/pb1k/geneformer/GTAACCATCGAACGGA_TSP4_Uterus_Endometrium_10X_1_1.h5ad'\n",
      "Processing file: GTAACCATCGAACGGA_TSP4_Uterus_Endometrium_10X_1_1.h5ad\n",
      "output_directory='/scratch/indikar_root/indikar0/jpic/pb1k/geneformer'\n",
      "l212: output_path='/scratch/indikar_root/indikar0/jpic/pb1k/geneformer'\n",
      "l213: type(output_path)=<class 'str'>\n",
      "l214: (output_path==None)=False\n",
      "Tokenizing the dataset\n"
     ]
    },
    {
     "data": {
      "application/vnd.jupyter.widget-view+json": {
       "model_id": "935393b54f0940138040a8f4db5eb929",
       "version_major": 2,
       "version_minor": 0
      },
      "text/plain": [
       "Map (num_proc=16):   0%|          | 0/16371 [00:00<?, ? examples/s]"
      ]
     },
     "metadata": {},
     "output_type": "display_data"
    },
    {
     "data": {
      "application/vnd.jupyter.widget-view+json": {
       "model_id": "95f26516090c4d79b529df85fa438d43",
       "version_major": 2,
       "version_minor": 0
      },
      "text/plain": [
       "Saving the dataset (0/1 shards):   0%|          | 0/16371 [00:00<?, ? examples/s]"
      ]
     },
     "metadata": {},
     "output_type": "display_data"
    },
    {
     "name": "stdout",
     "output_type": "stream",
     "text": [
      "/nfs/turbo/umms-indikar/shared/projects/geneformer/geneformer-12L-30M/\n"
     ]
    },
    {
     "data": {
      "application/vnd.jupyter.widget-view+json": {
       "model_id": "270aee7d096c4a94af8d7d5ab0250acd",
       "version_major": 2,
       "version_minor": 0
      },
      "text/plain": [
       "  0%|          | 0/1638 [00:00<?, ?it/s]"
      ]
     },
     "metadata": {},
     "output_type": "display_data"
    },
    {
     "name": "stdout",
     "output_type": "stream",
     "text": [
      "Embedding saved to: /scratch/indikar_root/indikar0/jpic/pb1k/geneformer/GTAACCATCGAACGGA_TSP4_Uterus_Endometrium_10X_1_1.h5ad\n",
      "output_file='/scratch/indikar_root/indikar0/jpic/pb1k/geneformer/GGGCATCAGACTGGGT_TSP14_Thymus_NA_10X_2_1_5Prime.h5ad'\n",
      "Processing file: GGGCATCAGACTGGGT_TSP14_Thymus_NA_10X_2_1_5Prime.h5ad\n",
      "output_directory='/scratch/indikar_root/indikar0/jpic/pb1k/geneformer'\n",
      "l212: output_path='/scratch/indikar_root/indikar0/jpic/pb1k/geneformer'\n",
      "l213: type(output_path)=<class 'str'>\n",
      "l214: (output_path==None)=False\n",
      "Tokenizing the dataset\n"
     ]
    },
    {
     "data": {
      "application/vnd.jupyter.widget-view+json": {
       "model_id": "610772c5cbe64d0390c79a0bd47ae3f8",
       "version_major": 2,
       "version_minor": 0
      },
      "text/plain": [
       "Map (num_proc=16):   0%|          | 0/16371 [00:00<?, ? examples/s]"
      ]
     },
     "metadata": {},
     "output_type": "display_data"
    },
    {
     "data": {
      "application/vnd.jupyter.widget-view+json": {
       "model_id": "379cdd77b2184ad080c2b6c72d7dd3c7",
       "version_major": 2,
       "version_minor": 0
      },
      "text/plain": [
       "Saving the dataset (0/1 shards):   0%|          | 0/16371 [00:00<?, ? examples/s]"
      ]
     },
     "metadata": {},
     "output_type": "display_data"
    },
    {
     "name": "stdout",
     "output_type": "stream",
     "text": [
      "/nfs/turbo/umms-indikar/shared/projects/geneformer/geneformer-12L-30M/\n"
     ]
    },
    {
     "data": {
      "application/vnd.jupyter.widget-view+json": {
       "model_id": "a009bc1f67b44911a2bb15ff4568d540",
       "version_major": 2,
       "version_minor": 0
      },
      "text/plain": [
       "  0%|          | 0/1638 [00:00<?, ?it/s]"
      ]
     },
     "metadata": {},
     "output_type": "display_data"
    },
    {
     "name": "stdout",
     "output_type": "stream",
     "text": [
      "Embedding saved to: /scratch/indikar_root/indikar0/jpic/pb1k/geneformer/GGGCATCAGACTGGGT_TSP14_Thymus_NA_10X_2_1_5Prime.h5ad\n",
      "output_file='/scratch/indikar_root/indikar0/jpic/pb1k/geneformer/GTAATCGGTCTTCAAG_TSP10_FAT_MAT_10X_1_1.h5ad'\n",
      "Processing file: GTAATCGGTCTTCAAG_TSP10_FAT_MAT_10X_1_1.h5ad\n",
      "output_directory='/scratch/indikar_root/indikar0/jpic/pb1k/geneformer'\n",
      "l212: output_path='/scratch/indikar_root/indikar0/jpic/pb1k/geneformer'\n",
      "l213: type(output_path)=<class 'str'>\n",
      "l214: (output_path==None)=False\n",
      "Tokenizing the dataset\n"
     ]
    },
    {
     "data": {
      "application/vnd.jupyter.widget-view+json": {
       "model_id": "675568c395614c539e336947ce579dcb",
       "version_major": 2,
       "version_minor": 0
      },
      "text/plain": [
       "Map (num_proc=16):   0%|          | 0/16371 [00:00<?, ? examples/s]"
      ]
     },
     "metadata": {},
     "output_type": "display_data"
    },
    {
     "data": {
      "application/vnd.jupyter.widget-view+json": {
       "model_id": "5f3238a164a7426b8c611018495abfc3",
       "version_major": 2,
       "version_minor": 0
      },
      "text/plain": [
       "Saving the dataset (0/1 shards):   0%|          | 0/16371 [00:00<?, ? examples/s]"
      ]
     },
     "metadata": {},
     "output_type": "display_data"
    },
    {
     "name": "stdout",
     "output_type": "stream",
     "text": [
      "/nfs/turbo/umms-indikar/shared/projects/geneformer/geneformer-12L-30M/\n"
     ]
    },
    {
     "data": {
      "application/vnd.jupyter.widget-view+json": {
       "model_id": "f74913e018df4e3f83933e7a7b192d4a",
       "version_major": 2,
       "version_minor": 0
      },
      "text/plain": [
       "  0%|          | 0/1638 [00:00<?, ?it/s]"
      ]
     },
     "metadata": {},
     "output_type": "display_data"
    },
    {
     "name": "stdout",
     "output_type": "stream",
     "text": [
      "Embedding saved to: /scratch/indikar_root/indikar0/jpic/pb1k/geneformer/GTAATCGGTCTTCAAG_TSP10_FAT_MAT_10X_1_1.h5ad\n",
      "File already exists, skipping: /scratch/indikar_root/indikar0/jpic/pb1k/geneformer/AGTACTGAGCCATTCA_TSP14_Fat_SCAT_10X_1_1.h5ad\n",
      "output_file='/scratch/indikar_root/indikar0/jpic/pb1k/geneformer/ATTCCATAGTTTGGCT_TSP14_Vasculature_CoronaryArteries_10X_1_1.h5ad'\n",
      "Processing file: ATTCCATAGTTTGGCT_TSP14_Vasculature_CoronaryArteries_10X_1_1.h5ad\n",
      "output_directory='/scratch/indikar_root/indikar0/jpic/pb1k/geneformer'\n",
      "l212: output_path='/scratch/indikar_root/indikar0/jpic/pb1k/geneformer'\n",
      "l213: type(output_path)=<class 'str'>\n",
      "l214: (output_path==None)=False\n",
      "Tokenizing the dataset\n"
     ]
    },
    {
     "data": {
      "application/vnd.jupyter.widget-view+json": {
       "model_id": "13267ae4345b4715a5b23f625681c139",
       "version_major": 2,
       "version_minor": 0
      },
      "text/plain": [
       "Map (num_proc=16):   0%|          | 0/16371 [00:00<?, ? examples/s]"
      ]
     },
     "metadata": {},
     "output_type": "display_data"
    },
    {
     "data": {
      "application/vnd.jupyter.widget-view+json": {
       "model_id": "a3b4675754284623bd0acd2d3a0cde40",
       "version_major": 2,
       "version_minor": 0
      },
      "text/plain": [
       "Saving the dataset (0/1 shards):   0%|          | 0/16371 [00:00<?, ? examples/s]"
      ]
     },
     "metadata": {},
     "output_type": "display_data"
    },
    {
     "name": "stdout",
     "output_type": "stream",
     "text": [
      "/nfs/turbo/umms-indikar/shared/projects/geneformer/geneformer-12L-30M/\n"
     ]
    },
    {
     "data": {
      "application/vnd.jupyter.widget-view+json": {
       "model_id": "818c9065049144bda26fbc6a5d6b39a1",
       "version_major": 2,
       "version_minor": 0
      },
      "text/plain": [
       "  0%|          | 0/1638 [00:00<?, ?it/s]"
      ]
     },
     "metadata": {},
     "output_type": "display_data"
    },
    {
     "name": "stdout",
     "output_type": "stream",
     "text": [
      "Embedding saved to: /scratch/indikar_root/indikar0/jpic/pb1k/geneformer/ATTCCATAGTTTGGCT_TSP14_Vasculature_CoronaryArteries_10X_1_1.h5ad\n",
      "output_file='/scratch/indikar_root/indikar0/jpic/pb1k/geneformer/ATTGGACCAAGGACTG_TSP14_Thymus_NA_10X_2_1_5Prime.h5ad'\n",
      "Processing file: ATTGGACCAAGGACTG_TSP14_Thymus_NA_10X_2_1_5Prime.h5ad\n",
      "output_directory='/scratch/indikar_root/indikar0/jpic/pb1k/geneformer'\n",
      "l212: output_path='/scratch/indikar_root/indikar0/jpic/pb1k/geneformer'\n",
      "l213: type(output_path)=<class 'str'>\n",
      "l214: (output_path==None)=False\n",
      "Tokenizing the dataset\n"
     ]
    },
    {
     "data": {
      "application/vnd.jupyter.widget-view+json": {
       "model_id": "d63ecacf43de40bda59d16a2689d48ab",
       "version_major": 2,
       "version_minor": 0
      },
      "text/plain": [
       "Map (num_proc=16):   0%|          | 0/16371 [00:00<?, ? examples/s]"
      ]
     },
     "metadata": {},
     "output_type": "display_data"
    },
    {
     "data": {
      "application/vnd.jupyter.widget-view+json": {
       "model_id": "21b64e8cb4c54920b8247c630dff071c",
       "version_major": 2,
       "version_minor": 0
      },
      "text/plain": [
       "Saving the dataset (0/1 shards):   0%|          | 0/16371 [00:00<?, ? examples/s]"
      ]
     },
     "metadata": {},
     "output_type": "display_data"
    },
    {
     "name": "stdout",
     "output_type": "stream",
     "text": [
      "/nfs/turbo/umms-indikar/shared/projects/geneformer/geneformer-12L-30M/\n"
     ]
    },
    {
     "data": {
      "application/vnd.jupyter.widget-view+json": {
       "model_id": "a2e26f4428de4465830b4994b9ae98e9",
       "version_major": 2,
       "version_minor": 0
      },
      "text/plain": [
       "  0%|          | 0/1638 [00:00<?, ?it/s]"
      ]
     },
     "metadata": {},
     "output_type": "display_data"
    },
    {
     "name": "stdout",
     "output_type": "stream",
     "text": [
      "Embedding saved to: /scratch/indikar_root/indikar0/jpic/pb1k/geneformer/ATTGGACCAAGGACTG_TSP14_Thymus_NA_10X_2_1_5Prime.h5ad\n",
      "output_file='/scratch/indikar_root/indikar0/jpic/pb1k/geneformer/CTGGCAGCAGCCATTA_TSP14_Fat_SCAT_10X_1_1.h5ad'\n"
     ]
    }
   ],
   "source": [
    "for array_id in range(len(h5ad_files)):\n",
    "    # Get the specific file based on the SLURM array task ID\n",
    "    filename = h5ad_files[array_id]\n",
    "    file_path = os.path.join(input_path, filename)\n",
    "    output_file = os.path.join(output_path, filename)\n",
    "\n",
    "    # If the output file already exists, skip processing\n",
    "    if os.path.exists(output_file):\n",
    "        print(f\"File already exists, skipping: {output_file}\")\n",
    "    else:\n",
    "        print(f\"{output_file=}\")\n",
    "        # Read the file\n",
    "        adata = sc.read_h5ad(file_path)\n",
    "    \n",
    "        # Change the ENSG ids to conform to GF tokenization\n",
    "        adata.var['endembdid_split'] = adata.var['ensemblid'].str.split('.').str[0]\n",
    "    \n",
    "        # Print debugging information\n",
    "        print(f\"Processing file: {filename}\")\n",
    "    \n",
    "        # Embed the AnnData object using Geneformer\n",
    "        embedAdGF = embed(adata, 'geneformer',\n",
    "                          output_directory=output_path,\n",
    "                          output_file=os.path.splitext(os.path.basename(filename))[0],\n",
    "                          genenameloc='endembdid_split',\n",
    "                          n_counts_column='n_counts_UMIs'\n",
    "                         )\n",
    "    \n",
    "        # Save the resulting embedding to the output file\n",
    "        embedAdGF.write_h5ad(output_file)\n",
    "        print(f\"Embedding saved to: {output_file}\")\n",
    "print(\"Job is complete\")\n"
   ]
  },
  {
   "cell_type": "code",
   "execution_count": null,
   "id": "95322e6d-8f16-4780-9083-65ecd19addbf",
   "metadata": {},
   "outputs": [],
   "source": []
  }
 ],
 "metadata": {
  "kernelspec": {
   "display_name": "Python 3 (ipykernel)",
   "language": "python",
   "name": "python3"
  },
  "language_info": {
   "codemirror_mode": {
    "name": "ipython",
    "version": 3
   },
   "file_extension": ".py",
   "mimetype": "text/x-python",
   "name": "python",
   "nbconvert_exporter": "python",
   "pygments_lexer": "ipython3",
   "version": "3.11.7"
  }
 },
 "nbformat": 4,
 "nbformat_minor": 5
}
