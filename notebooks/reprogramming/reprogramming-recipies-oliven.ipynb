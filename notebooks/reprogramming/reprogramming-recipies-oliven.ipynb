{
 "cells": [
  {
   "cell_type": "markdown",
   "id": "3be52c6f-6647-4d93-b0bf-3e05e87917e1",
   "metadata": {},
   "source": [
    "# Reprogramming Recepies\n",
    "\n",
    "Auth: [Joshua Pickard](jpic@umich.edu)\n",
    "\n",
    "Date: August 26, 2024"
   ]
  },
  {
   "cell_type": "markdown",
   "id": "cad2d9cc-78c2-4d3c-a3c2-b0710a27000c",
   "metadata": {},
   "source": [
    "# Day 1"
   ]
  },
  {
   "cell_type": "code",
   "execution_count": 2,
   "id": "af06fdf6-e799-4be5-89d7-ec85d7278c1e",
   "metadata": {},
   "outputs": [],
   "source": [
    "import numpy as np\n",
    "import pandas as pd\n",
    "import scanpy as sp\n",
    "import os"
   ]
  },
  {
   "cell_type": "markdown",
   "id": "7bb10707-df05-4e7d-a9a4-bd301ab5cd69",
   "metadata": {},
   "source": [
    "## Perturbation Model Discussion\n",
    "\n",
    "E.V. = expression values\n",
    "\n",
    "Possible algorithm:\n",
    "```\n",
    "1. find highest E.V.  for a single cell\n",
    "2. find expression value of TFs being modified\n",
    "3. have a value k for the number of different concentrations we want to test\n",
    "4. choose k different amounts to increase the TFs from there measured E.V. to the 150% maximum E.V.\n",
    "   - make an arbitray choice and code it up\n",
    "```\n",
    "\n",
    "**A reasonable person could write this 10s of different ways**"
   ]
  },
  {
   "cell_type": "code",
   "execution_count": 3,
   "id": "206882c6-cec6-4a8b-9605-bfdc8b058823",
   "metadata": {},
   "outputs": [
    {
     "data": {
      "text/plain": [
       "AnnData object with n_obs × n_vars = 104148 × 58870\n",
       "    obs: 'organ_tissue', 'method', 'donor', 'anatomical_information', 'n_counts_UMIs', 'n_genes', 'cell_ontology_class', 'free_annotation', 'manually_annotated', 'compartment', 'gender'\n",
       "    var: 'gene_symbol', 'feature_type', 'ensemblid', 'highly_variable', 'means', 'dispersions', 'dispersions_norm', 'mean', 'std'\n",
       "    uns: '_scvi', '_training_mode', 'dendrogram_cell_type_tissue', 'dendrogram_computational_compartment_assignment', 'dendrogram_consensus_prediction', 'dendrogram_tissue_cell_type', 'donor_colors', 'donor_method_colors', 'hvg', 'method_colors', 'neighbors', 'organ_tissue_colors', 'sex_colors', 'tissue_colors', 'umap'\n",
       "    obsm: 'X_pca', 'X_scvi', 'X_scvi_umap', 'X_umap'\n",
       "    layers: 'decontXcounts', 'raw_counts'\n",
       "    obsp: 'connectivities', 'distances'"
      ]
     },
     "execution_count": 3,
     "metadata": {},
     "output_type": "execute_result"
    }
   ],
   "source": [
    "import numpy as np\n",
    "# median nonzero value of each row\n",
    "# the w stands for working. I just dont want to screw up the original.\n",
    "DATAPATH = \"/nfs/turbo/umms-indikar/shared/projects/DGC/data/tabula_sapiens/extract/\"\n",
    "FILE = \"TS_epithelial.h5ad\"\n",
    "adata_w = sp.read_h5ad(os.path.join(DATAPATH, FILE))\n",
    "adata_w\n",
    "# def median_nonzero(col):\n",
    "#     nonzero_vals = col[col != 0]  # Extract nonzero values\n",
    "#     if len(nonzero_vals) == 0:    # If no nonzero values, return NaN\n",
    "#         return np.nan\n",
    "#     return np.median(nonzero_vals)\n",
    "\n",
    "# # Apply the function to each column and store the results\n",
    "# med_nonz = np.apply_along_axis(median_nonzero, axis=0, arr=adata_w.X)\n",
    "# adata_w.var['med_nonz'] = med_nonz\n",
    "# adata_w.var"
   ]
  },
  {
   "cell_type": "code",
   "execution_count": 4,
   "id": "6e8d3635-dfd9-4412-9d95-cfcbfdf0fcc5",
   "metadata": {},
   "outputs": [],
   "source": [
    "import numpy as np\n",
    "\n",
    "\n",
    "X = adata_w.X.toarray() if not isinstance(adata_w.X, np.ndarray) else adata_w.X\n",
    "\n",
    "def median_nonzero(col):\n",
    "    nonzero_vals = col[col != 0] \n",
    "    return np.median(nonzero_vals) if len(nonzero_vals) > 0 else 0\n",
    "\n",
    "#perform and save results of fn\n",
    "med_nonz = np.apply_along_axis(median_nonzero, axis=0, arr=X)\n",
    "adata_w.var['med_nonz'] = med_nonz\n"
   ]
  },
  {
   "cell_type": "code",
   "execution_count": 5,
   "id": "06553f13-9b94-4a5f-9039-bcf183b14ac6",
   "metadata": {},
   "outputs": [
    {
     "data": {
      "text/html": [
       "<div>\n",
       "<style scoped>\n",
       "    .dataframe tbody tr th:only-of-type {\n",
       "        vertical-align: middle;\n",
       "    }\n",
       "\n",
       "    .dataframe tbody tr th {\n",
       "        vertical-align: top;\n",
       "    }\n",
       "\n",
       "    .dataframe thead th {\n",
       "        text-align: right;\n",
       "    }\n",
       "</style>\n",
       "<table border=\"1\" class=\"dataframe\">\n",
       "  <thead>\n",
       "    <tr style=\"text-align: right;\">\n",
       "      <th></th>\n",
       "      <th>gene_symbol</th>\n",
       "      <th>feature_type</th>\n",
       "      <th>ensemblid</th>\n",
       "      <th>highly_variable</th>\n",
       "      <th>means</th>\n",
       "      <th>dispersions</th>\n",
       "      <th>dispersions_norm</th>\n",
       "      <th>mean</th>\n",
       "      <th>std</th>\n",
       "      <th>med_nonz</th>\n",
       "    </tr>\n",
       "  </thead>\n",
       "  <tbody>\n",
       "    <tr>\n",
       "      <th>DDX11L1</th>\n",
       "      <td>DDX11L1</td>\n",
       "      <td>Gene Expression</td>\n",
       "      <td>ENSG00000223972.5</td>\n",
       "      <td>False</td>\n",
       "      <td>6.398244e-05</td>\n",
       "      <td>0.835044</td>\n",
       "      <td>-0.573947</td>\n",
       "      <td>0.000039</td>\n",
       "      <td>0.005574</td>\n",
       "      <td>6.029026</td>\n",
       "    </tr>\n",
       "    <tr>\n",
       "      <th>WASH7P</th>\n",
       "      <td>WASH7P</td>\n",
       "      <td>Gene Expression</td>\n",
       "      <td>ENSG00000227232.5</td>\n",
       "      <td>False</td>\n",
       "      <td>2.274395e-03</td>\n",
       "      <td>2.442280</td>\n",
       "      <td>0.533203</td>\n",
       "      <td>0.001080</td>\n",
       "      <td>0.031731</td>\n",
       "      <td>0.770418</td>\n",
       "    </tr>\n",
       "    <tr>\n",
       "      <th>MIR6859-1</th>\n",
       "      <td>MIR6859-1</td>\n",
       "      <td>Gene Expression</td>\n",
       "      <td>ENSG00000278267.1</td>\n",
       "      <td>False</td>\n",
       "      <td>6.175251e-05</td>\n",
       "      <td>1.295335</td>\n",
       "      <td>-0.256874</td>\n",
       "      <td>0.000033</td>\n",
       "      <td>0.005634</td>\n",
       "      <td>10.000000</td>\n",
       "    </tr>\n",
       "    <tr>\n",
       "      <th>MIR1302-2HG</th>\n",
       "      <td>MIR1302-2HG</td>\n",
       "      <td>Gene Expression</td>\n",
       "      <td>ENSG00000243485.5</td>\n",
       "      <td>False</td>\n",
       "      <td>1.372886e-04</td>\n",
       "      <td>2.656352</td>\n",
       "      <td>0.680668</td>\n",
       "      <td>0.000048</td>\n",
       "      <td>0.008041</td>\n",
       "      <td>5.042750</td>\n",
       "    </tr>\n",
       "    <tr>\n",
       "      <th>MIR1302-2</th>\n",
       "      <td>MIR1302-2</td>\n",
       "      <td>Gene Expression</td>\n",
       "      <td>ENSG00000284332.1</td>\n",
       "      <td>False</td>\n",
       "      <td>1.000000e-12</td>\n",
       "      <td>NaN</td>\n",
       "      <td>0.000000</td>\n",
       "      <td>0.000000</td>\n",
       "      <td>1.000000</td>\n",
       "      <td>0.000000</td>\n",
       "    </tr>\n",
       "  </tbody>\n",
       "</table>\n",
       "</div>"
      ],
      "text/plain": [
       "             gene_symbol     feature_type          ensemblid  highly_variable  \\\n",
       "DDX11L1          DDX11L1  Gene Expression  ENSG00000223972.5            False   \n",
       "WASH7P            WASH7P  Gene Expression  ENSG00000227232.5            False   \n",
       "MIR6859-1      MIR6859-1  Gene Expression  ENSG00000278267.1            False   \n",
       "MIR1302-2HG  MIR1302-2HG  Gene Expression  ENSG00000243485.5            False   \n",
       "MIR1302-2      MIR1302-2  Gene Expression  ENSG00000284332.1            False   \n",
       "\n",
       "                    means  dispersions  dispersions_norm      mean       std  \\\n",
       "DDX11L1      6.398244e-05     0.835044         -0.573947  0.000039  0.005574   \n",
       "WASH7P       2.274395e-03     2.442280          0.533203  0.001080  0.031731   \n",
       "MIR6859-1    6.175251e-05     1.295335         -0.256874  0.000033  0.005634   \n",
       "MIR1302-2HG  1.372886e-04     2.656352          0.680668  0.000048  0.008041   \n",
       "MIR1302-2    1.000000e-12          NaN          0.000000  0.000000  1.000000   \n",
       "\n",
       "              med_nonz  \n",
       "DDX11L1       6.029026  \n",
       "WASH7P        0.770418  \n",
       "MIR6859-1    10.000000  \n",
       "MIR1302-2HG   5.042750  \n",
       "MIR1302-2     0.000000  "
      ]
     },
     "execution_count": 5,
     "metadata": {},
     "output_type": "execute_result"
    }
   ],
   "source": [
    "adata_w.var.head()"
   ]
  },
  {
   "cell_type": "code",
   "execution_count": 9,
   "id": "92f2c287-8651-4280-b369-60bcae264beb",
   "metadata": {},
   "outputs": [
    {
     "name": "stdout",
     "output_type": "stream",
     "text": [
      "[[0.        0.        0.        ... 4.490315  0.        0.       ]\n",
      " [0.        0.        0.        ... 4.4802847 0.        0.       ]\n",
      " [0.        0.        0.        ... 4.457717  0.        0.       ]\n",
      " ...\n",
      " [0.        0.        0.        ... 4.9418464 0.        0.       ]\n",
      " [0.        0.        0.        ... 4.8312063 0.        0.       ]\n",
      " [0.        0.        0.        ... 5.0140185 0.        0.       ]]\n"
     ]
    }
   ],
   "source": [
    "# seeing what it looks like before tf_list changes the first 3 rows\n",
    "# Convert to dense if it's sparse and display the first five rows\n",
    "import numpy as np\n",
    "\n",
    "# Convert to a dense array if necessary\n",
    "dense_X = adata_w.X.toarray() if not isinstance(adata_w.X, np.ndarray) else adata_w.X\n",
    "\n"
   ]
  },
  {
   "cell_type": "code",
   "execution_count": 25,
   "id": "621349c1-2e81-4842-b701-ef86075bebc8",
   "metadata": {},
   "outputs": [
    {
     "name": "stderr",
     "output_type": "stream",
     "text": [
      "/sw/pkgs/arc/python3.11-anaconda/2024.02-1/lib/python3.11/site-packages/scipy/sparse/_index.py:143: SparseEfficiencyWarning: Changing the sparsity structure of a csr_matrix is expensive. lil_matrix is more efficient.\n",
      "  self._set_arrayXarray(i, j, x)\n"
     ]
    }
   ],
   "source": [
    "# problem, scaling by a factor of the max expressed gene in that cell means that you could be scaling by different genes for each cell,\n",
    "# when the cells are all of the same type. for each get the median nonzero expression\n",
    "\n",
    "# for testing purposes: v\n",
    "tf_list = ['DDX11L1', 'WASH7P', 'MIR6859-1']\n",
    "tf = 'DDX11L1'\n",
    "# for testing purposes: ^\n",
    "\n",
    "#mask = adata_w.obs_names.isin(tf_list)\n",
    "mask = np.where(adata_w.var['gene_symbol'] == tf)[0]\n",
    "adata_w.X[mask, :] = adata_w.X[mask, :] * adata_w.var['med_nonz'].values \n",
    "\n"
   ]
  },
  {
   "cell_type": "code",
   "execution_count": 26,
   "id": "6dff775d-3988-4580-b7b4-c348ba958f5a",
   "metadata": {},
   "outputs": [
    {
     "data": {
      "text/plain": [
       "2140043500.0"
      ]
     },
     "execution_count": 26,
     "metadata": {},
     "output_type": "execute_result"
    }
   ],
   "source": [
    "DATAPATH = \"/nfs/turbo/umms-indikar/shared/projects/DGC/data/tabula_sapiens/extract/\"\n",
    "FILE = \"TS_epithelial.h5ad\"\n",
    "adata = sp.read_h5ad(os.path.join(DATAPATH, FILE))\n",
    "(adata_w.X[mask, :] - adata.X[mask, :]).sum()"
   ]
  },
  {
   "cell_type": "code",
   "execution_count": 21,
   "id": "78ea8504-7206-427a-b4ad-5d0a58f8fff4",
   "metadata": {},
   "outputs": [
    {
     "data": {
      "text/plain": [
       "<0x58870 sparse matrix of type '<class 'numpy.float32'>'\n",
       "\twith 0 stored elements in Compressed Sparse Row format>"
      ]
     },
     "execution_count": 21,
     "metadata": {},
     "output_type": "execute_result"
    }
   ],
   "source": [
    "adata_w.X[mask, :]"
   ]
  },
  {
   "cell_type": "code",
   "execution_count": 20,
   "id": "d3bd43c4-0533-400c-b68b-1363383ce08d",
   "metadata": {},
   "outputs": [
    {
     "data": {
      "text/plain": [
       "array([False, False, False, ..., False, False, False])"
      ]
     },
     "execution_count": 20,
     "metadata": {},
     "output_type": "execute_result"
    }
   ],
   "source": [
    "mask\n"
   ]
  },
  {
   "cell_type": "code",
   "execution_count": null,
   "id": "1593aa5e-1516-4f65-a0c7-ffab207d7afc",
   "metadata": {},
   "outputs": [],
   "source": [
    "############"
   ]
  },
  {
   "cell_type": "code",
   "execution_count": null,
   "id": "073a102f-4053-420a-9d04-b21410d9853d",
   "metadata": {},
   "outputs": [],
   "source": [
    "\n",
    "import numpy as np\n",
    "DATAPATH = \"/nfs/turbo/umms-indikar/shared/projects/DGC/data/tabula_sapiens/extract/\"\n",
    "FILE = \"TS_epithelial.h5ad\"\n",
    "adata_w = sp.read_h5ad(os.path.join(DATAPATH, FILE))\n",
    "#tf = 'DDX11L1'\n",
    "tf_list =['DDX11L1', 'WASH7P', 'MIR6859-1']\n",
    "\n",
    "def median_nonzero(col):\n",
    "    nonzero_vals = col[col != 0] \n",
    "    return np.median(nonzero_vals) if len(nonzero_vals) > 0 else 0\n",
    "\n",
    "# requires scalar is a scalar\n",
    "def perturb_counts(tf_list, scalar, adata): \n",
    "    # compute nonzero median expression of each gene across cells, save to var\n",
    "    med_nonz = np.apply_along_axis(median_nonzero, axis=0, arr=adata.X)\n",
    "    adata.var['med_nonz'] = med_nonz\n",
    "\n",
    "    # filter by desired tf(s), and apply the nonzero_median scaling operation to only these  \n",
    "    mask = np.where(adata.var['gene_symbol'].isin(tf_list))[0]\n",
    "    adata.X[mask, :] = adata.X[mask, :] * adata.var['med_nonz'].values * scalar\n",
    "    return adata\n"
   ]
  },
  {
   "cell_type": "markdown",
   "id": "77c95cb3-cd62-41d1-ba6f-2a9ee1e3f744",
   "metadata": {},
   "source": [
    "#### 1. "
   ]
  },
  {
   "cell_type": "code",
   "execution_count": null,
   "id": "a0c46fea-ba52-4618-8a59-b3d538ba3c52",
   "metadata": {},
   "outputs": [],
   "source": [
    "############"
   ]
  },
  {
   "cell_type": "markdown",
   "id": "a06f0a9c-18e0-4d3a-8efd-7993accb1048",
   "metadata": {},
   "source": [
    "## Visualize Input Data"
   ]
  },
  {
   "cell_type": "code",
   "execution_count": null,
   "id": "f8542f13-3c5c-4130-9766-0d0a9ce55e61",
   "metadata": {},
   "outputs": [],
   "source": []
  },
  {
   "cell_type": "code",
   "execution_count": 2,
   "id": "a6474b05-224f-4677-902e-5b4962a4bf23",
   "metadata": {},
   "outputs": [],
   "source": [
    "DATAPATH = \"/nfs/turbo/umms-indikar/shared/projects/DGC/data/tabula_sapiens/extract/\"\n",
    "FILE = \"TS_epithelial.h5ad\"\n",
    "\n",
    "adata = sp.read_h5ad(os.path.join(DATAPATH, FILE))"
   ]
  },
  {
   "cell_type": "code",
   "execution_count": 3,
   "id": "047a5de2-be21-489c-8184-b90f010b06a3",
   "metadata": {},
   "outputs": [
    {
     "data": {
      "text/plain": [
       "AnnData object with n_obs × n_vars = 104148 × 58870\n",
       "    obs: 'organ_tissue', 'method', 'donor', 'anatomical_information', 'n_counts_UMIs', 'n_genes', 'cell_ontology_class', 'free_annotation', 'manually_annotated', 'compartment', 'gender'\n",
       "    var: 'gene_symbol', 'feature_type', 'ensemblid', 'highly_variable', 'means', 'dispersions', 'dispersions_norm', 'mean', 'std'\n",
       "    uns: '_scvi', '_training_mode', 'dendrogram_cell_type_tissue', 'dendrogram_computational_compartment_assignment', 'dendrogram_consensus_prediction', 'dendrogram_tissue_cell_type', 'donor_colors', 'donor_method_colors', 'hvg', 'method_colors', 'neighbors', 'organ_tissue_colors', 'sex_colors', 'tissue_colors', 'umap'\n",
       "    obsm: 'X_pca', 'X_scvi', 'X_scvi_umap', 'X_umap'\n",
       "    layers: 'decontXcounts', 'raw_counts'\n",
       "    obsp: 'connectivities', 'distances'"
      ]
     },
     "execution_count": 3,
     "metadata": {},
     "output_type": "execute_result"
    }
   ],
   "source": [
    "adata"
   ]
  },
  {
   "cell_type": "code",
   "execution_count": 4,
   "id": "f010c3f2-3294-4f18-bcad-8a9b3abf9b2e",
   "metadata": {},
   "outputs": [
    {
     "data": {
      "text/html": [
       "<div>\n",
       "<style scoped>\n",
       "    .dataframe tbody tr th:only-of-type {\n",
       "        vertical-align: middle;\n",
       "    }\n",
       "\n",
       "    .dataframe tbody tr th {\n",
       "        vertical-align: top;\n",
       "    }\n",
       "\n",
       "    .dataframe thead th {\n",
       "        text-align: right;\n",
       "    }\n",
       "</style>\n",
       "<table border=\"1\" class=\"dataframe\">\n",
       "  <thead>\n",
       "    <tr style=\"text-align: right;\">\n",
       "      <th></th>\n",
       "      <th>gene_symbol</th>\n",
       "      <th>feature_type</th>\n",
       "      <th>ensemblid</th>\n",
       "      <th>highly_variable</th>\n",
       "      <th>means</th>\n",
       "      <th>dispersions</th>\n",
       "      <th>dispersions_norm</th>\n",
       "      <th>mean</th>\n",
       "      <th>std</th>\n",
       "    </tr>\n",
       "  </thead>\n",
       "  <tbody>\n",
       "    <tr>\n",
       "      <th>DDX11L1</th>\n",
       "      <td>DDX11L1</td>\n",
       "      <td>Gene Expression</td>\n",
       "      <td>ENSG00000223972.5</td>\n",
       "      <td>False</td>\n",
       "      <td>6.398244e-05</td>\n",
       "      <td>0.835044</td>\n",
       "      <td>-0.573947</td>\n",
       "      <td>0.000039</td>\n",
       "      <td>0.005574</td>\n",
       "    </tr>\n",
       "    <tr>\n",
       "      <th>WASH7P</th>\n",
       "      <td>WASH7P</td>\n",
       "      <td>Gene Expression</td>\n",
       "      <td>ENSG00000227232.5</td>\n",
       "      <td>False</td>\n",
       "      <td>2.274395e-03</td>\n",
       "      <td>2.442280</td>\n",
       "      <td>0.533203</td>\n",
       "      <td>0.001080</td>\n",
       "      <td>0.031731</td>\n",
       "    </tr>\n",
       "    <tr>\n",
       "      <th>MIR6859-1</th>\n",
       "      <td>MIR6859-1</td>\n",
       "      <td>Gene Expression</td>\n",
       "      <td>ENSG00000278267.1</td>\n",
       "      <td>False</td>\n",
       "      <td>6.175251e-05</td>\n",
       "      <td>1.295335</td>\n",
       "      <td>-0.256874</td>\n",
       "      <td>0.000033</td>\n",
       "      <td>0.005634</td>\n",
       "    </tr>\n",
       "    <tr>\n",
       "      <th>MIR1302-2HG</th>\n",
       "      <td>MIR1302-2HG</td>\n",
       "      <td>Gene Expression</td>\n",
       "      <td>ENSG00000243485.5</td>\n",
       "      <td>False</td>\n",
       "      <td>1.372886e-04</td>\n",
       "      <td>2.656352</td>\n",
       "      <td>0.680668</td>\n",
       "      <td>0.000048</td>\n",
       "      <td>0.008041</td>\n",
       "    </tr>\n",
       "    <tr>\n",
       "      <th>MIR1302-2</th>\n",
       "      <td>MIR1302-2</td>\n",
       "      <td>Gene Expression</td>\n",
       "      <td>ENSG00000284332.1</td>\n",
       "      <td>False</td>\n",
       "      <td>1.000000e-12</td>\n",
       "      <td>NaN</td>\n",
       "      <td>0.000000</td>\n",
       "      <td>0.000000</td>\n",
       "      <td>1.000000</td>\n",
       "    </tr>\n",
       "    <tr>\n",
       "      <th>...</th>\n",
       "      <td>...</td>\n",
       "      <td>...</td>\n",
       "      <td>...</td>\n",
       "      <td>...</td>\n",
       "      <td>...</td>\n",
       "      <td>...</td>\n",
       "      <td>...</td>\n",
       "      <td>...</td>\n",
       "      <td>...</td>\n",
       "    </tr>\n",
       "    <tr>\n",
       "      <th>MT-ND6</th>\n",
       "      <td>MT-ND6</td>\n",
       "      <td>Gene Expression</td>\n",
       "      <td>ENSG00000198695.2</td>\n",
       "      <td>False</td>\n",
       "      <td>9.634841e-01</td>\n",
       "      <td>2.466404</td>\n",
       "      <td>0.154140</td>\n",
       "      <td>0.590065</td>\n",
       "      <td>0.741395</td>\n",
       "    </tr>\n",
       "    <tr>\n",
       "      <th>MT-TE</th>\n",
       "      <td>MT-TE</td>\n",
       "      <td>Gene Expression</td>\n",
       "      <td>ENSG00000210194.1</td>\n",
       "      <td>False</td>\n",
       "      <td>1.600667e-01</td>\n",
       "      <td>1.603787</td>\n",
       "      <td>-0.044396</td>\n",
       "      <td>0.083929</td>\n",
       "      <td>0.301820</td>\n",
       "    </tr>\n",
       "    <tr>\n",
       "      <th>MT-CYB</th>\n",
       "      <td>MT-CYB</td>\n",
       "      <td>Gene Expression</td>\n",
       "      <td>ENSG00000198727.2</td>\n",
       "      <td>False</td>\n",
       "      <td>4.367693e+00</td>\n",
       "      <td>4.765751</td>\n",
       "      <td>-0.499747</td>\n",
       "      <td>3.874830</td>\n",
       "      <td>1.104192</td>\n",
       "    </tr>\n",
       "    <tr>\n",
       "      <th>MT-TT</th>\n",
       "      <td>MT-TT</td>\n",
       "      <td>Gene Expression</td>\n",
       "      <td>ENSG00000210195.2</td>\n",
       "      <td>False</td>\n",
       "      <td>6.573967e-02</td>\n",
       "      <td>0.624316</td>\n",
       "      <td>-0.719108</td>\n",
       "      <td>0.040580</td>\n",
       "      <td>0.186848</td>\n",
       "    </tr>\n",
       "    <tr>\n",
       "      <th>MT-TP</th>\n",
       "      <td>MT-TP</td>\n",
       "      <td>Gene Expression</td>\n",
       "      <td>ENSG00000210196.2</td>\n",
       "      <td>True</td>\n",
       "      <td>4.385102e-01</td>\n",
       "      <td>2.705558</td>\n",
       "      <td>1.115482</td>\n",
       "      <td>0.204806</td>\n",
       "      <td>0.501265</td>\n",
       "    </tr>\n",
       "  </tbody>\n",
       "</table>\n",
       "<p>58870 rows × 9 columns</p>\n",
       "</div>"
      ],
      "text/plain": [
       "             gene_symbol     feature_type          ensemblid  highly_variable  \\\n",
       "DDX11L1          DDX11L1  Gene Expression  ENSG00000223972.5            False   \n",
       "WASH7P            WASH7P  Gene Expression  ENSG00000227232.5            False   \n",
       "MIR6859-1      MIR6859-1  Gene Expression  ENSG00000278267.1            False   \n",
       "MIR1302-2HG  MIR1302-2HG  Gene Expression  ENSG00000243485.5            False   \n",
       "MIR1302-2      MIR1302-2  Gene Expression  ENSG00000284332.1            False   \n",
       "...                  ...              ...                ...              ...   \n",
       "MT-ND6            MT-ND6  Gene Expression  ENSG00000198695.2            False   \n",
       "MT-TE              MT-TE  Gene Expression  ENSG00000210194.1            False   \n",
       "MT-CYB            MT-CYB  Gene Expression  ENSG00000198727.2            False   \n",
       "MT-TT              MT-TT  Gene Expression  ENSG00000210195.2            False   \n",
       "MT-TP              MT-TP  Gene Expression  ENSG00000210196.2             True   \n",
       "\n",
       "                    means  dispersions  dispersions_norm      mean       std  \n",
       "DDX11L1      6.398244e-05     0.835044         -0.573947  0.000039  0.005574  \n",
       "WASH7P       2.274395e-03     2.442280          0.533203  0.001080  0.031731  \n",
       "MIR6859-1    6.175251e-05     1.295335         -0.256874  0.000033  0.005634  \n",
       "MIR1302-2HG  1.372886e-04     2.656352          0.680668  0.000048  0.008041  \n",
       "MIR1302-2    1.000000e-12          NaN          0.000000  0.000000  1.000000  \n",
       "...                   ...          ...               ...       ...       ...  \n",
       "MT-ND6       9.634841e-01     2.466404          0.154140  0.590065  0.741395  \n",
       "MT-TE        1.600667e-01     1.603787         -0.044396  0.083929  0.301820  \n",
       "MT-CYB       4.367693e+00     4.765751         -0.499747  3.874830  1.104192  \n",
       "MT-TT        6.573967e-02     0.624316         -0.719108  0.040580  0.186848  \n",
       "MT-TP        4.385102e-01     2.705558          1.115482  0.204806  0.501265  \n",
       "\n",
       "[58870 rows x 9 columns]"
      ]
     },
     "execution_count": 4,
     "metadata": {},
     "output_type": "execute_result"
    }
   ],
   "source": [
    "adata.var"
   ]
  },
  {
   "cell_type": "code",
   "execution_count": 5,
   "id": "030f83ed-4955-4962-a629-f003027303e2",
   "metadata": {},
   "outputs": [
    {
     "data": {
      "text/plain": [
       "<104148x1 sparse matrix of type '<class 'numpy.float32'>'\n",
       "\twith 104148 stored elements in COOrdinate format>"
      ]
     },
     "execution_count": 5,
     "metadata": {},
     "output_type": "execute_result"
    }
   ],
   "source": [
    "adata.X.max(axis=1) # what is the value of the highest expressed gene for each cell?"
   ]
  },
  {
   "cell_type": "code",
   "execution_count": 6,
   "id": "c210614f-0e87-4a8a-b1c5-1cc95c7380ca",
   "metadata": {},
   "outputs": [
    {
     "data": {
      "text/plain": [
       "array([0])"
      ]
     },
     "execution_count": 6,
     "metadata": {},
     "output_type": "execute_result"
    }
   ],
   "source": [
    "TF = 'DDX11L1'\n",
    "index = np.where(adata.var['gene_symbol'] == TF)[0]\n",
    "index"
   ]
  },
  {
   "cell_type": "code",
   "execution_count": 7,
   "id": "9dc3d5ad-f2f0-446d-83f3-c63179d369c8",
   "metadata": {},
   "outputs": [
    {
     "data": {
      "text/plain": [
       "DDX11L1            DDX11L1\n",
       "WASH7P              WASH7P\n",
       "MIR6859-1        MIR6859-1\n",
       "MIR1302-2HG    MIR1302-2HG\n",
       "MIR1302-2        MIR1302-2\n",
       "                  ...     \n",
       "MT-ND6              MT-ND6\n",
       "MT-TE                MT-TE\n",
       "MT-CYB              MT-CYB\n",
       "MT-TT                MT-TT\n",
       "MT-TP                MT-TP\n",
       "Name: gene_symbol, Length: 58870, dtype: category\n",
       "Categories (57316, object): ['A1BG', 'A1BG-AS1', 'A1CF', 'A2M', ..., 'ZYX', 'ZYXP1', 'ZZEF1', 'hsa-mir-1253']"
      ]
     },
     "execution_count": 7,
     "metadata": {},
     "output_type": "execute_result"
    }
   ],
   "source": [
    "adata.var['gene_symbol']"
   ]
  },
  {
   "cell_type": "code",
   "execution_count": 8,
   "id": "45904679-08f7-4ec7-b746-4017140120c0",
   "metadata": {},
   "outputs": [
    {
     "data": {
      "text/html": [
       "<div>\n",
       "<style scoped>\n",
       "    .dataframe tbody tr th:only-of-type {\n",
       "        vertical-align: middle;\n",
       "    }\n",
       "\n",
       "    .dataframe tbody tr th {\n",
       "        vertical-align: top;\n",
       "    }\n",
       "\n",
       "    .dataframe thead th {\n",
       "        text-align: right;\n",
       "    }\n",
       "</style>\n",
       "<table border=\"1\" class=\"dataframe\">\n",
       "  <thead>\n",
       "    <tr style=\"text-align: right;\">\n",
       "      <th></th>\n",
       "      <th>organ_tissue</th>\n",
       "      <th>method</th>\n",
       "      <th>donor</th>\n",
       "      <th>anatomical_information</th>\n",
       "      <th>n_counts_UMIs</th>\n",
       "      <th>n_genes</th>\n",
       "      <th>cell_ontology_class</th>\n",
       "      <th>free_annotation</th>\n",
       "      <th>manually_annotated</th>\n",
       "      <th>compartment</th>\n",
       "      <th>gender</th>\n",
       "    </tr>\n",
       "  </thead>\n",
       "  <tbody>\n",
       "    <tr>\n",
       "      <th>AACAGGGCATGTGCTA_TSP6_Liver_NA_10X_1_1</th>\n",
       "      <td>Liver</td>\n",
       "      <td>10X</td>\n",
       "      <td>TSP6</td>\n",
       "      <td>nan</td>\n",
       "      <td>14151.0</td>\n",
       "      <td>3404</td>\n",
       "      <td>hepatocyte</td>\n",
       "      <td>Hepatocyte</td>\n",
       "      <td>True</td>\n",
       "      <td>epithelial</td>\n",
       "      <td>male</td>\n",
       "    </tr>\n",
       "    <tr>\n",
       "      <th>AATGAAGTCTAAGGAA_TSP6_Liver_NA_10X_1_1</th>\n",
       "      <td>Liver</td>\n",
       "      <td>10X</td>\n",
       "      <td>TSP6</td>\n",
       "      <td>nan</td>\n",
       "      <td>10303.0</td>\n",
       "      <td>2863</td>\n",
       "      <td>hepatocyte</td>\n",
       "      <td>Hepatocyte</td>\n",
       "      <td>True</td>\n",
       "      <td>epithelial</td>\n",
       "      <td>male</td>\n",
       "    </tr>\n",
       "    <tr>\n",
       "      <th>ACAGAAAAGCTGTCCG_TSP6_Liver_NA_10X_1_1</th>\n",
       "      <td>Liver</td>\n",
       "      <td>10X</td>\n",
       "      <td>TSP6</td>\n",
       "      <td>nan</td>\n",
       "      <td>9391.0</td>\n",
       "      <td>2738</td>\n",
       "      <td>hepatocyte</td>\n",
       "      <td>Hepatocyte</td>\n",
       "      <td>True</td>\n",
       "      <td>epithelial</td>\n",
       "      <td>male</td>\n",
       "    </tr>\n",
       "    <tr>\n",
       "      <th>ACGATGTTCGACTCCT_TSP6_Liver_NA_10X_1_1</th>\n",
       "      <td>Liver</td>\n",
       "      <td>10X</td>\n",
       "      <td>TSP6</td>\n",
       "      <td>nan</td>\n",
       "      <td>4634.0</td>\n",
       "      <td>1634</td>\n",
       "      <td>hepatocyte</td>\n",
       "      <td>Hepatocyte</td>\n",
       "      <td>True</td>\n",
       "      <td>epithelial</td>\n",
       "      <td>male</td>\n",
       "    </tr>\n",
       "    <tr>\n",
       "      <th>ACGTTCCAGAACCCGA_TSP6_Liver_NA_10X_1_1</th>\n",
       "      <td>Liver</td>\n",
       "      <td>10X</td>\n",
       "      <td>TSP6</td>\n",
       "      <td>nan</td>\n",
       "      <td>33370.0</td>\n",
       "      <td>6590</td>\n",
       "      <td>intrahepatic cholangiocyte</td>\n",
       "      <td>BECS</td>\n",
       "      <td>True</td>\n",
       "      <td>epithelial</td>\n",
       "      <td>male</td>\n",
       "    </tr>\n",
       "    <tr>\n",
       "      <th>...</th>\n",
       "      <td>...</td>\n",
       "      <td>...</td>\n",
       "      <td>...</td>\n",
       "      <td>...</td>\n",
       "      <td>...</td>\n",
       "      <td>...</td>\n",
       "      <td>...</td>\n",
       "      <td>...</td>\n",
       "      <td>...</td>\n",
       "      <td>...</td>\n",
       "      <td>...</td>\n",
       "    </tr>\n",
       "    <tr>\n",
       "      <th>TGACAGTAGATGGCGT_TSP2_Vasculature_Aorta_10X_1_2</th>\n",
       "      <td>Vasculature</td>\n",
       "      <td>10X</td>\n",
       "      <td>TSP2</td>\n",
       "      <td>Aorta</td>\n",
       "      <td>10354.0</td>\n",
       "      <td>2456</td>\n",
       "      <td>epithelial cell</td>\n",
       "      <td>epithelial cell</td>\n",
       "      <td>True</td>\n",
       "      <td>epithelial</td>\n",
       "      <td>female</td>\n",
       "    </tr>\n",
       "    <tr>\n",
       "      <th>TGTTGGATCGACATCA_TSP2_Vasculature_Aorta_10X_1_2</th>\n",
       "      <td>Vasculature</td>\n",
       "      <td>10X</td>\n",
       "      <td>TSP2</td>\n",
       "      <td>Aorta</td>\n",
       "      <td>15677.0</td>\n",
       "      <td>3234</td>\n",
       "      <td>epithelial cell</td>\n",
       "      <td>epithelial cell</td>\n",
       "      <td>True</td>\n",
       "      <td>epithelial</td>\n",
       "      <td>female</td>\n",
       "    </tr>\n",
       "    <tr>\n",
       "      <th>TTGGATGGTGGCTACC_TSP2_Vasculature_Aorta_10X_1_2</th>\n",
       "      <td>Vasculature</td>\n",
       "      <td>10X</td>\n",
       "      <td>TSP2</td>\n",
       "      <td>Aorta</td>\n",
       "      <td>18638.0</td>\n",
       "      <td>3368</td>\n",
       "      <td>epithelial cell</td>\n",
       "      <td>epithelial cell</td>\n",
       "      <td>True</td>\n",
       "      <td>epithelial</td>\n",
       "      <td>female</td>\n",
       "    </tr>\n",
       "    <tr>\n",
       "      <th>CTTGATTTCTTGCAAG_TSP2_Vasculature_Aorta_10X_2_2</th>\n",
       "      <td>Vasculature</td>\n",
       "      <td>10X</td>\n",
       "      <td>TSP2</td>\n",
       "      <td>Aorta</td>\n",
       "      <td>36555.0</td>\n",
       "      <td>5102</td>\n",
       "      <td>epithelial cell</td>\n",
       "      <td>epithelial cell</td>\n",
       "      <td>True</td>\n",
       "      <td>epithelial</td>\n",
       "      <td>female</td>\n",
       "    </tr>\n",
       "    <tr>\n",
       "      <th>TCGACGGCATGGAATA_TSP2_Vasculature_Aorta_10X_2_2</th>\n",
       "      <td>Vasculature</td>\n",
       "      <td>10X</td>\n",
       "      <td>TSP2</td>\n",
       "      <td>Aorta</td>\n",
       "      <td>6943.0</td>\n",
       "      <td>1799</td>\n",
       "      <td>epithelial cell</td>\n",
       "      <td>epithelial cell</td>\n",
       "      <td>True</td>\n",
       "      <td>epithelial</td>\n",
       "      <td>female</td>\n",
       "    </tr>\n",
       "  </tbody>\n",
       "</table>\n",
       "<p>104148 rows × 11 columns</p>\n",
       "</div>"
      ],
      "text/plain": [
       "                                                organ_tissue method donor  \\\n",
       "AACAGGGCATGTGCTA_TSP6_Liver_NA_10X_1_1                 Liver    10X  TSP6   \n",
       "AATGAAGTCTAAGGAA_TSP6_Liver_NA_10X_1_1                 Liver    10X  TSP6   \n",
       "ACAGAAAAGCTGTCCG_TSP6_Liver_NA_10X_1_1                 Liver    10X  TSP6   \n",
       "ACGATGTTCGACTCCT_TSP6_Liver_NA_10X_1_1                 Liver    10X  TSP6   \n",
       "ACGTTCCAGAACCCGA_TSP6_Liver_NA_10X_1_1                 Liver    10X  TSP6   \n",
       "...                                                      ...    ...   ...   \n",
       "TGACAGTAGATGGCGT_TSP2_Vasculature_Aorta_10X_1_2  Vasculature    10X  TSP2   \n",
       "TGTTGGATCGACATCA_TSP2_Vasculature_Aorta_10X_1_2  Vasculature    10X  TSP2   \n",
       "TTGGATGGTGGCTACC_TSP2_Vasculature_Aorta_10X_1_2  Vasculature    10X  TSP2   \n",
       "CTTGATTTCTTGCAAG_TSP2_Vasculature_Aorta_10X_2_2  Vasculature    10X  TSP2   \n",
       "TCGACGGCATGGAATA_TSP2_Vasculature_Aorta_10X_2_2  Vasculature    10X  TSP2   \n",
       "\n",
       "                                                anatomical_information  \\\n",
       "AACAGGGCATGTGCTA_TSP6_Liver_NA_10X_1_1                             nan   \n",
       "AATGAAGTCTAAGGAA_TSP6_Liver_NA_10X_1_1                             nan   \n",
       "ACAGAAAAGCTGTCCG_TSP6_Liver_NA_10X_1_1                             nan   \n",
       "ACGATGTTCGACTCCT_TSP6_Liver_NA_10X_1_1                             nan   \n",
       "ACGTTCCAGAACCCGA_TSP6_Liver_NA_10X_1_1                             nan   \n",
       "...                                                                ...   \n",
       "TGACAGTAGATGGCGT_TSP2_Vasculature_Aorta_10X_1_2                  Aorta   \n",
       "TGTTGGATCGACATCA_TSP2_Vasculature_Aorta_10X_1_2                  Aorta   \n",
       "TTGGATGGTGGCTACC_TSP2_Vasculature_Aorta_10X_1_2                  Aorta   \n",
       "CTTGATTTCTTGCAAG_TSP2_Vasculature_Aorta_10X_2_2                  Aorta   \n",
       "TCGACGGCATGGAATA_TSP2_Vasculature_Aorta_10X_2_2                  Aorta   \n",
       "\n",
       "                                                 n_counts_UMIs  n_genes  \\\n",
       "AACAGGGCATGTGCTA_TSP6_Liver_NA_10X_1_1                 14151.0     3404   \n",
       "AATGAAGTCTAAGGAA_TSP6_Liver_NA_10X_1_1                 10303.0     2863   \n",
       "ACAGAAAAGCTGTCCG_TSP6_Liver_NA_10X_1_1                  9391.0     2738   \n",
       "ACGATGTTCGACTCCT_TSP6_Liver_NA_10X_1_1                  4634.0     1634   \n",
       "ACGTTCCAGAACCCGA_TSP6_Liver_NA_10X_1_1                 33370.0     6590   \n",
       "...                                                        ...      ...   \n",
       "TGACAGTAGATGGCGT_TSP2_Vasculature_Aorta_10X_1_2        10354.0     2456   \n",
       "TGTTGGATCGACATCA_TSP2_Vasculature_Aorta_10X_1_2        15677.0     3234   \n",
       "TTGGATGGTGGCTACC_TSP2_Vasculature_Aorta_10X_1_2        18638.0     3368   \n",
       "CTTGATTTCTTGCAAG_TSP2_Vasculature_Aorta_10X_2_2        36555.0     5102   \n",
       "TCGACGGCATGGAATA_TSP2_Vasculature_Aorta_10X_2_2         6943.0     1799   \n",
       "\n",
       "                                                        cell_ontology_class  \\\n",
       "AACAGGGCATGTGCTA_TSP6_Liver_NA_10X_1_1                           hepatocyte   \n",
       "AATGAAGTCTAAGGAA_TSP6_Liver_NA_10X_1_1                           hepatocyte   \n",
       "ACAGAAAAGCTGTCCG_TSP6_Liver_NA_10X_1_1                           hepatocyte   \n",
       "ACGATGTTCGACTCCT_TSP6_Liver_NA_10X_1_1                           hepatocyte   \n",
       "ACGTTCCAGAACCCGA_TSP6_Liver_NA_10X_1_1           intrahepatic cholangiocyte   \n",
       "...                                                                     ...   \n",
       "TGACAGTAGATGGCGT_TSP2_Vasculature_Aorta_10X_1_2             epithelial cell   \n",
       "TGTTGGATCGACATCA_TSP2_Vasculature_Aorta_10X_1_2             epithelial cell   \n",
       "TTGGATGGTGGCTACC_TSP2_Vasculature_Aorta_10X_1_2             epithelial cell   \n",
       "CTTGATTTCTTGCAAG_TSP2_Vasculature_Aorta_10X_2_2             epithelial cell   \n",
       "TCGACGGCATGGAATA_TSP2_Vasculature_Aorta_10X_2_2             epithelial cell   \n",
       "\n",
       "                                                 free_annotation  \\\n",
       "AACAGGGCATGTGCTA_TSP6_Liver_NA_10X_1_1                Hepatocyte   \n",
       "AATGAAGTCTAAGGAA_TSP6_Liver_NA_10X_1_1                Hepatocyte   \n",
       "ACAGAAAAGCTGTCCG_TSP6_Liver_NA_10X_1_1                Hepatocyte   \n",
       "ACGATGTTCGACTCCT_TSP6_Liver_NA_10X_1_1                Hepatocyte   \n",
       "ACGTTCCAGAACCCGA_TSP6_Liver_NA_10X_1_1                      BECS   \n",
       "...                                                          ...   \n",
       "TGACAGTAGATGGCGT_TSP2_Vasculature_Aorta_10X_1_2  epithelial cell   \n",
       "TGTTGGATCGACATCA_TSP2_Vasculature_Aorta_10X_1_2  epithelial cell   \n",
       "TTGGATGGTGGCTACC_TSP2_Vasculature_Aorta_10X_1_2  epithelial cell   \n",
       "CTTGATTTCTTGCAAG_TSP2_Vasculature_Aorta_10X_2_2  epithelial cell   \n",
       "TCGACGGCATGGAATA_TSP2_Vasculature_Aorta_10X_2_2  epithelial cell   \n",
       "\n",
       "                                                 manually_annotated  \\\n",
       "AACAGGGCATGTGCTA_TSP6_Liver_NA_10X_1_1                         True   \n",
       "AATGAAGTCTAAGGAA_TSP6_Liver_NA_10X_1_1                         True   \n",
       "ACAGAAAAGCTGTCCG_TSP6_Liver_NA_10X_1_1                         True   \n",
       "ACGATGTTCGACTCCT_TSP6_Liver_NA_10X_1_1                         True   \n",
       "ACGTTCCAGAACCCGA_TSP6_Liver_NA_10X_1_1                         True   \n",
       "...                                                             ...   \n",
       "TGACAGTAGATGGCGT_TSP2_Vasculature_Aorta_10X_1_2                True   \n",
       "TGTTGGATCGACATCA_TSP2_Vasculature_Aorta_10X_1_2                True   \n",
       "TTGGATGGTGGCTACC_TSP2_Vasculature_Aorta_10X_1_2                True   \n",
       "CTTGATTTCTTGCAAG_TSP2_Vasculature_Aorta_10X_2_2                True   \n",
       "TCGACGGCATGGAATA_TSP2_Vasculature_Aorta_10X_2_2                True   \n",
       "\n",
       "                                                compartment  gender  \n",
       "AACAGGGCATGTGCTA_TSP6_Liver_NA_10X_1_1           epithelial    male  \n",
       "AATGAAGTCTAAGGAA_TSP6_Liver_NA_10X_1_1           epithelial    male  \n",
       "ACAGAAAAGCTGTCCG_TSP6_Liver_NA_10X_1_1           epithelial    male  \n",
       "ACGATGTTCGACTCCT_TSP6_Liver_NA_10X_1_1           epithelial    male  \n",
       "ACGTTCCAGAACCCGA_TSP6_Liver_NA_10X_1_1           epithelial    male  \n",
       "...                                                     ...     ...  \n",
       "TGACAGTAGATGGCGT_TSP2_Vasculature_Aorta_10X_1_2  epithelial  female  \n",
       "TGTTGGATCGACATCA_TSP2_Vasculature_Aorta_10X_1_2  epithelial  female  \n",
       "TTGGATGGTGGCTACC_TSP2_Vasculature_Aorta_10X_1_2  epithelial  female  \n",
       "CTTGATTTCTTGCAAG_TSP2_Vasculature_Aorta_10X_2_2  epithelial  female  \n",
       "TCGACGGCATGGAATA_TSP2_Vasculature_Aorta_10X_2_2  epithelial  female  \n",
       "\n",
       "[104148 rows x 11 columns]"
      ]
     },
     "execution_count": 8,
     "metadata": {},
     "output_type": "execute_result"
    }
   ],
   "source": [
    "adata.obs"
   ]
  },
  {
   "cell_type": "markdown",
   "id": "82aa3850-58e1-41b4-9b2a-60db4bea28b1",
   "metadata": {},
   "source": [
    "## Build driver"
   ]
  },
  {
   "cell_type": "code",
   "execution_count": 9,
   "id": "1563c2da-5366-4738-a33b-2bfe1e881eb9",
   "metadata": {},
   "outputs": [
    {
     "ename": "SyntaxError",
     "evalue": "invalid syntax (1649016643.py, line 18)",
     "output_type": "error",
     "traceback": [
      "\u001b[0;36m  Cell \u001b[0;32mIn[9], line 18\u001b[0;36m\u001b[0m\n\u001b[0;31m    adata =\u001b[0m\n\u001b[0m            ^\u001b[0m\n\u001b[0;31mSyntaxError\u001b[0m\u001b[0;31m:\u001b[0m invalid syntax\n"
     ]
    }
   ],
   "source": [
    "import pandas as pd\n",
    "\n",
    "def main(job_number, parameter_file):\n",
    "    \"\"\"\n",
    "    This is the main function for the array job to perform the reprogramming experiment. job_number is a single parameter\n",
    "    that will be used to look up in a parameter table which model, reprogramming recipe, and other information relevant\n",
    "    to the test.\n",
    "    \"\"\"\n",
    "\n",
    "    # Determine embedding parameters and recipie\n",
    "    df_embedding_parameters = pd.read_csv(parameter_file)\n",
    "    TFs    = df_embedding_parameters['TFs'].values[job_number]\n",
    "    model  = df_embedding_parameters['model'].values[job_number]\n",
    "    source = df_embedding_parameters['source'].values[job_number]\n",
    "    target = df_embedding_parameters['target'].values[job_number]\n",
    "\n",
    "    # Load the source data\n",
    "    adata = \n",
    "\n",
    "    # Perturb the data\n",
    "    perturbed_adata = perturbation_model(adata, TFs)\n",
    "\n",
    "    # Generate embeddings\n",
    "    if model == 'geneformer':\n",
    "        adata_embedded = embed_geneformer([source_adata, perturbed_adata, target_adata])\n",
    "    elif model == 'tGPT':\n",
    "        adata_embedded = embed_tGPT([source_adata, perturbed_adata, target_adata])\n",
    "    elif model == 'scGTP':\n",
    "        adata_embedded = embed_scGTP([source_adata, perturbed_adata, target_adata])\n",
    "\n",
    "    # Save the results to a file\n",
    "\n",
    "    return 0\n"
   ]
  },
  {
   "cell_type": "markdown",
   "id": "ee4f3c98-3474-4971-a559-f0a294dba782",
   "metadata": {},
   "source": [
    "## Build parameter dataframe"
   ]
  },
  {
   "cell_type": "code",
   "execution_count": null,
   "id": "be9f04aa-ab4c-44fc-86e0-f69d7f21451d",
   "metadata": {},
   "outputs": [],
   "source": [
    "embedding_parameters = {\n",
    "    'source': [],\n",
    "    'target': [],\n",
    "    'TFs'   : [],\n",
    "    'model' : []\n",
    "}\n",
    "models = ['geneformer', 'tGPT', 'scGTP']\n",
    "\n",
    "df = pd.read_csv('data/first_5_recepies_8_29_2024.csv')\n",
    "\n",
    "for i in range(5):\n",
    "    TFs = df['TFs'].values[i].split()\n",
    "    source = df['Source'].values[i]\n",
    "    target = df['Target'].values[i]\n",
    "    for model in models:\n",
    "        embedding_parameters['TFs'].append(TFs)\n",
    "        embedding_parameters['source'].append(source)\n",
    "        embedding_parameters['target'].append(source)\n",
    "        embedding_parameters['model'].append(model)\n",
    "\n",
    "df_embedding_parameters = pd.DataFrame(embedding_parameters)\n",
    "\n",
    "df_embedding_parameters"
   ]
  },
  {
   "cell_type": "code",
   "execution_count": null,
   "id": "2ad22cdb-f1ac-48b6-8053-b69d91309c76",
   "metadata": {},
   "outputs": [],
   "source": [
    "df"
   ]
  },
  {
   "cell_type": "markdown",
   "id": "08e02020-7129-4182-9bef-6535490e26a9",
   "metadata": {},
   "source": [
    "# Day 0"
   ]
  },
  {
   "cell_type": "code",
   "execution_count": null,
   "id": "6c18574c-9e46-4c1d-9b77-b4f888ae0430",
   "metadata": {},
   "outputs": [],
   "source": [
    "import pandas as pd\n",
    "import matplotlib.pyplot as plt\n",
    "import seaborn as sns"
   ]
  },
  {
   "cell_type": "code",
   "execution_count": null,
   "id": "624a5d48-99dc-4880-809d-519448cbfb82",
   "metadata": {},
   "outputs": [],
   "source": [
    "# load known reprogramming regiems\n",
    "df = pd.read_csv('data/known-regiems-T1.csv')"
   ]
  },
  {
   "cell_type": "code",
   "execution_count": null,
   "id": "7457114f-57d5-45e9-ad8d-ecaa06a76d1a",
   "metadata": {},
   "outputs": [],
   "source": [
    "# get list of unique transcription factors\n",
    "TFs = []\n",
    "for regime in df['TFs'].unique():\n",
    "    TFs += regime.replace(',', '').split()\n",
    "TFs = list(set(TFs))\n",
    "print(f\"{len(TFs)=}\")\n",
    "TFs"
   ]
  }
 ],
 "metadata": {
  "kernelspec": {
   "display_name": "Python 3 (ipykernel)",
   "language": "python",
   "name": "python3"
  },
  "language_info": {
   "codemirror_mode": {
    "name": "ipython",
    "version": 3
   },
   "file_extension": ".py",
   "mimetype": "text/x-python",
   "name": "python",
   "nbconvert_exporter": "python",
   "pygments_lexer": "ipython3",
   "version": "3.11.7"
  }
 },
 "nbformat": 4,
 "nbformat_minor": 5
}
