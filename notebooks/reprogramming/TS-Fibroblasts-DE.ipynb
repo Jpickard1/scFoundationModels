{
 "cells": [
  {
   "cell_type": "markdown",
   "id": "cf91cda6-e758-4338-9c0a-402e101355c2",
   "metadata": {},
   "source": [
    "# TS Fibroblast Data Engineering\n",
    "\n",
    "**This notebook builds one `.h5ad` file containing all of the Fibroblast data found in the TS database.**\n",
    "\n",
    "Auth: [Joshua Pickard](jpic@umich.edu)\n",
    "\n",
    "Date: August 29, 2024"
   ]
  },
  {
   "cell_type": "code",
   "execution_count": 1,
   "id": "336c75c3-30d2-41d7-9985-3fc246a553a8",
   "metadata": {},
   "outputs": [],
   "source": [
    "import scanpy as sp\n",
    "import numpy as np\n",
    "import pandas as pd\n",
    "import scanpy as sp\n",
    "import os"
   ]
  },
  {
   "cell_type": "code",
   "execution_count": 2,
   "id": "d0a653e6-ef99-4c94-bd33-a20218ad242b",
   "metadata": {},
   "outputs": [],
   "source": [
    "DATAPATH = \"/nfs/turbo/umms-indikar/shared/projects/DGC/data/tabula_sapiens/extract/\"\n",
    "FILE = \"TabulaSapiens.h5ad\""
   ]
  },
  {
   "cell_type": "code",
   "execution_count": 3,
   "id": "7fe5fef0-5f11-4530-b6a8-0df36331a99d",
   "metadata": {},
   "outputs": [],
   "source": [
    "adata = sp.read_h5ad(os.path.join(DATAPATH, FILE))"
   ]
  },
  {
   "cell_type": "code",
   "execution_count": 4,
   "id": "60ac319e-a1b4-43f7-9fcd-b852e1ec2fc2",
   "metadata": {},
   "outputs": [
    {
     "data": {
      "text/plain": [
       "(483152, 58870)"
      ]
     },
     "execution_count": 4,
     "metadata": {},
     "output_type": "execute_result"
    }
   ],
   "source": [
    "adata.shape"
   ]
  },
  {
   "cell_type": "markdown",
   "id": "14184929-fd52-4a50-91f6-83c7c1c91648",
   "metadata": {},
   "source": [
    "# Fibroblasts"
   ]
  },
  {
   "cell_type": "markdown",
   "id": "8fe747b3-13d8-4d80-9f58-711f95f1b42a",
   "metadata": {},
   "source": [
    "## Build the new File"
   ]
  },
  {
   "cell_type": "code",
   "execution_count": 16,
   "id": "1615739c-0ebd-46a8-8484-cbbb0e4d6cd3",
   "metadata": {},
   "outputs": [
    {
     "name": "stdout",
     "output_type": "stream",
     "text": [
      "AnnData object with n_obs × n_vars = 38151 × 58870\n",
      "    obs: 'organ_tissue', 'method', 'donor', 'anatomical_information', 'n_counts_UMIs', 'n_genes', 'cell_ontology_class', 'free_annotation', 'manually_annotated', 'compartment', 'gender'\n",
      "    var: 'gene_symbol', 'feature_type', 'ensemblid', 'highly_variable', 'means', 'dispersions', 'dispersions_norm', 'mean', 'std'\n",
      "    uns: '_scvi', '_training_mode', 'dendrogram_cell_type_tissue', 'dendrogram_computational_compartment_assignment', 'dendrogram_consensus_prediction', 'dendrogram_tissue_cell_type', 'donor_colors', 'donor_method_colors', 'hvg', 'method_colors', 'neighbors', 'organ_tissue_colors', 'sex_colors', 'tissue_colors', 'umap'\n",
      "    obsm: 'X_pca', 'X_scvi', 'X_scvi_umap', 'X_umap'\n",
      "    layers: 'decontXcounts', 'raw_counts'\n",
      "    obsp: 'connectivities', 'distances'\n"
     ]
    }
   ],
   "source": [
    "# Find all unique entries containing 'fib' (case-insensitive) in 'cell_ontology_class'\n",
    "fib_entries_1 = [entry for entry in adata.obs['cell_ontology_class'].unique() if 'fib' in entry.lower()]\n",
    "\n",
    "# Find all unique entries containing 'fib' (case-insensitive) in 'free_annotation'\n",
    "fib_entries_2 = [entry for entry in adata.obs['free_annotation'].unique() if 'fib' in entry.lower()]\n",
    "\n",
    "# Reduce data to only include rows where either 'cell_ontology_class' or 'free_annotation' is in their respective fib entries\n",
    "fibroblast_adata = adata[\n",
    "    adata.obs['cell_ontology_class'].isin(fib_entries_1) | \n",
    "    adata.obs['free_annotation'].isin(fib_entries_2)\n",
    "].copy()\n",
    "\n",
    "print(fibroblast_adata)\n"
   ]
  },
  {
   "cell_type": "code",
   "execution_count": 17,
   "id": "0c8cd679-e1a5-4875-86e9-e5124cf401e4",
   "metadata": {},
   "outputs": [
    {
     "name": "stdout",
     "output_type": "stream",
     "text": [
      "File saved to: /nfs/turbo/umms-indikar/shared/projects/DGC/data/tabula_sapiens/jpic/fibroblast.h5ad\n"
     ]
    }
   ],
   "source": [
    "# Define the output directory and filename\n",
    "output_dir = \"/nfs/turbo/umms-indikar/shared/projects/DGC/data/tabula_sapiens/jpic\"\n",
    "output_file = \"fibroblast.h5ad\"\n",
    "\n",
    "# Write the filtered AnnData object to a file\n",
    "fibroblast_adata.write(os.path.join(output_dir, output_file))\n",
    "\n",
    "print(f\"File saved to: {os.path.join(output_dir, output_file)}\")\n"
   ]
  },
  {
   "cell_type": "markdown",
   "id": "84f5f920-d3e7-4de4-9b01-919f23765f54",
   "metadata": {},
   "source": [
    "# Neurons"
   ]
  },
  {
   "cell_type": "markdown",
   "id": "aa5d06aa-d6a3-4f6b-9ddd-d045b3606596",
   "metadata": {},
   "source": [
    "## Build New File"
   ]
  },
  {
   "cell_type": "code",
   "execution_count": 18,
   "id": "0b990242-df2f-4212-a440-81f4c4b27324",
   "metadata": {},
   "outputs": [
    {
     "name": "stdout",
     "output_type": "stream",
     "text": [
      "AnnData object with n_obs × n_vars = 34 × 58870\n",
      "    obs: 'organ_tissue', 'method', 'donor', 'anatomical_information', 'n_counts_UMIs', 'n_genes', 'cell_ontology_class', 'free_annotation', 'manually_annotated', 'compartment', 'gender'\n",
      "    var: 'gene_symbol', 'feature_type', 'ensemblid', 'highly_variable', 'means', 'dispersions', 'dispersions_norm', 'mean', 'std'\n",
      "    uns: '_scvi', '_training_mode', 'dendrogram_cell_type_tissue', 'dendrogram_computational_compartment_assignment', 'dendrogram_consensus_prediction', 'dendrogram_tissue_cell_type', 'donor_colors', 'donor_method_colors', 'hvg', 'method_colors', 'neighbors', 'organ_tissue_colors', 'sex_colors', 'tissue_colors', 'umap'\n",
      "    obsm: 'X_pca', 'X_scvi', 'X_scvi_umap', 'X_umap'\n",
      "    layers: 'decontXcounts', 'raw_counts'\n",
      "    obsp: 'connectivities', 'distances'\n"
     ]
    }
   ],
   "source": [
    "# Find all unique entries containing 'fib' (case-insensitive) in 'cell_ontology_class'\n",
    "neur_entries_1 = [entry for entry in adata.obs['cell_ontology_class'].unique() if 'neur' in entry.lower()]\n",
    "\n",
    "# Find all unique entries containing 'fib' (case-insensitive) in 'free_annotation'\n",
    "neur_entries_2 = [entry for entry in adata.obs['free_annotation'].unique() if 'neur' in entry.lower()]\n",
    "\n",
    "# Reduce data to only include rows where either 'cell_ontology_class' or 'free_annotation' is in their respective fib entries\n",
    "neuron_adata = adata[\n",
    "    adata.obs['cell_ontology_class'].isin(neur_entries_1) | \n",
    "    adata.obs['free_annotation'].isin(neur_entries_2)\n",
    "].copy()\n",
    "\n",
    "print(neuron_adata)\n"
   ]
  },
  {
   "cell_type": "code",
   "execution_count": 19,
   "id": "99c03096-df68-4a66-a729-abe40a5f1537",
   "metadata": {},
   "outputs": [
    {
     "data": {
      "text/plain": [
       "['retinal bipolar neuron']"
      ]
     },
     "execution_count": 19,
     "metadata": {},
     "output_type": "execute_result"
    }
   ],
   "source": [
    "neur_entries_1"
   ]
  },
  {
   "cell_type": "code",
   "execution_count": 20,
   "id": "14dca680-644e-4166-baf9-1d62109b7841",
   "metadata": {},
   "outputs": [
    {
     "data": {
      "text/plain": [
       "[]"
      ]
     },
     "execution_count": 20,
     "metadata": {},
     "output_type": "execute_result"
    }
   ],
   "source": [
    "neur_entries_2"
   ]
  },
  {
   "cell_type": "markdown",
   "id": "e691625d-ced2-4cba-9641-b4a2acccc7ee",
   "metadata": {},
   "source": [
    "# Osteoblasts"
   ]
  },
  {
   "cell_type": "code",
   "execution_count": null,
   "id": "00c846cf-0655-4691-8675-c11d757beb5c",
   "metadata": {},
   "outputs": [],
   "source": [
    "# Find all unique entries containing 'fib' (case-insensitive) in 'cell_ontology_class'\n",
    "neur_entries_1 = [entry for entry in adata.obs['cell_ontology_class'].unique() if 'osteoblasts' in entry.lower()]\n",
    "\n",
    "# Find all unique entries containing 'fib' (case-insensitive) in 'free_annotation'\n",
    "entries_2 = [entry for entry in adata.obs['free_annotation'].unique() if 'osteoblasts' in entry.lower()]\n",
    "\n",
    "# Reduce data to only include rows where either 'cell_ontology_class' or 'free_annotation' is in their respective fib entries\n",
    "neuron_adata = adata[\n",
    "    adata.obs['cell_ontology_class'].isin(neur_entries_1) | \n",
    "    adata.obs['free_annotation'].isin(neur_entries_2)\n",
    "].copy()\n",
    "\n",
    "print(neuron_adata)\n"
   ]
  },
  {
   "cell_type": "code",
   "execution_count": 25,
   "id": "b8facd48-15d0-462b-9538-4a34bfd0f3c1",
   "metadata": {},
   "outputs": [
    {
     "data": {
      "text/plain": [
       "['Liver',\n",
       " 'Trachea',\n",
       " 'Blood',\n",
       " 'Lymph_Node',\n",
       " 'Salivary_Gland',\n",
       " 'Spleen',\n",
       " 'Tongue',\n",
       " 'Mammary',\n",
       " 'Uterus',\n",
       " 'Eye',\n",
       " 'Fat',\n",
       " 'Skin',\n",
       " 'Bone_Marrow',\n",
       " 'Heart',\n",
       " 'Pancreas',\n",
       " 'Prostate',\n",
       " 'Muscle',\n",
       " 'Thymus',\n",
       " 'Bladder',\n",
       " 'Large_Intestine',\n",
       " 'Lung',\n",
       " 'Small_Intestine',\n",
       " 'Vasculature',\n",
       " 'Kidney']"
      ]
     },
     "execution_count": 25,
     "metadata": {},
     "output_type": "execute_result"
    }
   ],
   "source": [
    "list(adata.obs['organ_tissue'].unique())"
   ]
  },
  {
   "cell_type": "markdown",
   "id": "817c6c9f-124d-46fd-a94b-ebabf7655b20",
   "metadata": {},
   "source": [
    "## Scratch"
   ]
  },
  {
   "cell_type": "code",
   "execution_count": 7,
   "id": "579936e5-f0e6-4062-b3f7-9432c39bf280",
   "metadata": {},
   "outputs": [
    {
     "data": {
      "text/plain": [
       "['macrophage', 'monocyte', 'endothelial cell of hepatic sinusoid', 'liver dendritic cell', 'nk cell', ..., 'pancreatic delta cell', 'duodenum glandular cell', 'immature natural killer cell', 'thymocyte', 'connective tissue cell']\n",
       "Length: 177\n",
       "Categories (177, object): ['acinar cell of salivary gland', 'adipocyte', 'adventitial cell', 'alveolar fibroblast', ..., 'type i pneumocyte', 'type ii pneumocyte', 'vascular associated smooth muscle cell', 'vein endothelial cell']"
      ]
     },
     "execution_count": 7,
     "metadata": {},
     "output_type": "execute_result"
    }
   ],
   "source": [
    "adata.obs['cell_ontology_class'].unique()"
   ]
  },
  {
   "cell_type": "code",
   "execution_count": 12,
   "id": "6efba9fc-dc1a-4832-8481-792a2568689f",
   "metadata": {},
   "outputs": [
    {
     "name": "stdout",
     "output_type": "stream",
     "text": [
      "['fibroblast', 'fibroblast of breast', 'myofibroblast cell', 'fibroblast of cardiac tissue', 'alveolar fibroblast']\n"
     ]
    }
   ],
   "source": [
    "# Find all unique entries in 'cell_ontology_class' that contain 'fib' (case-insensitive)\n",
    "fib_entries = [entry for entry in adata.obs['cell_ontology_class'].unique() if 'fib' in entry.lower()]\n",
    "\n",
    "print(fib_entries)\n"
   ]
  },
  {
   "cell_type": "code",
   "execution_count": 13,
   "id": "df1c556a-4ae3-4c3f-9f1c-4878599188b2",
   "metadata": {},
   "outputs": [
    {
     "data": {
      "text/plain": [
       "(37709, 58870)"
      ]
     },
     "execution_count": 13,
     "metadata": {},
     "output_type": "execute_result"
    }
   ],
   "source": [
    "# Find all unique entries in 'cell_ontology_class' that contain 'fib' (case-insensitive)\n",
    "fib_entries = [entry for entry in adata.obs['cell_ontology_class'].unique() if 'fib' in entry.lower()]\n",
    "\n",
    "# Filter adata to include only rows where 'cell_ontology_class' is in fib_entries\n",
    "fibroblast_adata = adata[adata.obs['cell_ontology_class'].isin(fib_entries)].copy()\n",
    "\n",
    "fibroblast_adata.shape\n"
   ]
  },
  {
   "cell_type": "code",
   "execution_count": 9,
   "id": "bcf6d194-7037-4f82-b517-00027a158576",
   "metadata": {},
   "outputs": [
    {
     "data": {
      "text/html": [
       "<div>\n",
       "<style scoped>\n",
       "    .dataframe tbody tr th:only-of-type {\n",
       "        vertical-align: middle;\n",
       "    }\n",
       "\n",
       "    .dataframe tbody tr th {\n",
       "        vertical-align: top;\n",
       "    }\n",
       "\n",
       "    .dataframe thead th {\n",
       "        text-align: right;\n",
       "    }\n",
       "</style>\n",
       "<table border=\"1\" class=\"dataframe\">\n",
       "  <thead>\n",
       "    <tr style=\"text-align: right;\">\n",
       "      <th></th>\n",
       "      <th>organ_tissue</th>\n",
       "      <th>method</th>\n",
       "      <th>donor</th>\n",
       "      <th>anatomical_information</th>\n",
       "      <th>n_counts_UMIs</th>\n",
       "      <th>n_genes</th>\n",
       "      <th>cell_ontology_class</th>\n",
       "      <th>free_annotation</th>\n",
       "      <th>manually_annotated</th>\n",
       "      <th>compartment</th>\n",
       "      <th>gender</th>\n",
       "    </tr>\n",
       "  </thead>\n",
       "  <tbody>\n",
       "    <tr>\n",
       "      <th>AAACCCACACTCCTGT_TSP6_Liver_NA_10X_1_1</th>\n",
       "      <td>Liver</td>\n",
       "      <td>10X</td>\n",
       "      <td>TSP6</td>\n",
       "      <td>nan</td>\n",
       "      <td>7633.0</td>\n",
       "      <td>2259</td>\n",
       "      <td>macrophage</td>\n",
       "      <td>Monocyte/Macrophage</td>\n",
       "      <td>True</td>\n",
       "      <td>immune</td>\n",
       "      <td>male</td>\n",
       "    </tr>\n",
       "    <tr>\n",
       "      <th>AAACGAAGTACCAGAG_TSP6_Liver_NA_10X_1_1</th>\n",
       "      <td>Liver</td>\n",
       "      <td>10X</td>\n",
       "      <td>TSP6</td>\n",
       "      <td>nan</td>\n",
       "      <td>2858.0</td>\n",
       "      <td>1152</td>\n",
       "      <td>monocyte</td>\n",
       "      <td>Monocyte</td>\n",
       "      <td>True</td>\n",
       "      <td>immune</td>\n",
       "      <td>male</td>\n",
       "    </tr>\n",
       "    <tr>\n",
       "      <th>AAACGCTCAACGGCTC_TSP6_Liver_NA_10X_1_1</th>\n",
       "      <td>Liver</td>\n",
       "      <td>10X</td>\n",
       "      <td>TSP6</td>\n",
       "      <td>nan</td>\n",
       "      <td>7787.0</td>\n",
       "      <td>2983</td>\n",
       "      <td>endothelial cell of hepatic sinusoid</td>\n",
       "      <td>Endothelial</td>\n",
       "      <td>True</td>\n",
       "      <td>endothelial</td>\n",
       "      <td>male</td>\n",
       "    </tr>\n",
       "    <tr>\n",
       "      <th>AAAGAACAGCCTCTTC_TSP6_Liver_NA_10X_1_1</th>\n",
       "      <td>Liver</td>\n",
       "      <td>10X</td>\n",
       "      <td>TSP6</td>\n",
       "      <td>nan</td>\n",
       "      <td>10395.0</td>\n",
       "      <td>2598</td>\n",
       "      <td>macrophage</td>\n",
       "      <td>Monocyte/Macrophage</td>\n",
       "      <td>True</td>\n",
       "      <td>immune</td>\n",
       "      <td>male</td>\n",
       "    </tr>\n",
       "    <tr>\n",
       "      <th>AAAGAACGTAGCACAG_TSP6_Liver_NA_10X_1_1</th>\n",
       "      <td>Liver</td>\n",
       "      <td>10X</td>\n",
       "      <td>TSP6</td>\n",
       "      <td>nan</td>\n",
       "      <td>6610.0</td>\n",
       "      <td>2125</td>\n",
       "      <td>liver dendritic cell</td>\n",
       "      <td>Dendritic cell</td>\n",
       "      <td>True</td>\n",
       "      <td>immune</td>\n",
       "      <td>male</td>\n",
       "    </tr>\n",
       "    <tr>\n",
       "      <th>...</th>\n",
       "      <td>...</td>\n",
       "      <td>...</td>\n",
       "      <td>...</td>\n",
       "      <td>...</td>\n",
       "      <td>...</td>\n",
       "      <td>...</td>\n",
       "      <td>...</td>\n",
       "      <td>...</td>\n",
       "      <td>...</td>\n",
       "      <td>...</td>\n",
       "      <td>...</td>\n",
       "    </tr>\n",
       "    <tr>\n",
       "      <th>TSP2_Vasculature_aorta_SS2_B114577_B133059_Endothelial_P4_S364</th>\n",
       "      <td>Vasculature</td>\n",
       "      <td>smartseq2</td>\n",
       "      <td>TSP2</td>\n",
       "      <td>aorta</td>\n",
       "      <td>13205.0</td>\n",
       "      <td>579</td>\n",
       "      <td>endothelial cell</td>\n",
       "      <td>endothelial cell</td>\n",
       "      <td>True</td>\n",
       "      <td>endothelial</td>\n",
       "      <td>female</td>\n",
       "    </tr>\n",
       "    <tr>\n",
       "      <th>TSP2_Vasculature_aorta_SS2_B114577_B133059_Endothelial_P5_S365</th>\n",
       "      <td>Vasculature</td>\n",
       "      <td>smartseq2</td>\n",
       "      <td>TSP2</td>\n",
       "      <td>aorta</td>\n",
       "      <td>9565.0</td>\n",
       "      <td>529</td>\n",
       "      <td>endothelial cell</td>\n",
       "      <td>endothelial cell</td>\n",
       "      <td>True</td>\n",
       "      <td>endothelial</td>\n",
       "      <td>female</td>\n",
       "    </tr>\n",
       "    <tr>\n",
       "      <th>TSP2_Vasculature_aorta_SS2_B114577_B133059_Endothelial_P7_S367</th>\n",
       "      <td>Vasculature</td>\n",
       "      <td>smartseq2</td>\n",
       "      <td>TSP2</td>\n",
       "      <td>aorta</td>\n",
       "      <td>195639.0</td>\n",
       "      <td>2753</td>\n",
       "      <td>endothelial cell</td>\n",
       "      <td>endothelial cell</td>\n",
       "      <td>True</td>\n",
       "      <td>endothelial</td>\n",
       "      <td>female</td>\n",
       "    </tr>\n",
       "    <tr>\n",
       "      <th>TSP2_Vasculature_aorta_SS2_B114577_B133059_Endothelial_P8_S368</th>\n",
       "      <td>Vasculature</td>\n",
       "      <td>smartseq2</td>\n",
       "      <td>TSP2</td>\n",
       "      <td>aorta</td>\n",
       "      <td>37260.0</td>\n",
       "      <td>984</td>\n",
       "      <td>endothelial cell</td>\n",
       "      <td>endothelial cell</td>\n",
       "      <td>True</td>\n",
       "      <td>endothelial</td>\n",
       "      <td>female</td>\n",
       "    </tr>\n",
       "    <tr>\n",
       "      <th>TSP2_Vasculature_aorta_SS2_B114577_B133059_Endothelial_P9_S369</th>\n",
       "      <td>Vasculature</td>\n",
       "      <td>smartseq2</td>\n",
       "      <td>TSP2</td>\n",
       "      <td>aorta</td>\n",
       "      <td>63837.0</td>\n",
       "      <td>1509</td>\n",
       "      <td>endothelial cell</td>\n",
       "      <td>endothelial cell</td>\n",
       "      <td>True</td>\n",
       "      <td>endothelial</td>\n",
       "      <td>female</td>\n",
       "    </tr>\n",
       "  </tbody>\n",
       "</table>\n",
       "<p>483152 rows × 11 columns</p>\n",
       "</div>"
      ],
      "text/plain": [
       "                                                   organ_tissue     method  \\\n",
       "AAACCCACACTCCTGT_TSP6_Liver_NA_10X_1_1                    Liver        10X   \n",
       "AAACGAAGTACCAGAG_TSP6_Liver_NA_10X_1_1                    Liver        10X   \n",
       "AAACGCTCAACGGCTC_TSP6_Liver_NA_10X_1_1                    Liver        10X   \n",
       "AAAGAACAGCCTCTTC_TSP6_Liver_NA_10X_1_1                    Liver        10X   \n",
       "AAAGAACGTAGCACAG_TSP6_Liver_NA_10X_1_1                    Liver        10X   \n",
       "...                                                         ...        ...   \n",
       "TSP2_Vasculature_aorta_SS2_B114577_B133059_Endo...  Vasculature  smartseq2   \n",
       "TSP2_Vasculature_aorta_SS2_B114577_B133059_Endo...  Vasculature  smartseq2   \n",
       "TSP2_Vasculature_aorta_SS2_B114577_B133059_Endo...  Vasculature  smartseq2   \n",
       "TSP2_Vasculature_aorta_SS2_B114577_B133059_Endo...  Vasculature  smartseq2   \n",
       "TSP2_Vasculature_aorta_SS2_B114577_B133059_Endo...  Vasculature  smartseq2   \n",
       "\n",
       "                                                   donor  \\\n",
       "AAACCCACACTCCTGT_TSP6_Liver_NA_10X_1_1              TSP6   \n",
       "AAACGAAGTACCAGAG_TSP6_Liver_NA_10X_1_1              TSP6   \n",
       "AAACGCTCAACGGCTC_TSP6_Liver_NA_10X_1_1              TSP6   \n",
       "AAAGAACAGCCTCTTC_TSP6_Liver_NA_10X_1_1              TSP6   \n",
       "AAAGAACGTAGCACAG_TSP6_Liver_NA_10X_1_1              TSP6   \n",
       "...                                                  ...   \n",
       "TSP2_Vasculature_aorta_SS2_B114577_B133059_Endo...  TSP2   \n",
       "TSP2_Vasculature_aorta_SS2_B114577_B133059_Endo...  TSP2   \n",
       "TSP2_Vasculature_aorta_SS2_B114577_B133059_Endo...  TSP2   \n",
       "TSP2_Vasculature_aorta_SS2_B114577_B133059_Endo...  TSP2   \n",
       "TSP2_Vasculature_aorta_SS2_B114577_B133059_Endo...  TSP2   \n",
       "\n",
       "                                                   anatomical_information  \\\n",
       "AAACCCACACTCCTGT_TSP6_Liver_NA_10X_1_1                                nan   \n",
       "AAACGAAGTACCAGAG_TSP6_Liver_NA_10X_1_1                                nan   \n",
       "AAACGCTCAACGGCTC_TSP6_Liver_NA_10X_1_1                                nan   \n",
       "AAAGAACAGCCTCTTC_TSP6_Liver_NA_10X_1_1                                nan   \n",
       "AAAGAACGTAGCACAG_TSP6_Liver_NA_10X_1_1                                nan   \n",
       "...                                                                   ...   \n",
       "TSP2_Vasculature_aorta_SS2_B114577_B133059_Endo...                  aorta   \n",
       "TSP2_Vasculature_aorta_SS2_B114577_B133059_Endo...                  aorta   \n",
       "TSP2_Vasculature_aorta_SS2_B114577_B133059_Endo...                  aorta   \n",
       "TSP2_Vasculature_aorta_SS2_B114577_B133059_Endo...                  aorta   \n",
       "TSP2_Vasculature_aorta_SS2_B114577_B133059_Endo...                  aorta   \n",
       "\n",
       "                                                    n_counts_UMIs  n_genes  \\\n",
       "AAACCCACACTCCTGT_TSP6_Liver_NA_10X_1_1                     7633.0     2259   \n",
       "AAACGAAGTACCAGAG_TSP6_Liver_NA_10X_1_1                     2858.0     1152   \n",
       "AAACGCTCAACGGCTC_TSP6_Liver_NA_10X_1_1                     7787.0     2983   \n",
       "AAAGAACAGCCTCTTC_TSP6_Liver_NA_10X_1_1                    10395.0     2598   \n",
       "AAAGAACGTAGCACAG_TSP6_Liver_NA_10X_1_1                     6610.0     2125   \n",
       "...                                                           ...      ...   \n",
       "TSP2_Vasculature_aorta_SS2_B114577_B133059_Endo...        13205.0      579   \n",
       "TSP2_Vasculature_aorta_SS2_B114577_B133059_Endo...         9565.0      529   \n",
       "TSP2_Vasculature_aorta_SS2_B114577_B133059_Endo...       195639.0     2753   \n",
       "TSP2_Vasculature_aorta_SS2_B114577_B133059_Endo...        37260.0      984   \n",
       "TSP2_Vasculature_aorta_SS2_B114577_B133059_Endo...        63837.0     1509   \n",
       "\n",
       "                                                                     cell_ontology_class  \\\n",
       "AAACCCACACTCCTGT_TSP6_Liver_NA_10X_1_1                                        macrophage   \n",
       "AAACGAAGTACCAGAG_TSP6_Liver_NA_10X_1_1                                          monocyte   \n",
       "AAACGCTCAACGGCTC_TSP6_Liver_NA_10X_1_1              endothelial cell of hepatic sinusoid   \n",
       "AAAGAACAGCCTCTTC_TSP6_Liver_NA_10X_1_1                                        macrophage   \n",
       "AAAGAACGTAGCACAG_TSP6_Liver_NA_10X_1_1                              liver dendritic cell   \n",
       "...                                                                                  ...   \n",
       "TSP2_Vasculature_aorta_SS2_B114577_B133059_Endo...                      endothelial cell   \n",
       "TSP2_Vasculature_aorta_SS2_B114577_B133059_Endo...                      endothelial cell   \n",
       "TSP2_Vasculature_aorta_SS2_B114577_B133059_Endo...                      endothelial cell   \n",
       "TSP2_Vasculature_aorta_SS2_B114577_B133059_Endo...                      endothelial cell   \n",
       "TSP2_Vasculature_aorta_SS2_B114577_B133059_Endo...                      endothelial cell   \n",
       "\n",
       "                                                        free_annotation  \\\n",
       "AAACCCACACTCCTGT_TSP6_Liver_NA_10X_1_1              Monocyte/Macrophage   \n",
       "AAACGAAGTACCAGAG_TSP6_Liver_NA_10X_1_1                         Monocyte   \n",
       "AAACGCTCAACGGCTC_TSP6_Liver_NA_10X_1_1                      Endothelial   \n",
       "AAAGAACAGCCTCTTC_TSP6_Liver_NA_10X_1_1              Monocyte/Macrophage   \n",
       "AAAGAACGTAGCACAG_TSP6_Liver_NA_10X_1_1                   Dendritic cell   \n",
       "...                                                                 ...   \n",
       "TSP2_Vasculature_aorta_SS2_B114577_B133059_Endo...     endothelial cell   \n",
       "TSP2_Vasculature_aorta_SS2_B114577_B133059_Endo...     endothelial cell   \n",
       "TSP2_Vasculature_aorta_SS2_B114577_B133059_Endo...     endothelial cell   \n",
       "TSP2_Vasculature_aorta_SS2_B114577_B133059_Endo...     endothelial cell   \n",
       "TSP2_Vasculature_aorta_SS2_B114577_B133059_Endo...     endothelial cell   \n",
       "\n",
       "                                                    manually_annotated  \\\n",
       "AAACCCACACTCCTGT_TSP6_Liver_NA_10X_1_1                            True   \n",
       "AAACGAAGTACCAGAG_TSP6_Liver_NA_10X_1_1                            True   \n",
       "AAACGCTCAACGGCTC_TSP6_Liver_NA_10X_1_1                            True   \n",
       "AAAGAACAGCCTCTTC_TSP6_Liver_NA_10X_1_1                            True   \n",
       "AAAGAACGTAGCACAG_TSP6_Liver_NA_10X_1_1                            True   \n",
       "...                                                                ...   \n",
       "TSP2_Vasculature_aorta_SS2_B114577_B133059_Endo...                True   \n",
       "TSP2_Vasculature_aorta_SS2_B114577_B133059_Endo...                True   \n",
       "TSP2_Vasculature_aorta_SS2_B114577_B133059_Endo...                True   \n",
       "TSP2_Vasculature_aorta_SS2_B114577_B133059_Endo...                True   \n",
       "TSP2_Vasculature_aorta_SS2_B114577_B133059_Endo...                True   \n",
       "\n",
       "                                                    compartment  gender  \n",
       "AAACCCACACTCCTGT_TSP6_Liver_NA_10X_1_1                   immune    male  \n",
       "AAACGAAGTACCAGAG_TSP6_Liver_NA_10X_1_1                   immune    male  \n",
       "AAACGCTCAACGGCTC_TSP6_Liver_NA_10X_1_1              endothelial    male  \n",
       "AAAGAACAGCCTCTTC_TSP6_Liver_NA_10X_1_1                   immune    male  \n",
       "AAAGAACGTAGCACAG_TSP6_Liver_NA_10X_1_1                   immune    male  \n",
       "...                                                         ...     ...  \n",
       "TSP2_Vasculature_aorta_SS2_B114577_B133059_Endo...  endothelial  female  \n",
       "TSP2_Vasculature_aorta_SS2_B114577_B133059_Endo...  endothelial  female  \n",
       "TSP2_Vasculature_aorta_SS2_B114577_B133059_Endo...  endothelial  female  \n",
       "TSP2_Vasculature_aorta_SS2_B114577_B133059_Endo...  endothelial  female  \n",
       "TSP2_Vasculature_aorta_SS2_B114577_B133059_Endo...  endothelial  female  \n",
       "\n",
       "[483152 rows x 11 columns]"
      ]
     },
     "execution_count": 9,
     "metadata": {},
     "output_type": "execute_result"
    }
   ],
   "source": [
    "adata.obs"
   ]
  },
  {
   "cell_type": "code",
   "execution_count": 14,
   "id": "feca19a3-6df6-470a-8138-cbc7d85a96c9",
   "metadata": {},
   "outputs": [
    {
     "name": "stdout",
     "output_type": "stream",
     "text": [
      "['Stellate/Fibroblast', 'fibroblast', 'Fibroblast', 'Adventitial fibroblast', 'Fibroblasts (Lipofibroblasts)', 'Uterine fibroblast', 'Endometrial stromal fibbroblast', 'fibroblasts', 'Fibroblasts', 'Myofibroblasts', 'Cardiac Fibroblast', 'Adventitial Fibroblast', 'myofibroblast cell', 'alveolar fibroblast']\n"
     ]
    }
   ],
   "source": [
    "# Find all unique entries in 'cell_ontology_class' that contain 'fib' (case-insensitive)\n",
    "fib_entries = [entry for entry in adata.obs['free_annotation'].unique() if 'fib' in entry.lower()]\n",
    "\n",
    "print(fib_entries)\n"
   ]
  },
  {
   "cell_type": "code",
   "execution_count": 15,
   "id": "3e875d5c-bb15-4129-8c44-76acc37bf6ec",
   "metadata": {},
   "outputs": [
    {
     "data": {
      "text/plain": [
       "(38151, 58870)"
      ]
     },
     "execution_count": 15,
     "metadata": {},
     "output_type": "execute_result"
    }
   ],
   "source": [
    "# Find all unique entries in 'cell_ontology_class' that contain 'fib' (case-insensitive)\n",
    "fib_entries = [entry for entry in adata.obs['free_annotation'].unique() if 'fib' in entry.lower()]\n",
    "\n",
    "# Filter adata to include only rows where 'cell_ontology_class' is in fib_entries\n",
    "fibroblast_adata = adata[adata.obs['free_annotation'].isin(fib_entries)].copy()\n",
    "\n",
    "fibroblast_adata.shape\n"
   ]
  }
 ],
 "metadata": {
  "kernelspec": {
   "display_name": "Python 3 (ipykernel)",
   "language": "python",
   "name": "python3"
  },
  "language_info": {
   "codemirror_mode": {
    "name": "ipython",
    "version": 3
   },
   "file_extension": ".py",
   "mimetype": "text/x-python",
   "name": "python",
   "nbconvert_exporter": "python",
   "pygments_lexer": "ipython3",
   "version": "3.11.7"
  }
 },
 "nbformat": 4,
 "nbformat_minor": 5
}
