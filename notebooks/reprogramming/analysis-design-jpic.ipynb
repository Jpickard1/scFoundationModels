{
 "cells": [
  {
   "cell_type": "markdown",
   "id": "a02ae432-1a15-42ca-b338-525f21026908",
   "metadata": {},
   "source": [
    "# Analysis of these reprogramming Recepies"
   ]
  },
  {
   "cell_type": "markdown",
   "id": "b7fac862-b1a4-4c38-8d3f-8c966d522f2e",
   "metadata": {},
   "source": [
    "# Day 1: Geneforme embedding analysis"
   ]
  },
  {
   "cell_type": "code",
   "execution_count": 1,
   "id": "a8383457-34aa-4533-853e-ac51f8a82372",
   "metadata": {},
   "outputs": [],
   "source": [
    "import numpy as np\n",
    "import anndata as ad\n",
    "import pandas as pd\n",
    "import scanpy as sc\n",
    "import os\n",
    "\n",
    "import seaborn as sns\n",
    "import matplotlib.pyplot as plt\n",
    "\n",
    "from scipy.spatial.distance import pdist, squareform"
   ]
  },
  {
   "cell_type": "markdown",
   "id": "b5ffcb54-dd1d-477a-a903-b215b6d68ea3",
   "metadata": {},
   "source": [
    "## Load and organize data"
   ]
  },
  {
   "cell_type": "code",
   "execution_count": 2,
   "id": "23bd4564-4c25-4ad5-a6b7-1c52b8426a92",
   "metadata": {},
   "outputs": [
    {
     "name": "stdout",
     "output_type": "stream",
     "text": [
      "List of .h5ad files: ['POU3F2_SOX2_BACH1_AR_PBX1_NANOG.h5ad', 'PDX1_PAX4_MAFA.h5ad', 'ETV2.h5ad', 'PPARG.h5ad', 'NEUROG2_SOX11_ISL1_LHX3.h5ad', 'HNF4A_FOXA3_GATA6_CDX2.h5ad', 'SOX18.h5ad', 'NFKB1_LEF1.h5ad', 'MYOCD.h5ad', 'MYOCD_GATA6_MEF2C.h5ad', 'EMX2_HNF1B_HNF4A_PAX8.h5ad', 'GATA4_MEF2C_TBX5_ESRRG_MESP1_ZFPM2_MYOCD.h5ad', 'SOX2.h5ad', 'ATF5_PROX1_FOXA2_FOXA3_HNF4A.h5ad', 'MYOD1_MYCL.h5ad', 'MSI1_NEUROG2_MBD2.h5ad', 'GATA4_MEF2C_TBX5_MESP1_MYOCD.h5ad', 'SOX2_HMGA2.h5ad', 'SPI1_IRF8_BATF3.h5ad', 'fibroblast.h5ad', 'ASCL1_PAX6.h5ad', 'NFE2_MAFG_MAFK.h5ad', 'PRDM16_CEBPB.h5ad', 'SOX2_ASCL1_NEUROG2.h5ad', 'MITF_SOX10_PAX3.h5ad', 'CRX_RAX_NEUROD1.h5ad', 'MYC_KLF4_SOX9.h5ad', 'SOX2_PAX6.h5ad', 'AR_SOX2_SMAD3_MYC_JUN_WT1_TAL1_SPI1_RUNX1.h5ad', 'CRX_RAX_OTX2_NEUROD1.h5ad', 'PTF1A.h5ad', 'SNAI2_EYA1_SIX1.h5ad', 'FOXM1_SOX2_MYC_SALL4_STAT6.h5ad', 'ASCL1_SOX2.h5ad', 'ASCL1_POU3F2_MYT1L_LMX1A_FOXA2.h5ad']\n"
     ]
    },
    {
     "name": "stderr",
     "output_type": "stream",
     "text": [
      "/home/jpic/.local/lib/python3.11/site-packages/anndata/_core/anndata.py:1818: UserWarning: Observation names are not unique. To make them unique, call `.obs_names_make_unique`.\n",
      "  utils.warn_names_duplicates(\"obs\")\n"
     ]
    },
    {
     "name": "stdout",
     "output_type": "stream",
     "text": [
      "POU3F2_SOX2_BACH1_AR_PBX1_NANOG.h5ad:\n"
     ]
    },
    {
     "name": "stderr",
     "output_type": "stream",
     "text": [
      "/home/jpic/.local/lib/python3.11/site-packages/anndata/_core/anndata.py:1818: UserWarning: Observation names are not unique. To make them unique, call `.obs_names_make_unique`.\n",
      "  utils.warn_names_duplicates(\"obs\")\n"
     ]
    },
    {
     "name": "stdout",
     "output_type": "stream",
     "text": [
      "PDX1_PAX4_MAFA.h5ad:\n"
     ]
    },
    {
     "name": "stderr",
     "output_type": "stream",
     "text": [
      "/home/jpic/.local/lib/python3.11/site-packages/anndata/_core/anndata.py:1818: UserWarning: Observation names are not unique. To make them unique, call `.obs_names_make_unique`.\n",
      "  utils.warn_names_duplicates(\"obs\")\n"
     ]
    },
    {
     "name": "stdout",
     "output_type": "stream",
     "text": [
      "ETV2.h5ad:\n"
     ]
    },
    {
     "name": "stderr",
     "output_type": "stream",
     "text": [
      "/home/jpic/.local/lib/python3.11/site-packages/anndata/_core/anndata.py:1818: UserWarning: Observation names are not unique. To make them unique, call `.obs_names_make_unique`.\n",
      "  utils.warn_names_duplicates(\"obs\")\n"
     ]
    },
    {
     "name": "stdout",
     "output_type": "stream",
     "text": [
      "PPARG.h5ad:\n"
     ]
    },
    {
     "name": "stderr",
     "output_type": "stream",
     "text": [
      "/home/jpic/.local/lib/python3.11/site-packages/anndata/_core/anndata.py:1818: UserWarning: Observation names are not unique. To make them unique, call `.obs_names_make_unique`.\n",
      "  utils.warn_names_duplicates(\"obs\")\n"
     ]
    },
    {
     "name": "stdout",
     "output_type": "stream",
     "text": [
      "NEUROG2_SOX11_ISL1_LHX3.h5ad:\n"
     ]
    },
    {
     "name": "stderr",
     "output_type": "stream",
     "text": [
      "/home/jpic/.local/lib/python3.11/site-packages/anndata/_core/anndata.py:1818: UserWarning: Observation names are not unique. To make them unique, call `.obs_names_make_unique`.\n",
      "  utils.warn_names_duplicates(\"obs\")\n"
     ]
    },
    {
     "name": "stdout",
     "output_type": "stream",
     "text": [
      "HNF4A_FOXA3_GATA6_CDX2.h5ad:\n"
     ]
    },
    {
     "name": "stderr",
     "output_type": "stream",
     "text": [
      "/home/jpic/.local/lib/python3.11/site-packages/anndata/_core/anndata.py:1818: UserWarning: Observation names are not unique. To make them unique, call `.obs_names_make_unique`.\n",
      "  utils.warn_names_duplicates(\"obs\")\n"
     ]
    },
    {
     "name": "stdout",
     "output_type": "stream",
     "text": [
      "SOX18.h5ad:\n"
     ]
    },
    {
     "name": "stderr",
     "output_type": "stream",
     "text": [
      "/home/jpic/.local/lib/python3.11/site-packages/anndata/_core/anndata.py:1818: UserWarning: Observation names are not unique. To make them unique, call `.obs_names_make_unique`.\n",
      "  utils.warn_names_duplicates(\"obs\")\n"
     ]
    },
    {
     "name": "stdout",
     "output_type": "stream",
     "text": [
      "NFKB1_LEF1.h5ad:\n"
     ]
    },
    {
     "name": "stderr",
     "output_type": "stream",
     "text": [
      "/home/jpic/.local/lib/python3.11/site-packages/anndata/_core/anndata.py:1818: UserWarning: Observation names are not unique. To make them unique, call `.obs_names_make_unique`.\n",
      "  utils.warn_names_duplicates(\"obs\")\n"
     ]
    },
    {
     "name": "stdout",
     "output_type": "stream",
     "text": [
      "MYOCD.h5ad:\n"
     ]
    },
    {
     "name": "stderr",
     "output_type": "stream",
     "text": [
      "/home/jpic/.local/lib/python3.11/site-packages/anndata/_core/anndata.py:1818: UserWarning: Observation names are not unique. To make them unique, call `.obs_names_make_unique`.\n",
      "  utils.warn_names_duplicates(\"obs\")\n"
     ]
    },
    {
     "name": "stdout",
     "output_type": "stream",
     "text": [
      "MYOCD_GATA6_MEF2C.h5ad:\n"
     ]
    },
    {
     "name": "stderr",
     "output_type": "stream",
     "text": [
      "/home/jpic/.local/lib/python3.11/site-packages/anndata/_core/anndata.py:1818: UserWarning: Observation names are not unique. To make them unique, call `.obs_names_make_unique`.\n",
      "  utils.warn_names_duplicates(\"obs\")\n"
     ]
    },
    {
     "name": "stdout",
     "output_type": "stream",
     "text": [
      "EMX2_HNF1B_HNF4A_PAX8.h5ad:\n"
     ]
    },
    {
     "name": "stderr",
     "output_type": "stream",
     "text": [
      "/home/jpic/.local/lib/python3.11/site-packages/anndata/_core/anndata.py:1818: UserWarning: Observation names are not unique. To make them unique, call `.obs_names_make_unique`.\n",
      "  utils.warn_names_duplicates(\"obs\")\n"
     ]
    },
    {
     "name": "stdout",
     "output_type": "stream",
     "text": [
      "GATA4_MEF2C_TBX5_ESRRG_MESP1_ZFPM2_MYOCD.h5ad:\n"
     ]
    },
    {
     "name": "stderr",
     "output_type": "stream",
     "text": [
      "/home/jpic/.local/lib/python3.11/site-packages/anndata/_core/anndata.py:1818: UserWarning: Observation names are not unique. To make them unique, call `.obs_names_make_unique`.\n",
      "  utils.warn_names_duplicates(\"obs\")\n"
     ]
    },
    {
     "name": "stdout",
     "output_type": "stream",
     "text": [
      "SOX2.h5ad:\n"
     ]
    },
    {
     "name": "stderr",
     "output_type": "stream",
     "text": [
      "/home/jpic/.local/lib/python3.11/site-packages/anndata/_core/anndata.py:1818: UserWarning: Observation names are not unique. To make them unique, call `.obs_names_make_unique`.\n",
      "  utils.warn_names_duplicates(\"obs\")\n"
     ]
    },
    {
     "name": "stdout",
     "output_type": "stream",
     "text": [
      "ATF5_PROX1_FOXA2_FOXA3_HNF4A.h5ad:\n"
     ]
    },
    {
     "name": "stderr",
     "output_type": "stream",
     "text": [
      "/home/jpic/.local/lib/python3.11/site-packages/anndata/_core/anndata.py:1818: UserWarning: Observation names are not unique. To make them unique, call `.obs_names_make_unique`.\n",
      "  utils.warn_names_duplicates(\"obs\")\n"
     ]
    },
    {
     "name": "stdout",
     "output_type": "stream",
     "text": [
      "MYOD1_MYCL.h5ad:\n"
     ]
    },
    {
     "name": "stderr",
     "output_type": "stream",
     "text": [
      "/home/jpic/.local/lib/python3.11/site-packages/anndata/_core/anndata.py:1818: UserWarning: Observation names are not unique. To make them unique, call `.obs_names_make_unique`.\n",
      "  utils.warn_names_duplicates(\"obs\")\n"
     ]
    },
    {
     "name": "stdout",
     "output_type": "stream",
     "text": [
      "MSI1_NEUROG2_MBD2.h5ad:\n"
     ]
    },
    {
     "name": "stderr",
     "output_type": "stream",
     "text": [
      "/home/jpic/.local/lib/python3.11/site-packages/anndata/_core/anndata.py:1818: UserWarning: Observation names are not unique. To make them unique, call `.obs_names_make_unique`.\n",
      "  utils.warn_names_duplicates(\"obs\")\n"
     ]
    },
    {
     "name": "stdout",
     "output_type": "stream",
     "text": [
      "GATA4_MEF2C_TBX5_MESP1_MYOCD.h5ad:\n"
     ]
    },
    {
     "name": "stderr",
     "output_type": "stream",
     "text": [
      "/home/jpic/.local/lib/python3.11/site-packages/anndata/_core/anndata.py:1818: UserWarning: Observation names are not unique. To make them unique, call `.obs_names_make_unique`.\n",
      "  utils.warn_names_duplicates(\"obs\")\n"
     ]
    },
    {
     "name": "stdout",
     "output_type": "stream",
     "text": [
      "SOX2_HMGA2.h5ad:\n"
     ]
    },
    {
     "name": "stderr",
     "output_type": "stream",
     "text": [
      "/home/jpic/.local/lib/python3.11/site-packages/anndata/_core/anndata.py:1818: UserWarning: Observation names are not unique. To make them unique, call `.obs_names_make_unique`.\n",
      "  utils.warn_names_duplicates(\"obs\")\n"
     ]
    },
    {
     "name": "stdout",
     "output_type": "stream",
     "text": [
      "SPI1_IRF8_BATF3.h5ad:\n",
      "fibroblast.h5ad:\n"
     ]
    },
    {
     "name": "stderr",
     "output_type": "stream",
     "text": [
      "/home/jpic/.local/lib/python3.11/site-packages/anndata/_core/anndata.py:1818: UserWarning: Observation names are not unique. To make them unique, call `.obs_names_make_unique`.\n",
      "  utils.warn_names_duplicates(\"obs\")\n"
     ]
    },
    {
     "name": "stdout",
     "output_type": "stream",
     "text": [
      "ASCL1_PAX6.h5ad:\n"
     ]
    },
    {
     "name": "stderr",
     "output_type": "stream",
     "text": [
      "/home/jpic/.local/lib/python3.11/site-packages/anndata/_core/anndata.py:1818: UserWarning: Observation names are not unique. To make them unique, call `.obs_names_make_unique`.\n",
      "  utils.warn_names_duplicates(\"obs\")\n"
     ]
    },
    {
     "name": "stdout",
     "output_type": "stream",
     "text": [
      "NFE2_MAFG_MAFK.h5ad:\n"
     ]
    },
    {
     "name": "stderr",
     "output_type": "stream",
     "text": [
      "/home/jpic/.local/lib/python3.11/site-packages/anndata/_core/anndata.py:1818: UserWarning: Observation names are not unique. To make them unique, call `.obs_names_make_unique`.\n",
      "  utils.warn_names_duplicates(\"obs\")\n"
     ]
    },
    {
     "name": "stdout",
     "output_type": "stream",
     "text": [
      "PRDM16_CEBPB.h5ad:\n"
     ]
    },
    {
     "name": "stderr",
     "output_type": "stream",
     "text": [
      "/home/jpic/.local/lib/python3.11/site-packages/anndata/_core/anndata.py:1818: UserWarning: Observation names are not unique. To make them unique, call `.obs_names_make_unique`.\n",
      "  utils.warn_names_duplicates(\"obs\")\n"
     ]
    },
    {
     "name": "stdout",
     "output_type": "stream",
     "text": [
      "SOX2_ASCL1_NEUROG2.h5ad:\n"
     ]
    },
    {
     "name": "stderr",
     "output_type": "stream",
     "text": [
      "/home/jpic/.local/lib/python3.11/site-packages/anndata/_core/anndata.py:1818: UserWarning: Observation names are not unique. To make them unique, call `.obs_names_make_unique`.\n",
      "  utils.warn_names_duplicates(\"obs\")\n"
     ]
    },
    {
     "name": "stdout",
     "output_type": "stream",
     "text": [
      "MITF_SOX10_PAX3.h5ad:\n"
     ]
    },
    {
     "name": "stderr",
     "output_type": "stream",
     "text": [
      "/home/jpic/.local/lib/python3.11/site-packages/anndata/_core/anndata.py:1818: UserWarning: Observation names are not unique. To make them unique, call `.obs_names_make_unique`.\n",
      "  utils.warn_names_duplicates(\"obs\")\n"
     ]
    },
    {
     "name": "stdout",
     "output_type": "stream",
     "text": [
      "CRX_RAX_NEUROD1.h5ad:\n"
     ]
    },
    {
     "name": "stderr",
     "output_type": "stream",
     "text": [
      "/home/jpic/.local/lib/python3.11/site-packages/anndata/_core/anndata.py:1818: UserWarning: Observation names are not unique. To make them unique, call `.obs_names_make_unique`.\n",
      "  utils.warn_names_duplicates(\"obs\")\n"
     ]
    },
    {
     "name": "stdout",
     "output_type": "stream",
     "text": [
      "MYC_KLF4_SOX9.h5ad:\n"
     ]
    },
    {
     "name": "stderr",
     "output_type": "stream",
     "text": [
      "/home/jpic/.local/lib/python3.11/site-packages/anndata/_core/anndata.py:1818: UserWarning: Observation names are not unique. To make them unique, call `.obs_names_make_unique`.\n",
      "  utils.warn_names_duplicates(\"obs\")\n"
     ]
    },
    {
     "name": "stdout",
     "output_type": "stream",
     "text": [
      "SOX2_PAX6.h5ad:\n"
     ]
    },
    {
     "name": "stderr",
     "output_type": "stream",
     "text": [
      "/home/jpic/.local/lib/python3.11/site-packages/anndata/_core/anndata.py:1818: UserWarning: Observation names are not unique. To make them unique, call `.obs_names_make_unique`.\n",
      "  utils.warn_names_duplicates(\"obs\")\n"
     ]
    },
    {
     "name": "stdout",
     "output_type": "stream",
     "text": [
      "AR_SOX2_SMAD3_MYC_JUN_WT1_TAL1_SPI1_RUNX1.h5ad:\n"
     ]
    },
    {
     "name": "stderr",
     "output_type": "stream",
     "text": [
      "/home/jpic/.local/lib/python3.11/site-packages/anndata/_core/anndata.py:1818: UserWarning: Observation names are not unique. To make them unique, call `.obs_names_make_unique`.\n",
      "  utils.warn_names_duplicates(\"obs\")\n"
     ]
    },
    {
     "name": "stdout",
     "output_type": "stream",
     "text": [
      "CRX_RAX_OTX2_NEUROD1.h5ad:\n"
     ]
    },
    {
     "name": "stderr",
     "output_type": "stream",
     "text": [
      "/home/jpic/.local/lib/python3.11/site-packages/anndata/_core/anndata.py:1818: UserWarning: Observation names are not unique. To make them unique, call `.obs_names_make_unique`.\n",
      "  utils.warn_names_duplicates(\"obs\")\n"
     ]
    },
    {
     "name": "stdout",
     "output_type": "stream",
     "text": [
      "PTF1A.h5ad:\n"
     ]
    },
    {
     "name": "stderr",
     "output_type": "stream",
     "text": [
      "/home/jpic/.local/lib/python3.11/site-packages/anndata/_core/anndata.py:1818: UserWarning: Observation names are not unique. To make them unique, call `.obs_names_make_unique`.\n",
      "  utils.warn_names_duplicates(\"obs\")\n"
     ]
    },
    {
     "name": "stdout",
     "output_type": "stream",
     "text": [
      "SNAI2_EYA1_SIX1.h5ad:\n"
     ]
    },
    {
     "name": "stderr",
     "output_type": "stream",
     "text": [
      "/home/jpic/.local/lib/python3.11/site-packages/anndata/_core/anndata.py:1818: UserWarning: Observation names are not unique. To make them unique, call `.obs_names_make_unique`.\n",
      "  utils.warn_names_duplicates(\"obs\")\n"
     ]
    },
    {
     "name": "stdout",
     "output_type": "stream",
     "text": [
      "FOXM1_SOX2_MYC_SALL4_STAT6.h5ad:\n"
     ]
    },
    {
     "name": "stderr",
     "output_type": "stream",
     "text": [
      "/home/jpic/.local/lib/python3.11/site-packages/anndata/_core/anndata.py:1818: UserWarning: Observation names are not unique. To make them unique, call `.obs_names_make_unique`.\n",
      "  utils.warn_names_duplicates(\"obs\")\n"
     ]
    },
    {
     "name": "stdout",
     "output_type": "stream",
     "text": [
      "ASCL1_SOX2.h5ad:\n",
      "ASCL1_POU3F2_MYT1L_LMX1A_FOXA2.h5ad:\n"
     ]
    },
    {
     "name": "stderr",
     "output_type": "stream",
     "text": [
      "/home/jpic/.local/lib/python3.11/site-packages/anndata/_core/anndata.py:1818: UserWarning: Observation names are not unique. To make them unique, call `.obs_names_make_unique`.\n",
      "  utils.warn_names_duplicates(\"obs\")\n"
     ]
    }
   ],
   "source": [
    "datapath = '/nfs/turbo/umms-indikar/shared/projects/DARPA_AI/in-silico-reprogramming/one-shot/geneformer'\n",
    "\n",
    "# Organize all perturbed embedding files\n",
    "h5ad_files = [f for f in os.listdir(datapath) if f.endswith('.h5ad')]\n",
    "print(f\"List of .h5ad files: {h5ad_files}\")\n",
    "\n",
    "adata_perturbed = {}\n",
    "for file in h5ad_files:\n",
    "    adata_perturbed[file] = sc.read_h5ad(os.path.join(datapath, file))\n",
    "    print(f\"{file}:\")\n",
    "\n",
    "# Load unperturbed embedding file\n",
    "fibroblast_file = os.path.join(datapath, 'fibroblast.h5ad')\n",
    "adata_fibroblast = sc.read_h5ad(fibroblast_file)\n"
   ]
  },
  {
   "cell_type": "markdown",
   "id": "e6e7dee8-1a94-4b34-a35d-827947a3abee",
   "metadata": {},
   "source": [
    "### Make a big tensor from the entire experiment"
   ]
  },
  {
   "cell_type": "code",
   "execution_count": 5,
   "id": "243be790-c94c-4c76-bf81-c15bbe18eee6",
   "metadata": {},
   "outputs": [
    {
     "name": "stdout",
     "output_type": "stream",
     "text": [
      "POU3F2_SOX2_BACH1_AR_PBX1_NANOG.h5ad\n",
      "PDX1_PAX4_MAFA.h5ad\n",
      "ETV2.h5ad\n",
      "PPARG.h5ad\n",
      "NEUROG2_SOX11_ISL1_LHX3.h5ad\n",
      "HNF4A_FOXA3_GATA6_CDX2.h5ad\n",
      "SOX18.h5ad\n",
      "NFKB1_LEF1.h5ad\n",
      "MYOCD.h5ad\n",
      "MYOCD_GATA6_MEF2C.h5ad\n",
      "EMX2_HNF1B_HNF4A_PAX8.h5ad\n",
      "GATA4_MEF2C_TBX5_ESRRG_MESP1_ZFPM2_MYOCD.h5ad\n",
      "SOX2.h5ad\n",
      "ATF5_PROX1_FOXA2_FOXA3_HNF4A.h5ad\n",
      "MYOD1_MYCL.h5ad\n",
      "MSI1_NEUROG2_MBD2.h5ad\n",
      "GATA4_MEF2C_TBX5_MESP1_MYOCD.h5ad\n",
      "SOX2_HMGA2.h5ad\n",
      "SPI1_IRF8_BATF3.h5ad\n",
      "ASCL1_PAX6.h5ad\n",
      "NFE2_MAFG_MAFK.h5ad\n",
      "PRDM16_CEBPB.h5ad\n",
      "SOX2_ASCL1_NEUROG2.h5ad\n",
      "MITF_SOX10_PAX3.h5ad\n",
      "CRX_RAX_NEUROD1.h5ad\n",
      "MYC_KLF4_SOX9.h5ad\n",
      "SOX2_PAX6.h5ad\n",
      "AR_SOX2_SMAD3_MYC_JUN_WT1_TAL1_SPI1_RUNX1.h5ad\n",
      "CRX_RAX_OTX2_NEUROD1.h5ad\n",
      "PTF1A.h5ad\n",
      "SNAI2_EYA1_SIX1.h5ad\n",
      "FOXM1_SOX2_MYC_SALL4_STAT6.h5ad\n",
      "ASCL1_SOX2.h5ad\n",
      "ASCL1_POU3F2_MYT1L_LMX1A_FOXA2.h5ad\n"
     ]
    }
   ],
   "source": [
    "# tensor to store points on the embedding manifold\n",
    "M = np.zeros((len(adata_perturbed), 512, len(adata_fibroblast.obs_names), 3))\n",
    "\n",
    "# tensor to store points on the tangent bundle of the manifold\n",
    "TB = np.zeros((len(adata_perturbed), 512, len(adata_fibroblast.obs_names), 3))\n",
    "\n",
    "# Loop over recipes\n",
    "for filei, file in enumerate(adata_perturbed.keys()):\n",
    "    if file == 'fibroblast.h5ad':\n",
    "        continue\n",
    "    print(file)\n",
    "\n",
    "    # Extract the specific emebddings\n",
    "    padata = adata_perturbed[file]\n",
    "\n",
    "    # Get the reprogramming concentrations\n",
    "    U = padata.obs['U'].unique() # array([0.5  , 0.75 , 1.001])\n",
    "    \n",
    "    # make 3 new adata for the different values of U by only selecting the corresponding observations for each\n",
    "    adata_U_0_5 = padata[padata.obs['U'] == 0.5].copy()\n",
    "    adata_U_0_75 = padata[padata.obs['U'] == 0.75].copy()\n",
    "    adata_U_1_001 = padata[padata.obs['U'] == 1.001].copy()\n",
    "\n",
    "    # These lines shouldn't change anything -- but if the data were organized differently, they would matter\n",
    "    common_obs = adata_fibroblast.obs_names.intersection(padata.obs_names)\n",
    "    adata_fibroblast = adata_fibroblast[common_obs]\n",
    "    adata_U_0_5      = adata_U_0_5[common_obs]\n",
    "    adata_U_0_75     = adata_U_0_75[common_obs]\n",
    "    adata_U_1_001    = adata_U_1_001[common_obs]\n",
    "    \n",
    "    # Save differentces into a tensor\n",
    "    TB[filei, :, :, 0] = (adata_fibroblast.X - adata_U_0_5.X).T\n",
    "    TB[filei, :, :, 1] = (adata_fibroblast.X - adata_U_0_75.X).T\n",
    "    TB[filei, :, :, 2] = (adata_fibroblast.X - adata_U_1_001.X).T"
   ]
  },
  {
   "cell_type": "markdown",
   "id": "d0e99f2a-5712-41fe-a6e5-7d6597989b6e",
   "metadata": {},
   "source": [
    "# Tensor Based Analysis"
   ]
  },
  {
   "cell_type": "code",
   "execution_count": 12,
   "id": "952211d8-fc49-4ea1-b704-301e19977721",
   "metadata": {},
   "outputs": [],
   "source": [
    "import tensorly as tl\n",
    "from tensorly.decomposition import tucker"
   ]
  },
  {
   "cell_type": "code",
   "execution_count": null,
   "id": "b381e5aa-46f4-47cb-b103-a9a15ffa843b",
   "metadata": {},
   "outputs": [
    {
     "name": "stderr",
     "output_type": "stream",
     "text": [
      "/home/jpic/.local/lib/python3.11/site-packages/tensorly/tucker_tensor.py:425: RuntimeWarning: Given only one int for 'rank' for decomposition a tensor of order 4. Using this rank for all modes.\n",
      "  warnings.warn(message, RuntimeWarning)\n"
     ]
    }
   ],
   "source": [
    "tucker_decomp = tucker(M, 1, n_iter_max=10)"
   ]
  },
  {
   "cell_type": "code",
   "execution_count": 13,
   "id": "a966f2b1-9072-4dfb-b382-77977026bd70",
   "metadata": {},
   "outputs": [
    {
     "data": {
      "text/plain": [
       "\u001b[0;31mSignature:\u001b[0m\n",
       "\u001b[0mtucker\u001b[0m\u001b[0;34m(\u001b[0m\u001b[0;34m\u001b[0m\n",
       "\u001b[0;34m\u001b[0m    \u001b[0mtensor\u001b[0m\u001b[0;34m,\u001b[0m\u001b[0;34m\u001b[0m\n",
       "\u001b[0;34m\u001b[0m    \u001b[0mrank\u001b[0m\u001b[0;34m,\u001b[0m\u001b[0;34m\u001b[0m\n",
       "\u001b[0;34m\u001b[0m    \u001b[0mfixed_factors\u001b[0m\u001b[0;34m=\u001b[0m\u001b[0;32mNone\u001b[0m\u001b[0;34m,\u001b[0m\u001b[0;34m\u001b[0m\n",
       "\u001b[0;34m\u001b[0m    \u001b[0mn_iter_max\u001b[0m\u001b[0;34m=\u001b[0m\u001b[0;36m100\u001b[0m\u001b[0;34m,\u001b[0m\u001b[0;34m\u001b[0m\n",
       "\u001b[0;34m\u001b[0m    \u001b[0minit\u001b[0m\u001b[0;34m=\u001b[0m\u001b[0;34m'svd'\u001b[0m\u001b[0;34m,\u001b[0m\u001b[0;34m\u001b[0m\n",
       "\u001b[0;34m\u001b[0m    \u001b[0mreturn_errors\u001b[0m\u001b[0;34m=\u001b[0m\u001b[0;32mFalse\u001b[0m\u001b[0;34m,\u001b[0m\u001b[0;34m\u001b[0m\n",
       "\u001b[0;34m\u001b[0m    \u001b[0msvd\u001b[0m\u001b[0;34m=\u001b[0m\u001b[0;34m'truncated_svd'\u001b[0m\u001b[0;34m,\u001b[0m\u001b[0;34m\u001b[0m\n",
       "\u001b[0;34m\u001b[0m    \u001b[0mtol\u001b[0m\u001b[0;34m=\u001b[0m\u001b[0;36m0.0001\u001b[0m\u001b[0;34m,\u001b[0m\u001b[0;34m\u001b[0m\n",
       "\u001b[0;34m\u001b[0m    \u001b[0mrandom_state\u001b[0m\u001b[0;34m=\u001b[0m\u001b[0;32mNone\u001b[0m\u001b[0;34m,\u001b[0m\u001b[0;34m\u001b[0m\n",
       "\u001b[0;34m\u001b[0m    \u001b[0mmask\u001b[0m\u001b[0;34m=\u001b[0m\u001b[0;32mNone\u001b[0m\u001b[0;34m,\u001b[0m\u001b[0;34m\u001b[0m\n",
       "\u001b[0;34m\u001b[0m    \u001b[0mverbose\u001b[0m\u001b[0;34m=\u001b[0m\u001b[0;32mFalse\u001b[0m\u001b[0;34m,\u001b[0m\u001b[0;34m\u001b[0m\n",
       "\u001b[0;34m\u001b[0m\u001b[0;34m)\u001b[0m\u001b[0;34m\u001b[0m\u001b[0;34m\u001b[0m\u001b[0m\n",
       "\u001b[0;31mDocstring:\u001b[0m\n",
       "Tucker decomposition via Higher Order Orthogonal Iteration (HOI)\n",
       "\n",
       "    Decomposes `tensor` into a Tucker decomposition:\n",
       "    ``tensor = [| core; factors[0], ...factors[-1] |]`` [1]_\n",
       "\n",
       "Parameters\n",
       "----------\n",
       "tensor : ndarray\n",
       "rank : None, int or int list\n",
       "    size of the core tensor, ``(len(ranks) == tensor.ndim)``\n",
       "    if int, the same rank is used for all modes\n",
       "fixed_factors : int list or None, default is None\n",
       "    if not None, list of modes for which to keep the factors fixed.\n",
       "    Only valid if a Tucker tensor is provided as init.\n",
       "n_iter_max : int\n",
       "             maximum number of iteration\n",
       "init : {'svd', 'random'}, optional\n",
       "return_errors : boolean\n",
       "    Indicates whether the algorithm should return all reconstruction errors\n",
       "    and computation time of each iteration or not\n",
       "    Default: False\n",
       "svd : str, default is 'truncated_svd'\n",
       "    function to use to compute the SVD,\n",
       "    acceptable values in tensorly.SVD_FUNS\n",
       "tol : float, optional\n",
       "      tolerance: the algorithm stops when the variation in\n",
       "      the reconstruction error is less than the tolerance\n",
       "random_state : {None, int, np.random.RandomState}\n",
       "mask : ndarray\n",
       "    array of booleans with the same shape as ``tensor`` should be 0 where\n",
       "    the values are missing and 1 everywhere else. Note:  if tensor is\n",
       "    sparse, then mask should also be sparse with a fill value of 1 (or\n",
       "    True).\n",
       "verbose : int, optional\n",
       "    level of verbosity\n",
       "\n",
       "Returns\n",
       "-------\n",
       "core : ndarray of size `ranks`\n",
       "        core tensor of the Tucker decomposition\n",
       "factors : ndarray list\n",
       "        list of factors of the Tucker decomposition.\n",
       "        Its ``i``-th element is of shape ``(tensor.shape[i], ranks[i])``\n",
       "\n",
       "References\n",
       "----------\n",
       ".. [1] tl.G.Kolda and B.W.Bader, \"Tensor Decompositions and Applications\",\n",
       "   SIAM REVIEW, vol. 51, n. 3, pp. 455-500, 2009.\n",
       "\u001b[0;31mFile:\u001b[0m      ~/.local/lib/python3.11/site-packages/tensorly/decomposition/_tucker.py\n",
       "\u001b[0;31mType:\u001b[0m      function"
      ]
     },
     "metadata": {},
     "output_type": "display_data"
    }
   ],
   "source": [
    "?tucker"
   ]
  },
  {
   "cell_type": "code",
   "execution_count": 10,
   "id": "4fb5e1ec-c5fd-4f5b-beb2-19c8103d30a3",
   "metadata": {},
   "outputs": [
    {
     "data": {
      "text/plain": [
       "array([[-0.08637278, -0.20796847, -0.18312106, ...,  0.00559324,\n",
       "        -0.05370015, -0.06365508],\n",
       "       [-0.33110675, -0.49485666, -0.44936487, ...,  0.03609356,\n",
       "        -0.03845519, -0.03435487],\n",
       "       [-0.0242486 , -0.03331667,  0.05985332, ..., -0.02175173,\n",
       "        -0.01683334, -0.00147191],\n",
       "       ...,\n",
       "       [-0.0436874 , -0.03159702, -0.12412196, ..., -0.03533494,\n",
       "        -0.03484666, -0.00776386],\n",
       "       [ 0.12628615,  0.28881222,  0.23042804, ..., -0.08975693,\n",
       "        -0.07819148, -0.03784243],\n",
       "       [ 0.08042282,  0.12982875,  0.12819511, ..., -0.01235995,\n",
       "         0.0261434 ,  0.04216343]])"
      ]
     },
     "execution_count": 10,
     "metadata": {},
     "output_type": "execute_result"
    }
   ],
   "source": [
    "TB.reshape((512, 35*38151*3))"
   ]
  },
  {
   "cell_type": "markdown",
   "id": "54d7e1c2-b26b-4be0-8b53-9b1632d35c33",
   "metadata": {},
   "source": [
    "## Scratch"
   ]
  },
  {
   "cell_type": "markdown",
   "id": "13ec00ee-9c4f-4267-bc9f-3987dbf3b5a0",
   "metadata": {},
   "source": [
    "### Organize one embedding"
   ]
  },
  {
   "cell_type": "code",
   "execution_count": 21,
   "id": "fd3ae446-5819-4225-8234-1457dcdd41f8",
   "metadata": {},
   "outputs": [],
   "source": [
    "padata = adata_perturbed['MYOCD.h5ad']\n",
    "U = padata.obs['U'].unique() # array([0.5  , 0.75 , 1.001])\n",
    "\n",
    "# TODO: make 3 new adata for the different values of U by only selecting the corresponding observations for each\n",
    "adata_U_0_5 = padata[padata.obs['U'] == 0.5].copy()\n",
    "adata_U_0_75 = padata[padata.obs['U'] == 0.75].copy()\n",
    "adata_U_1_001 = padata[padata.obs['U'] == 1.001].copy()\n",
    "\n",
    "common_obs = adata_fibroblast.obs_names.intersection(padata.obs_names)\n",
    "adata_fibroblast = adata_fibroblast[common_obs]\n",
    "adata_U_0_5      = adata_U_0_5[common_obs]\n",
    "adata_U_0_75     = adata_U_0_75[common_obs]\n",
    "adata_U_1_001    = adata_U_1_001[common_obs]\n",
    "\n",
    "D = np.zeros((512, len(common_obs), 3))\n",
    "D[:,:,0] = (adata_fibroblast.X - adata_U_0_5.X).T\n",
    "D[:,:,1] = (adata_fibroblast.X - adata_U_0_75.X).T\n",
    "D[:,:,2] = (adata_fibroblast.X - adata_U_1_001.X).T"
   ]
  },
  {
   "cell_type": "code",
   "execution_count": 21,
   "id": "10cba63d-a029-4afb-a3f8-6797611a4342",
   "metadata": {},
   "outputs": [],
   "source": [
    "padata = adata_perturbed['MYOCD.h5ad']\n",
    "U = padata.obs['U'].unique() # array([0.5  , 0.75 , 1.001])\n",
    "\n",
    "# TODO: make 3 new adata for the different values of U by only selecting the corresponding observations for each\n",
    "adata_U_0_5 = padata[padata.obs['U'] == 0.5].copy()\n",
    "adata_U_0_75 = padata[padata.obs['U'] == 0.75].copy()\n",
    "adata_U_1_001 = padata[padata.obs['U'] == 1.001].copy()\n",
    "\n",
    "common_obs = adata_fibroblast.obs_names.intersection(padata.obs_names)\n",
    "adata_fibroblast = adata_fibroblast[common_obs]\n",
    "adata_U_0_5      = adata_U_0_5[common_obs]\n",
    "adata_U_0_75     = adata_U_0_75[common_obs]\n",
    "adata_U_1_001    = adata_U_1_001[common_obs]\n",
    "\n",
    "D = np.zeros((512, len(common_obs), 3))\n",
    "D[:,:,0] = (adata_fibroblast.X - adata_U_0_5.X).T\n",
    "D[:,:,1] = (adata_fibroblast.X - adata_U_0_75.X).T\n",
    "D[:,:,2] = (adata_fibroblast.X - adata_U_1_001.X).T"
   ]
  },
  {
   "cell_type": "code",
   "execution_count": 22,
   "id": "3e76c1a1-6a02-45aa-a166-d8ee0a5bd1a5",
   "metadata": {},
   "outputs": [
    {
     "data": {
      "text/plain": [
       "array([[[-1.43967897e-01, -4.90904152e-02, -5.26756048e-06],\n",
       "        [ 1.11913681e-03, -6.40279800e-03, -2.33107805e-03],\n",
       "        [-2.42920555e-02, -1.91175863e-02, -9.41798091e-04],\n",
       "        ...,\n",
       "        [ 1.78998113e-02,  1.89110935e-02,  9.23018157e-03],\n",
       "        [-6.46666065e-02, -5.50861582e-02, -5.27259782e-02],\n",
       "        [-1.92220658e-02, -4.11158800e-03, -6.96084835e-03]],\n",
       "\n",
       "       [[-2.93551594e-01,  1.28090382e-04,  2.20537186e-06],\n",
       "        [-1.13777816e-02, -3.99398506e-02, -5.26461601e-02],\n",
       "        [ 8.51902664e-02,  1.18441433e-01,  1.07437462e-01],\n",
       "        ...,\n",
       "        [-5.14774919e-02, -5.21699190e-02, -5.97833991e-02],\n",
       "        [-1.95033312e-01, -1.96735620e-01, -1.98281080e-01],\n",
       "        [-2.35553980e-02, -4.04457748e-02, -7.17520118e-02]],\n",
       "\n",
       "       [[ 3.01316977e-02,  2.71421075e-02,  7.86781311e-06],\n",
       "        [ 3.64298820e-02,  7.71235228e-02,  8.70791078e-02],\n",
       "        [ 3.05553973e-02,  5.92236221e-02,  4.81681824e-02],\n",
       "        ...,\n",
       "        [-2.06651688e-02, -2.40813494e-02, -4.20833826e-02],\n",
       "        [-1.55780613e-02, -3.74082625e-02, -2.39842236e-02],\n",
       "        [ 1.27725661e-01,  1.22275651e-01,  1.09353483e-01]],\n",
       "\n",
       "       ...,\n",
       "\n",
       "       [[-1.46049678e-01,  7.58105516e-03, -7.62939453e-06],\n",
       "        [-3.11139822e-02, -1.39767975e-02, -3.69253308e-02],\n",
       "        [ 4.96408343e-03, -2.73526907e-02, -6.10592365e-02],\n",
       "        ...,\n",
       "        [-1.58302188e-02, -1.91346109e-02, -1.42422318e-02],\n",
       "        [-4.77189273e-02, -9.39199328e-03, -1.48641169e-02],\n",
       "        [ 4.49174047e-02,  6.45521283e-03,  2.15741098e-02]],\n",
       "\n",
       "       [[-8.26520622e-02, -5.98356128e-03,  1.89393759e-05],\n",
       "        [-1.91038549e-02,  1.44153833e-03,  7.57902861e-04],\n",
       "        [ 1.35940194e-01,  1.10477358e-01,  1.18923962e-01],\n",
       "        ...,\n",
       "        [-1.13220915e-01, -1.00165576e-01, -1.00503474e-01],\n",
       "        [ 5.60005903e-02,  8.55290890e-02,  8.48014355e-02],\n",
       "        [ 4.21032608e-02,  4.01295573e-02,  3.85250747e-02]],\n",
       "\n",
       "       [[ 9.74653959e-02,  3.89158726e-02,  4.35113907e-06],\n",
       "        [ 3.24142575e-02,  3.30219865e-02,  3.91950607e-02],\n",
       "        [-8.69365335e-02, -7.33085275e-02, -6.99840188e-02],\n",
       "        ...,\n",
       "        [-1.24217868e-02, -3.54909897e-03, -9.42647457e-04],\n",
       "        [-6.15183413e-02, -6.97856843e-02, -7.13242888e-02],\n",
       "        [-1.88349485e-02, -2.05466151e-02, -8.25822353e-03]]])"
      ]
     },
     "execution_count": 22,
     "metadata": {},
     "output_type": "execute_result"
    }
   ],
   "source": [
    "D"
   ]
  },
  {
   "cell_type": "code",
   "execution_count": 16,
   "id": "5038bf31-20b8-4527-86b2-d14988b6856e",
   "metadata": {},
   "outputs": [
    {
     "data": {
      "text/plain": [
       "Index(['AACAAAGTCCGGCTTT_TSP6_Liver_NA_10X_1_1',\n",
       "       'AATGACCAGTCTTCGA_TSP6_Liver_NA_10X_1_1',\n",
       "       'ACCACAATCCGAGAAG_TSP6_Liver_NA_10X_1_1',\n",
       "       'ACTTCGCCAACTTCTT_TSP6_Liver_NA_10X_1_1',\n",
       "       'AGAAGTATCAGGGATG_TSP6_Liver_NA_10X_1_1',\n",
       "       'AGCGTATGTGCATTTG_TSP6_Liver_NA_10X_1_1',\n",
       "       'AGGCATTGTATCTCTT_TSP6_Liver_NA_10X_1_1',\n",
       "       'AGGGTGAAGCCTGAGA_TSP6_Liver_NA_10X_1_1',\n",
       "       'CACGAATTCACCTGTC_TSP6_Liver_NA_10X_1_1',\n",
       "       'CACTTCGTCGGTTAGT_TSP6_Liver_NA_10X_1_1',\n",
       "       ...\n",
       "       'TSP2_Vasculature_aorta_SS2_B114585_B133324_Stromal_P19_S115',\n",
       "       'TSP2_Vasculature_aorta_SS2_B114585_B133324_Stromal_P1_S97',\n",
       "       'TSP2_Vasculature_aorta_SS2_B114585_B133324_Stromal_P21_S117',\n",
       "       'TSP2_Vasculature_aorta_SS2_B114585_B133324_Stromal_P23_S119',\n",
       "       'TSP2_Vasculature_aorta_SS2_B114585_B133324_Stromal_P2_S98',\n",
       "       'TSP2_Vasculature_aorta_SS2_B114585_B133324_Stromal_P3_S99',\n",
       "       'TSP2_Vasculature_aorta_SS2_B114585_B133324_Stromal_P7_S103',\n",
       "       'TSP2_Vasculature_aorta_SS2_B114585_B133324_Stromal_P9_S105',\n",
       "       'TSP2_Vasculature_aorta_SS2_B113343_B133091_Immune_L6_S270',\n",
       "       'TSP2_Vasculature_aorta_SS2_B113343_B133091_Immune_N6_S318'],\n",
       "      dtype='object', length=38151)"
      ]
     },
     "execution_count": 16,
     "metadata": {},
     "output_type": "execute_result"
    }
   ],
   "source": [
    "common_obs = adata_fibroblast.obs_names.intersection(padata.obs_names)"
   ]
  },
  {
   "cell_type": "code",
   "execution_count": 10,
   "id": "1555b847-fc97-499e-9173-02013fa5462f",
   "metadata": {},
   "outputs": [],
   "source": [
    "padata = adata_perturbed['MYOCD.h5ad']\n",
    "U = padata.obs['U'].unique() # array([0.5  , 0.75 , 1.001])\n",
    "\n",
    "# TODO: make 3 new adata for the different values of U by only selecting the corresponding observations for each\n",
    "adata_U_0_5 = padata[padata.obs['U'] == 0.5].copy()\n",
    "adata_U_0_75 = padata[padata.obs['U'] == 0.75].copy()\n",
    "adata_U_1_001 = padata[padata.obs['U'] == 1.001].copy()\n",
    "\n",
    "# TODO: for each of the three adata objects, I want to compare the data to the data in adata_fibroblast by subtracting the\n",
    "#  difference between observations with the same observation id\n",
    "def compare_adata(adata1, adata2):\n",
    "    # Ensure both AnnData objects have the same observations (by 'obs_names')\n",
    "    common_obs = adata1.obs_names.intersection(adata2.obs_names)\n",
    "    \n",
    "    # Subset both adata objects to the common observations\n",
    "    adata1_common = adata1[common_obs]\n",
    "    adata2_common = adata2[common_obs]\n",
    "    \n",
    "    # Compute the difference between the two datasets\n",
    "    data_diff = adata1_common.X - adata2_common.X\n",
    "    return data_diff\n",
    "\n",
    "# Compare each new adata to adata_fibroblast\n",
    "diff_U_0_5 = compare_adata(adata_U_0_5, adata_fibroblast)\n",
    "diff_U_0_75 = compare_adata(adata_U_0_75, adata_fibroblast)\n",
    "diff_U_1_001 = compare_adata(adata_U_1_001, adata_fibroblast)\n",
    "\n"
   ]
  },
  {
   "cell_type": "code",
   "execution_count": 14,
   "id": "6e6f072f-2ddb-4e98-8c7d-f013de1821d1",
   "metadata": {},
   "outputs": [
    {
     "data": {
      "text/plain": [
       "(38151, 512)"
      ]
     },
     "execution_count": 14,
     "metadata": {},
     "output_type": "execute_result"
    }
   ],
   "source": [
    "diff_U_1_001.shape"
   ]
  },
  {
   "cell_type": "markdown",
   "id": "cfe7ebb9-4997-4b49-b238-60b303b6646e",
   "metadata": {},
   "source": [
    "# Scratch"
   ]
  },
  {
   "cell_type": "code",
   "execution_count": 1,
   "id": "c1b297ae-c90b-405a-a8c6-64c954860aaf",
   "metadata": {},
   "outputs": [],
   "source": [
    "import numpy as np\n",
    "import anndata as ad\n",
    "import pandas as pd\n",
    "import scanpy as sc\n",
    "import os\n",
    "\n",
    "import seaborn as sns\n",
    "import matplotlib.pyplot as plt\n",
    "\n",
    "from scipy.spatial.distance import pdist, squareform"
   ]
  },
  {
   "cell_type": "code",
   "execution_count": 2,
   "id": "dfbaaf80-ffbe-4243-a306-a3be160ee6d7",
   "metadata": {},
   "outputs": [
    {
     "name": "stderr",
     "output_type": "stream",
     "text": [
      "/home/jpic/.local/lib/python3.11/site-packages/anndata/_core/anndata.py:1818: UserWarning: Observation names are not unique. To make them unique, call `.obs_names_make_unique`.\n",
      "  utils.warn_names_duplicates(\"obs\")\n"
     ]
    }
   ],
   "source": [
    "adata = sc.read_h5ad(os.path.join('/nfs/turbo/umms-indikar/shared/projects/DARPA_AI/in-silico-reprogramming/one-shot/scGPT', 'SOX2.h5ad'))"
   ]
  },
  {
   "cell_type": "code",
   "execution_count": 3,
   "id": "d7fb1bd4-04fb-442e-ad80-2ca6af71ac02",
   "metadata": {},
   "outputs": [
    {
     "data": {
      "text/html": [
       "<div>\n",
       "<style scoped>\n",
       "    .dataframe tbody tr th:only-of-type {\n",
       "        vertical-align: middle;\n",
       "    }\n",
       "\n",
       "    .dataframe tbody tr th {\n",
       "        vertical-align: top;\n",
       "    }\n",
       "\n",
       "    .dataframe thead th {\n",
       "        text-align: right;\n",
       "    }\n",
       "</style>\n",
       "<table border=\"1\" class=\"dataframe\">\n",
       "  <thead>\n",
       "    <tr style=\"text-align: right;\">\n",
       "      <th></th>\n",
       "      <th>organ_tissue</th>\n",
       "      <th>method</th>\n",
       "      <th>donor</th>\n",
       "      <th>anatomical_information</th>\n",
       "      <th>n_counts_UMIs</th>\n",
       "      <th>n_genes</th>\n",
       "      <th>cell_ontology_class</th>\n",
       "      <th>free_annotation</th>\n",
       "      <th>manually_annotated</th>\n",
       "      <th>compartment</th>\n",
       "      <th>gender</th>\n",
       "      <th>Source_cells</th>\n",
       "      <th>Target_cells</th>\n",
       "      <th>Treatment</th>\n",
       "      <th>Species</th>\n",
       "      <th>Cell_Transplantation</th>\n",
       "      <th>Published_Year</th>\n",
       "      <th>PMID</th>\n",
       "      <th>U</th>\n",
       "    </tr>\n",
       "  </thead>\n",
       "  <tbody>\n",
       "    <tr>\n",
       "      <th>AACAAAGTCCGGCTTT_TSP6_Liver_NA_10X_1_1</th>\n",
       "      <td>Liver</td>\n",
       "      <td>10X</td>\n",
       "      <td>TSP6</td>\n",
       "      <td>nan</td>\n",
       "      <td>10423.0</td>\n",
       "      <td>2986</td>\n",
       "      <td>fibroblast</td>\n",
       "      <td>Stellate/Fibroblast</td>\n",
       "      <td>True</td>\n",
       "      <td>stromal</td>\n",
       "      <td>male</td>\n",
       "      <td>Embryonic Fibroblasts and Fetal Foreskin Fibro...</td>\n",
       "      <td>Neural Stem Cells</td>\n",
       "      <td>SOX2</td>\n",
       "      <td>Both</td>\n",
       "      <td>Yes</td>\n",
       "      <td>2012</td>\n",
       "      <td>22683203_31</td>\n",
       "      <td>0.5</td>\n",
       "    </tr>\n",
       "    <tr>\n",
       "      <th>AATGACCAGTCTTCGA_TSP6_Liver_NA_10X_1_1</th>\n",
       "      <td>Liver</td>\n",
       "      <td>10X</td>\n",
       "      <td>TSP6</td>\n",
       "      <td>nan</td>\n",
       "      <td>11223.0</td>\n",
       "      <td>3248</td>\n",
       "      <td>fibroblast</td>\n",
       "      <td>Stellate/Fibroblast</td>\n",
       "      <td>True</td>\n",
       "      <td>stromal</td>\n",
       "      <td>male</td>\n",
       "      <td>Embryonic Fibroblasts and Fetal Foreskin Fibro...</td>\n",
       "      <td>Neural Stem Cells</td>\n",
       "      <td>SOX2</td>\n",
       "      <td>Both</td>\n",
       "      <td>Yes</td>\n",
       "      <td>2012</td>\n",
       "      <td>22683203_31</td>\n",
       "      <td>0.5</td>\n",
       "    </tr>\n",
       "    <tr>\n",
       "      <th>ACCACAATCCGAGAAG_TSP6_Liver_NA_10X_1_1</th>\n",
       "      <td>Liver</td>\n",
       "      <td>10X</td>\n",
       "      <td>TSP6</td>\n",
       "      <td>nan</td>\n",
       "      <td>14695.0</td>\n",
       "      <td>4469</td>\n",
       "      <td>fibroblast</td>\n",
       "      <td>Stellate/Fibroblast</td>\n",
       "      <td>True</td>\n",
       "      <td>stromal</td>\n",
       "      <td>male</td>\n",
       "      <td>Embryonic Fibroblasts and Fetal Foreskin Fibro...</td>\n",
       "      <td>Neural Stem Cells</td>\n",
       "      <td>SOX2</td>\n",
       "      <td>Both</td>\n",
       "      <td>Yes</td>\n",
       "      <td>2012</td>\n",
       "      <td>22683203_31</td>\n",
       "      <td>0.5</td>\n",
       "    </tr>\n",
       "    <tr>\n",
       "      <th>ACTTCGCCAACTTCTT_TSP6_Liver_NA_10X_1_1</th>\n",
       "      <td>Liver</td>\n",
       "      <td>10X</td>\n",
       "      <td>TSP6</td>\n",
       "      <td>nan</td>\n",
       "      <td>8977.0</td>\n",
       "      <td>2875</td>\n",
       "      <td>fibroblast</td>\n",
       "      <td>Stellate/Fibroblast</td>\n",
       "      <td>True</td>\n",
       "      <td>stromal</td>\n",
       "      <td>male</td>\n",
       "      <td>Embryonic Fibroblasts and Fetal Foreskin Fibro...</td>\n",
       "      <td>Neural Stem Cells</td>\n",
       "      <td>SOX2</td>\n",
       "      <td>Both</td>\n",
       "      <td>Yes</td>\n",
       "      <td>2012</td>\n",
       "      <td>22683203_31</td>\n",
       "      <td>0.5</td>\n",
       "    </tr>\n",
       "    <tr>\n",
       "      <th>AGAAGTATCAGGGATG_TSP6_Liver_NA_10X_1_1</th>\n",
       "      <td>Liver</td>\n",
       "      <td>10X</td>\n",
       "      <td>TSP6</td>\n",
       "      <td>nan</td>\n",
       "      <td>12109.0</td>\n",
       "      <td>3239</td>\n",
       "      <td>fibroblast</td>\n",
       "      <td>Stellate/Fibroblast</td>\n",
       "      <td>True</td>\n",
       "      <td>stromal</td>\n",
       "      <td>male</td>\n",
       "      <td>Embryonic Fibroblasts and Fetal Foreskin Fibro...</td>\n",
       "      <td>Neural Stem Cells</td>\n",
       "      <td>SOX2</td>\n",
       "      <td>Both</td>\n",
       "      <td>Yes</td>\n",
       "      <td>2012</td>\n",
       "      <td>22683203_31</td>\n",
       "      <td>0.5</td>\n",
       "    </tr>\n",
       "    <tr>\n",
       "      <th>...</th>\n",
       "      <td>...</td>\n",
       "      <td>...</td>\n",
       "      <td>...</td>\n",
       "      <td>...</td>\n",
       "      <td>...</td>\n",
       "      <td>...</td>\n",
       "      <td>...</td>\n",
       "      <td>...</td>\n",
       "      <td>...</td>\n",
       "      <td>...</td>\n",
       "      <td>...</td>\n",
       "      <td>...</td>\n",
       "      <td>...</td>\n",
       "      <td>...</td>\n",
       "      <td>...</td>\n",
       "      <td>...</td>\n",
       "      <td>...</td>\n",
       "      <td>...</td>\n",
       "      <td>...</td>\n",
       "    </tr>\n",
       "    <tr>\n",
       "      <th>TSP2_Vasculature_aorta_SS2_B114585_B133324_Stromal_P3_S99</th>\n",
       "      <td>Vasculature</td>\n",
       "      <td>smartseq2</td>\n",
       "      <td>TSP2</td>\n",
       "      <td>nan</td>\n",
       "      <td>308152.0</td>\n",
       "      <td>2090</td>\n",
       "      <td>fibroblast</td>\n",
       "      <td>fibroblast</td>\n",
       "      <td>True</td>\n",
       "      <td>stromal</td>\n",
       "      <td>female</td>\n",
       "      <td>Embryonic Fibroblasts and Fetal Foreskin Fibro...</td>\n",
       "      <td>Neural Stem Cells</td>\n",
       "      <td>SOX2</td>\n",
       "      <td>Both</td>\n",
       "      <td>Yes</td>\n",
       "      <td>2012</td>\n",
       "      <td>22683203_31</td>\n",
       "      <td>1.0</td>\n",
       "    </tr>\n",
       "    <tr>\n",
       "      <th>TSP2_Vasculature_aorta_SS2_B114585_B133324_Stromal_P7_S103</th>\n",
       "      <td>Vasculature</td>\n",
       "      <td>smartseq2</td>\n",
       "      <td>TSP2</td>\n",
       "      <td>nan</td>\n",
       "      <td>387043.0</td>\n",
       "      <td>2132</td>\n",
       "      <td>fibroblast</td>\n",
       "      <td>fibroblast</td>\n",
       "      <td>True</td>\n",
       "      <td>stromal</td>\n",
       "      <td>female</td>\n",
       "      <td>Embryonic Fibroblasts and Fetal Foreskin Fibro...</td>\n",
       "      <td>Neural Stem Cells</td>\n",
       "      <td>SOX2</td>\n",
       "      <td>Both</td>\n",
       "      <td>Yes</td>\n",
       "      <td>2012</td>\n",
       "      <td>22683203_31</td>\n",
       "      <td>1.0</td>\n",
       "    </tr>\n",
       "    <tr>\n",
       "      <th>TSP2_Vasculature_aorta_SS2_B114585_B133324_Stromal_P9_S105</th>\n",
       "      <td>Vasculature</td>\n",
       "      <td>smartseq2</td>\n",
       "      <td>TSP2</td>\n",
       "      <td>nan</td>\n",
       "      <td>412608.0</td>\n",
       "      <td>3140</td>\n",
       "      <td>fibroblast</td>\n",
       "      <td>fibroblast</td>\n",
       "      <td>True</td>\n",
       "      <td>stromal</td>\n",
       "      <td>female</td>\n",
       "      <td>Embryonic Fibroblasts and Fetal Foreskin Fibro...</td>\n",
       "      <td>Neural Stem Cells</td>\n",
       "      <td>SOX2</td>\n",
       "      <td>Both</td>\n",
       "      <td>Yes</td>\n",
       "      <td>2012</td>\n",
       "      <td>22683203_31</td>\n",
       "      <td>1.0</td>\n",
       "    </tr>\n",
       "    <tr>\n",
       "      <th>TSP2_Vasculature_aorta_SS2_B113343_B133091_Immune_L6_S270</th>\n",
       "      <td>Vasculature</td>\n",
       "      <td>smartseq2</td>\n",
       "      <td>TSP2</td>\n",
       "      <td>aorta</td>\n",
       "      <td>341884.0</td>\n",
       "      <td>4379</td>\n",
       "      <td>fibroblast</td>\n",
       "      <td>fibroblast</td>\n",
       "      <td>True</td>\n",
       "      <td>stromal</td>\n",
       "      <td>female</td>\n",
       "      <td>Embryonic Fibroblasts and Fetal Foreskin Fibro...</td>\n",
       "      <td>Neural Stem Cells</td>\n",
       "      <td>SOX2</td>\n",
       "      <td>Both</td>\n",
       "      <td>Yes</td>\n",
       "      <td>2012</td>\n",
       "      <td>22683203_31</td>\n",
       "      <td>1.0</td>\n",
       "    </tr>\n",
       "    <tr>\n",
       "      <th>TSP2_Vasculature_aorta_SS2_B113343_B133091_Immune_N6_S318</th>\n",
       "      <td>Vasculature</td>\n",
       "      <td>smartseq2</td>\n",
       "      <td>TSP2</td>\n",
       "      <td>aorta</td>\n",
       "      <td>141115.0</td>\n",
       "      <td>5842</td>\n",
       "      <td>fibroblast</td>\n",
       "      <td>fibroblast</td>\n",
       "      <td>True</td>\n",
       "      <td>stromal</td>\n",
       "      <td>female</td>\n",
       "      <td>Embryonic Fibroblasts and Fetal Foreskin Fibro...</td>\n",
       "      <td>Neural Stem Cells</td>\n",
       "      <td>SOX2</td>\n",
       "      <td>Both</td>\n",
       "      <td>Yes</td>\n",
       "      <td>2012</td>\n",
       "      <td>22683203_31</td>\n",
       "      <td>1.0</td>\n",
       "    </tr>\n",
       "  </tbody>\n",
       "</table>\n",
       "<p>114453 rows × 19 columns</p>\n",
       "</div>"
      ],
      "text/plain": [
       "                                                   organ_tissue     method  \\\n",
       "AACAAAGTCCGGCTTT_TSP6_Liver_NA_10X_1_1                    Liver        10X   \n",
       "AATGACCAGTCTTCGA_TSP6_Liver_NA_10X_1_1                    Liver        10X   \n",
       "ACCACAATCCGAGAAG_TSP6_Liver_NA_10X_1_1                    Liver        10X   \n",
       "ACTTCGCCAACTTCTT_TSP6_Liver_NA_10X_1_1                    Liver        10X   \n",
       "AGAAGTATCAGGGATG_TSP6_Liver_NA_10X_1_1                    Liver        10X   \n",
       "...                                                         ...        ...   \n",
       "TSP2_Vasculature_aorta_SS2_B114585_B133324_Stro...  Vasculature  smartseq2   \n",
       "TSP2_Vasculature_aorta_SS2_B114585_B133324_Stro...  Vasculature  smartseq2   \n",
       "TSP2_Vasculature_aorta_SS2_B114585_B133324_Stro...  Vasculature  smartseq2   \n",
       "TSP2_Vasculature_aorta_SS2_B113343_B133091_Immu...  Vasculature  smartseq2   \n",
       "TSP2_Vasculature_aorta_SS2_B113343_B133091_Immu...  Vasculature  smartseq2   \n",
       "\n",
       "                                                   donor  \\\n",
       "AACAAAGTCCGGCTTT_TSP6_Liver_NA_10X_1_1              TSP6   \n",
       "AATGACCAGTCTTCGA_TSP6_Liver_NA_10X_1_1              TSP6   \n",
       "ACCACAATCCGAGAAG_TSP6_Liver_NA_10X_1_1              TSP6   \n",
       "ACTTCGCCAACTTCTT_TSP6_Liver_NA_10X_1_1              TSP6   \n",
       "AGAAGTATCAGGGATG_TSP6_Liver_NA_10X_1_1              TSP6   \n",
       "...                                                  ...   \n",
       "TSP2_Vasculature_aorta_SS2_B114585_B133324_Stro...  TSP2   \n",
       "TSP2_Vasculature_aorta_SS2_B114585_B133324_Stro...  TSP2   \n",
       "TSP2_Vasculature_aorta_SS2_B114585_B133324_Stro...  TSP2   \n",
       "TSP2_Vasculature_aorta_SS2_B113343_B133091_Immu...  TSP2   \n",
       "TSP2_Vasculature_aorta_SS2_B113343_B133091_Immu...  TSP2   \n",
       "\n",
       "                                                   anatomical_information  \\\n",
       "AACAAAGTCCGGCTTT_TSP6_Liver_NA_10X_1_1                                nan   \n",
       "AATGACCAGTCTTCGA_TSP6_Liver_NA_10X_1_1                                nan   \n",
       "ACCACAATCCGAGAAG_TSP6_Liver_NA_10X_1_1                                nan   \n",
       "ACTTCGCCAACTTCTT_TSP6_Liver_NA_10X_1_1                                nan   \n",
       "AGAAGTATCAGGGATG_TSP6_Liver_NA_10X_1_1                                nan   \n",
       "...                                                                   ...   \n",
       "TSP2_Vasculature_aorta_SS2_B114585_B133324_Stro...                    nan   \n",
       "TSP2_Vasculature_aorta_SS2_B114585_B133324_Stro...                    nan   \n",
       "TSP2_Vasculature_aorta_SS2_B114585_B133324_Stro...                    nan   \n",
       "TSP2_Vasculature_aorta_SS2_B113343_B133091_Immu...                  aorta   \n",
       "TSP2_Vasculature_aorta_SS2_B113343_B133091_Immu...                  aorta   \n",
       "\n",
       "                                                    n_counts_UMIs  n_genes  \\\n",
       "AACAAAGTCCGGCTTT_TSP6_Liver_NA_10X_1_1                    10423.0     2986   \n",
       "AATGACCAGTCTTCGA_TSP6_Liver_NA_10X_1_1                    11223.0     3248   \n",
       "ACCACAATCCGAGAAG_TSP6_Liver_NA_10X_1_1                    14695.0     4469   \n",
       "ACTTCGCCAACTTCTT_TSP6_Liver_NA_10X_1_1                     8977.0     2875   \n",
       "AGAAGTATCAGGGATG_TSP6_Liver_NA_10X_1_1                    12109.0     3239   \n",
       "...                                                           ...      ...   \n",
       "TSP2_Vasculature_aorta_SS2_B114585_B133324_Stro...       308152.0     2090   \n",
       "TSP2_Vasculature_aorta_SS2_B114585_B133324_Stro...       387043.0     2132   \n",
       "TSP2_Vasculature_aorta_SS2_B114585_B133324_Stro...       412608.0     3140   \n",
       "TSP2_Vasculature_aorta_SS2_B113343_B133091_Immu...       341884.0     4379   \n",
       "TSP2_Vasculature_aorta_SS2_B113343_B133091_Immu...       141115.0     5842   \n",
       "\n",
       "                                                   cell_ontology_class  \\\n",
       "AACAAAGTCCGGCTTT_TSP6_Liver_NA_10X_1_1                      fibroblast   \n",
       "AATGACCAGTCTTCGA_TSP6_Liver_NA_10X_1_1                      fibroblast   \n",
       "ACCACAATCCGAGAAG_TSP6_Liver_NA_10X_1_1                      fibroblast   \n",
       "ACTTCGCCAACTTCTT_TSP6_Liver_NA_10X_1_1                      fibroblast   \n",
       "AGAAGTATCAGGGATG_TSP6_Liver_NA_10X_1_1                      fibroblast   \n",
       "...                                                                ...   \n",
       "TSP2_Vasculature_aorta_SS2_B114585_B133324_Stro...          fibroblast   \n",
       "TSP2_Vasculature_aorta_SS2_B114585_B133324_Stro...          fibroblast   \n",
       "TSP2_Vasculature_aorta_SS2_B114585_B133324_Stro...          fibroblast   \n",
       "TSP2_Vasculature_aorta_SS2_B113343_B133091_Immu...          fibroblast   \n",
       "TSP2_Vasculature_aorta_SS2_B113343_B133091_Immu...          fibroblast   \n",
       "\n",
       "                                                        free_annotation  \\\n",
       "AACAAAGTCCGGCTTT_TSP6_Liver_NA_10X_1_1              Stellate/Fibroblast   \n",
       "AATGACCAGTCTTCGA_TSP6_Liver_NA_10X_1_1              Stellate/Fibroblast   \n",
       "ACCACAATCCGAGAAG_TSP6_Liver_NA_10X_1_1              Stellate/Fibroblast   \n",
       "ACTTCGCCAACTTCTT_TSP6_Liver_NA_10X_1_1              Stellate/Fibroblast   \n",
       "AGAAGTATCAGGGATG_TSP6_Liver_NA_10X_1_1              Stellate/Fibroblast   \n",
       "...                                                                 ...   \n",
       "TSP2_Vasculature_aorta_SS2_B114585_B133324_Stro...           fibroblast   \n",
       "TSP2_Vasculature_aorta_SS2_B114585_B133324_Stro...           fibroblast   \n",
       "TSP2_Vasculature_aorta_SS2_B114585_B133324_Stro...           fibroblast   \n",
       "TSP2_Vasculature_aorta_SS2_B113343_B133091_Immu...           fibroblast   \n",
       "TSP2_Vasculature_aorta_SS2_B113343_B133091_Immu...           fibroblast   \n",
       "\n",
       "                                                    manually_annotated  \\\n",
       "AACAAAGTCCGGCTTT_TSP6_Liver_NA_10X_1_1                            True   \n",
       "AATGACCAGTCTTCGA_TSP6_Liver_NA_10X_1_1                            True   \n",
       "ACCACAATCCGAGAAG_TSP6_Liver_NA_10X_1_1                            True   \n",
       "ACTTCGCCAACTTCTT_TSP6_Liver_NA_10X_1_1                            True   \n",
       "AGAAGTATCAGGGATG_TSP6_Liver_NA_10X_1_1                            True   \n",
       "...                                                                ...   \n",
       "TSP2_Vasculature_aorta_SS2_B114585_B133324_Stro...                True   \n",
       "TSP2_Vasculature_aorta_SS2_B114585_B133324_Stro...                True   \n",
       "TSP2_Vasculature_aorta_SS2_B114585_B133324_Stro...                True   \n",
       "TSP2_Vasculature_aorta_SS2_B113343_B133091_Immu...                True   \n",
       "TSP2_Vasculature_aorta_SS2_B113343_B133091_Immu...                True   \n",
       "\n",
       "                                                   compartment  gender  \\\n",
       "AACAAAGTCCGGCTTT_TSP6_Liver_NA_10X_1_1                 stromal    male   \n",
       "AATGACCAGTCTTCGA_TSP6_Liver_NA_10X_1_1                 stromal    male   \n",
       "ACCACAATCCGAGAAG_TSP6_Liver_NA_10X_1_1                 stromal    male   \n",
       "ACTTCGCCAACTTCTT_TSP6_Liver_NA_10X_1_1                 stromal    male   \n",
       "AGAAGTATCAGGGATG_TSP6_Liver_NA_10X_1_1                 stromal    male   \n",
       "...                                                        ...     ...   \n",
       "TSP2_Vasculature_aorta_SS2_B114585_B133324_Stro...     stromal  female   \n",
       "TSP2_Vasculature_aorta_SS2_B114585_B133324_Stro...     stromal  female   \n",
       "TSP2_Vasculature_aorta_SS2_B114585_B133324_Stro...     stromal  female   \n",
       "TSP2_Vasculature_aorta_SS2_B113343_B133091_Immu...     stromal  female   \n",
       "TSP2_Vasculature_aorta_SS2_B113343_B133091_Immu...     stromal  female   \n",
       "\n",
       "                                                                                         Source_cells  \\\n",
       "AACAAAGTCCGGCTTT_TSP6_Liver_NA_10X_1_1              Embryonic Fibroblasts and Fetal Foreskin Fibro...   \n",
       "AATGACCAGTCTTCGA_TSP6_Liver_NA_10X_1_1              Embryonic Fibroblasts and Fetal Foreskin Fibro...   \n",
       "ACCACAATCCGAGAAG_TSP6_Liver_NA_10X_1_1              Embryonic Fibroblasts and Fetal Foreskin Fibro...   \n",
       "ACTTCGCCAACTTCTT_TSP6_Liver_NA_10X_1_1              Embryonic Fibroblasts and Fetal Foreskin Fibro...   \n",
       "AGAAGTATCAGGGATG_TSP6_Liver_NA_10X_1_1              Embryonic Fibroblasts and Fetal Foreskin Fibro...   \n",
       "...                                                                                               ...   \n",
       "TSP2_Vasculature_aorta_SS2_B114585_B133324_Stro...  Embryonic Fibroblasts and Fetal Foreskin Fibro...   \n",
       "TSP2_Vasculature_aorta_SS2_B114585_B133324_Stro...  Embryonic Fibroblasts and Fetal Foreskin Fibro...   \n",
       "TSP2_Vasculature_aorta_SS2_B114585_B133324_Stro...  Embryonic Fibroblasts and Fetal Foreskin Fibro...   \n",
       "TSP2_Vasculature_aorta_SS2_B113343_B133091_Immu...  Embryonic Fibroblasts and Fetal Foreskin Fibro...   \n",
       "TSP2_Vasculature_aorta_SS2_B113343_B133091_Immu...  Embryonic Fibroblasts and Fetal Foreskin Fibro...   \n",
       "\n",
       "                                                         Target_cells  \\\n",
       "AACAAAGTCCGGCTTT_TSP6_Liver_NA_10X_1_1              Neural Stem Cells   \n",
       "AATGACCAGTCTTCGA_TSP6_Liver_NA_10X_1_1              Neural Stem Cells   \n",
       "ACCACAATCCGAGAAG_TSP6_Liver_NA_10X_1_1              Neural Stem Cells   \n",
       "ACTTCGCCAACTTCTT_TSP6_Liver_NA_10X_1_1              Neural Stem Cells   \n",
       "AGAAGTATCAGGGATG_TSP6_Liver_NA_10X_1_1              Neural Stem Cells   \n",
       "...                                                               ...   \n",
       "TSP2_Vasculature_aorta_SS2_B114585_B133324_Stro...  Neural Stem Cells   \n",
       "TSP2_Vasculature_aorta_SS2_B114585_B133324_Stro...  Neural Stem Cells   \n",
       "TSP2_Vasculature_aorta_SS2_B114585_B133324_Stro...  Neural Stem Cells   \n",
       "TSP2_Vasculature_aorta_SS2_B113343_B133091_Immu...  Neural Stem Cells   \n",
       "TSP2_Vasculature_aorta_SS2_B113343_B133091_Immu...  Neural Stem Cells   \n",
       "\n",
       "                                                   Treatment Species  \\\n",
       "AACAAAGTCCGGCTTT_TSP6_Liver_NA_10X_1_1                  SOX2    Both   \n",
       "AATGACCAGTCTTCGA_TSP6_Liver_NA_10X_1_1                  SOX2    Both   \n",
       "ACCACAATCCGAGAAG_TSP6_Liver_NA_10X_1_1                  SOX2    Both   \n",
       "ACTTCGCCAACTTCTT_TSP6_Liver_NA_10X_1_1                  SOX2    Both   \n",
       "AGAAGTATCAGGGATG_TSP6_Liver_NA_10X_1_1                  SOX2    Both   \n",
       "...                                                      ...     ...   \n",
       "TSP2_Vasculature_aorta_SS2_B114585_B133324_Stro...      SOX2    Both   \n",
       "TSP2_Vasculature_aorta_SS2_B114585_B133324_Stro...      SOX2    Both   \n",
       "TSP2_Vasculature_aorta_SS2_B114585_B133324_Stro...      SOX2    Both   \n",
       "TSP2_Vasculature_aorta_SS2_B113343_B133091_Immu...      SOX2    Both   \n",
       "TSP2_Vasculature_aorta_SS2_B113343_B133091_Immu...      SOX2    Both   \n",
       "\n",
       "                                                   Cell_Transplantation  \\\n",
       "AACAAAGTCCGGCTTT_TSP6_Liver_NA_10X_1_1                              Yes   \n",
       "AATGACCAGTCTTCGA_TSP6_Liver_NA_10X_1_1                              Yes   \n",
       "ACCACAATCCGAGAAG_TSP6_Liver_NA_10X_1_1                              Yes   \n",
       "ACTTCGCCAACTTCTT_TSP6_Liver_NA_10X_1_1                              Yes   \n",
       "AGAAGTATCAGGGATG_TSP6_Liver_NA_10X_1_1                              Yes   \n",
       "...                                                                 ...   \n",
       "TSP2_Vasculature_aorta_SS2_B114585_B133324_Stro...                  Yes   \n",
       "TSP2_Vasculature_aorta_SS2_B114585_B133324_Stro...                  Yes   \n",
       "TSP2_Vasculature_aorta_SS2_B114585_B133324_Stro...                  Yes   \n",
       "TSP2_Vasculature_aorta_SS2_B113343_B133091_Immu...                  Yes   \n",
       "TSP2_Vasculature_aorta_SS2_B113343_B133091_Immu...                  Yes   \n",
       "\n",
       "                                                    Published_Year  \\\n",
       "AACAAAGTCCGGCTTT_TSP6_Liver_NA_10X_1_1                        2012   \n",
       "AATGACCAGTCTTCGA_TSP6_Liver_NA_10X_1_1                        2012   \n",
       "ACCACAATCCGAGAAG_TSP6_Liver_NA_10X_1_1                        2012   \n",
       "ACTTCGCCAACTTCTT_TSP6_Liver_NA_10X_1_1                        2012   \n",
       "AGAAGTATCAGGGATG_TSP6_Liver_NA_10X_1_1                        2012   \n",
       "...                                                            ...   \n",
       "TSP2_Vasculature_aorta_SS2_B114585_B133324_Stro...            2012   \n",
       "TSP2_Vasculature_aorta_SS2_B114585_B133324_Stro...            2012   \n",
       "TSP2_Vasculature_aorta_SS2_B114585_B133324_Stro...            2012   \n",
       "TSP2_Vasculature_aorta_SS2_B113343_B133091_Immu...            2012   \n",
       "TSP2_Vasculature_aorta_SS2_B113343_B133091_Immu...            2012   \n",
       "\n",
       "                                                           PMID    U  \n",
       "AACAAAGTCCGGCTTT_TSP6_Liver_NA_10X_1_1              22683203_31  0.5  \n",
       "AATGACCAGTCTTCGA_TSP6_Liver_NA_10X_1_1              22683203_31  0.5  \n",
       "ACCACAATCCGAGAAG_TSP6_Liver_NA_10X_1_1              22683203_31  0.5  \n",
       "ACTTCGCCAACTTCTT_TSP6_Liver_NA_10X_1_1              22683203_31  0.5  \n",
       "AGAAGTATCAGGGATG_TSP6_Liver_NA_10X_1_1              22683203_31  0.5  \n",
       "...                                                         ...  ...  \n",
       "TSP2_Vasculature_aorta_SS2_B114585_B133324_Stro...  22683203_31  1.0  \n",
       "TSP2_Vasculature_aorta_SS2_B114585_B133324_Stro...  22683203_31  1.0  \n",
       "TSP2_Vasculature_aorta_SS2_B114585_B133324_Stro...  22683203_31  1.0  \n",
       "TSP2_Vasculature_aorta_SS2_B113343_B133091_Immu...  22683203_31  1.0  \n",
       "TSP2_Vasculature_aorta_SS2_B113343_B133091_Immu...  22683203_31  1.0  \n",
       "\n",
       "[114453 rows x 19 columns]"
      ]
     },
     "execution_count": 3,
     "metadata": {},
     "output_type": "execute_result"
    }
   ],
   "source": [
    "uv = []\n",
    "for i in range(int(adata.shape[0]/3)):\n",
    "    uv.append(0.5)\n",
    "for i in range(int(adata.shape[0]/3)):\n",
    "    uv.append(0.75)\n",
    "for i in range(int(adata.shape[0]/3)):\n",
    "    uv.append(1)\n",
    "adata.obs['U'] = uv\n",
    "adata.obs"
   ]
  },
  {
   "cell_type": "markdown",
   "id": "8d7fbe40-d6f7-4a1e-b2f6-5bd5dae1853e",
   "metadata": {},
   "source": [
    "## Look at different concentrations"
   ]
  },
  {
   "cell_type": "code",
   "execution_count": 4,
   "id": "5606c9d1-9532-4f47-a1a4-15fb55dfb497",
   "metadata": {},
   "outputs": [
    {
     "data": {
      "text/plain": [
       "View of AnnData object with n_obs × n_vars = 3 × 512\n",
       "    obs: 'organ_tissue', 'method', 'donor', 'anatomical_information', 'n_counts_UMIs', 'n_genes', 'cell_ontology_class', 'free_annotation', 'manually_annotated', 'compartment', 'gender', 'Source_cells', 'Target_cells', 'Treatment', 'Species', 'Cell_Transplantation', 'Published_Year', 'PMID', 'U'"
      ]
     },
     "execution_count": 4,
     "metadata": {},
     "output_type": "execute_result"
    }
   ],
   "source": [
    "cellIds = list(set(adata.obs.index))\n",
    "\n",
    "cellPerturbed = adata[cellIds[0]]\n",
    "cellPerturbed"
   ]
  },
  {
   "cell_type": "code",
   "execution_count": 5,
   "id": "04bca35a-d13a-44ee-b58a-ecd5a0516c0f",
   "metadata": {},
   "outputs": [
    {
     "data": {
      "text/plain": [
       "View of AnnData object with n_obs × n_vars = 3 × 512\n",
       "    obs: 'organ_tissue', 'method', 'donor', 'anatomical_information', 'n_counts_UMIs', 'n_genes', 'cell_ontology_class', 'free_annotation', 'manually_annotated', 'compartment', 'gender', 'Source_cells', 'Target_cells', 'Treatment', 'Species', 'Cell_Transplantation', 'Published_Year', 'PMID', 'U'"
      ]
     },
     "execution_count": 5,
     "metadata": {},
     "output_type": "execute_result"
    }
   ],
   "source": [
    "cellPerturbed"
   ]
  },
  {
   "cell_type": "code",
   "execution_count": null,
   "id": "2c04afa7-0921-4b8b-bd06-d241f4a83b7e",
   "metadata": {},
   "outputs": [],
   "source": [
    "# Convert the expression matrix to a dense array (if necessary)\n",
    "X_dense = cellPerturbed.X.toarray() if hasattr(cellPerturbed.X, 'toarray') else cellPerturbed.X\n",
    "\n",
    "# Step 1: Compute the pairwise distance matrix between observations\n",
    "distance_matrix = squareform(pdist(X_dense))\n",
    "\n",
    "# Step 2: Plot the distance matrix as a heatmap\n",
    "sns.heatmap(distance_matrix, annot=True, cmap=\"viridis\", xticklabels=adata.obs_names, yticklabels=adata.obs_names)\n",
    "plt.title(\"Distance Matrix between Observations\")\n",
    "plt.show()\n"
   ]
  },
  {
   "cell_type": "markdown",
   "id": "eee84aeb-a13a-4269-9c01-55508f72e947",
   "metadata": {},
   "source": [
    "## Umaps"
   ]
  },
  {
   "cell_type": "code",
   "execution_count": 30,
   "id": "9a14e4dc-e4a4-4fe2-aa72-d3d1f8b4915d",
   "metadata": {},
   "outputs": [
    {
     "data": {
      "image/png": "[encoded data removed]",
      "text/plain": [
       "<Figure size 640x480 with 2 Axes>"
      ]
     },
     "metadata": {},
     "output_type": "display_data"
    }
   ],
   "source": [
    "sc.pp.neighbors(adata)  # Compute the neighborhood graph\n",
    "sc.tl.umap(adata)  # Compute UMAP\n",
    "sc.pl.umap(adata, color='U')\n",
    "plt.show()"
   ]
  }
 ],
 "metadata": {
  "kernelspec": {
   "display_name": "Python 3 (ipykernel)",
   "language": "python",
   "name": "python3"
  },
  "language_info": {
   "codemirror_mode": {
    "name": "ipython",
    "version": 3
   },
   "file_extension": ".py",
   "mimetype": "text/x-python",
   "name": "python",
   "nbconvert_exporter": "python",
   "pygments_lexer": "ipython3",
   "version": "3.11.7"
  }
 },
 "nbformat": 4,
 "nbformat_minor": 5
}
