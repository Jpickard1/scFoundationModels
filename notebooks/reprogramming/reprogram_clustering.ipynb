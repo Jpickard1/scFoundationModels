{
 "cells": [
  {
   "cell_type": "markdown",
   "id": "021a9265",
   "metadata": {},
   "source": [
    "# Cluster Analysis of Reprogramming Data\n",
    "\n",
    "Description: Comparing KNN purity and silhouette coefficient for unpreturbed and preturbed fibroblast gene expression data. Using reprogramming results from scGPT."
   ]
  },
  {
   "cell_type": "code",
   "execution_count": 1,
   "id": "a7dcd5ec",
   "metadata": {},
   "outputs": [],
   "source": [
    "import numpy as np\n",
    "import pandas as pd\n",
    "import anndata as ad\n",
    "import scanpy as sc\n",
    "from scipy.sparse import csr_matrix\n",
    "import matplotlib.pyplot as plt\n",
    "import seaborn as sns\n",
    "import os"
   ]
  },
  {
   "cell_type": "markdown",
   "id": "4ff694bb",
   "metadata": {},
   "source": [
    "# Score Functions"
   ]
  },
  {
   "cell_type": "markdown",
   "id": "6186d51b",
   "metadata": {},
   "source": [
    "### KNN Purity\n",
    "\n",
    "Purity is an external evaluation criterion of cluster quality. That is, it is the percent of the total number of data points that were classified correctly.\n",
    "\n",
    "Let $N$ = number of objects(data points), $C$ = number of clusters, $c_i$ is a cluster in $C$, and $t_j$ is the classification which has the max count for cluster $c_i$. Then,\n",
    "\n",
    "$Purity = \\displaystyle{\\frac{1}{N}\\sum^{k}_{i = 1} \\max_{j} |c_i \\cap t_j|}$"
   ]
  },
  {
   "cell_type": "code",
   "execution_count": 2,
   "id": "7ba54689",
   "metadata": {},
   "outputs": [],
   "source": [
    "from sklearn.neighbors import NearestNeighbors\n",
    "\n",
    "def knn_purity(adata, k=10, label_key='cell_type'):\n",
    "    \"\"\"\n",
    "    Compute the KNN purity for single-cell data.\n",
    "\n",
    "    Parameters:\n",
    "    adata: AnnData object with an embedding (e.g., PCA, UMAP) in adata.obsm['X_pca'] or adata.obsm['X_umap']\n",
    "    k: Number of nearest neighbors to consider for KNN\n",
    "    label_key: The key in adata.obs containing the labels (e.g., cell types)\n",
    "    \n",
    "    Returns:\n",
    "    purity_scores: Purity score for each cell\n",
    "    average_purity: The average KNN purity for the dataset\n",
    "    \"\"\"\n",
    "    # Extract the embedding from the AnnData object\n",
    "    embedding = adata.obsm['X_pca'] if 'X_pca' in adata.obsm else adata.obsm['X_umap']\n",
    "    \n",
    "    # Extract cell labels\n",
    "    labels = adata.obs[label_key].values\n",
    "    \n",
    "    # Initialize the NearestNeighbors model\n",
    "    nbrs = NearestNeighbors(n_neighbors=k + 1).fit(embedding)  # k + 1 because the nearest neighbor includes itself\n",
    "    distances, indices = nbrs.kneighbors(embedding)\n",
    "    \n",
    "    purity_scores = []\n",
    "    \n",
    "    for i, neighbors in enumerate(indices):\n",
    "        # Exclude the first neighbor (the point itself)\n",
    "        neighbor_labels = labels[neighbors[1:]]\n",
    "        true_label = labels[i]\n",
    "        \n",
    "        # Calculate the purity as the fraction of neighbors that have the same label\n",
    "        purity = np.mean(neighbor_labels == true_label)\n",
    "        purity_scores.append(purity)\n",
    "    \n",
    "    average_purity = np.mean(purity_scores)\n",
    "    \n",
    "    return purity_scores, average_purity"
   ]
  },
  {
   "cell_type": "markdown",
   "id": "eac15ed5",
   "metadata": {},
   "source": [
    "### Silhouette Coefficient\n",
    "\n",
    "The silhouette coefficient is used to evaluate the quality of clustering by considering cohesion (how close data points in the same cluster are to each other) and separation (how far apart different clusters are from one another). \n",
    "\n",
    "Let $a$ be the average distance from one point to other points in its own cluster, and $b$ be the average distance from one point to points in the nearest neighboring cluster. Then,\n",
    "\n",
    "$Silhouette = \\displaystyle\\frac{b-a}{\\max(a,b)}$"
   ]
  },
  {
   "cell_type": "code",
   "execution_count": 3,
   "id": "b0fac65f",
   "metadata": {},
   "outputs": [],
   "source": [
    "from sklearn.metrics import silhouette_score\n",
    "\n",
    "def compute_silhouette(adata, label_key='cell_type', embedding_key='X_umap'):\n",
    "    \"\"\"\n",
    "    Compute the silhouette coefficient for single-cell data.\n",
    "    \n",
    "    Parameters:\n",
    "    adata: AnnData object with an embedding (e.g., PCA, UMAP) in adata.obsm\n",
    "    label_key: The key in adata.obs containing the labels (e.g., cell types or clusters)\n",
    "    embedding_key: The key in adata.obsm that contains the dimensionality reduction coordinates\n",
    "    \n",
    "    Returns:\n",
    "    silhouette_avg: Average silhouette coefficient for all cells\n",
    "    \"\"\"\n",
    "    # Extract the embedding (e.g., PCA or UMAP) from the AnnData object\n",
    "    embedding = adata.obsm[embedding_key]\n",
    "    \n",
    "    # Extract cell labels\n",
    "    labels = adata.obs[label_key].values\n",
    "    \n",
    "    # Compute the silhouette score\n",
    "    silhouette_avg = silhouette_score(embedding, labels)\n",
    "    \n",
    "    return silhouette_avg"
   ]
  },
  {
   "cell_type": "code",
   "execution_count": 4,
   "id": "c4a61eac",
   "metadata": {},
   "outputs": [],
   "source": [
    "# Path to data, original and reprogrammed\n",
    "data_directory = \"/nfs/turbo/umms-indikar/shared/projects/DARPA_AI/in-silico-reprogramming/one-shot\"\n",
    "unpreturbed_file = \"fibroblast.h5ad\""
   ]
  },
  {
   "cell_type": "code",
   "execution_count": 5,
   "id": "a9ba3585",
   "metadata": {},
   "outputs": [
    {
     "name": "stdout",
     "output_type": "stream",
     "text": [
      "# One-Shot Perturbation Experiment\n",
      "\n",
      "Auth: Joshua Pickard\n",
      "      jpic@umich.edu\n",
      "Date: August 4, 2024\n",
      "\n",
      "This directory and subdirectories contain data related to the in-silico reprogramming experiment. This experiment uses single cell Firboblasts from Tabula Sapiens, and increases the expression of Transcription Factors that are expected to reprogram cells, as found in the literature.\n",
      "\n",
      "This directory is organized as follows:\n",
      "- fibroblast.h5ad contains the unperturbed single cell data used in the experiment\n",
      "- perturbed/ contains the raw single cell data with the upregulated Transcription Factors, i.e. adata.var is a table of gene names\n",
      "- scGPT/ contains the scGPT of the single cell data from perturbed/\n",
      "- geneformer/ is similar to scGPT/ but using a different foundation model\n",
      "- files all have the same adata.obs table, which lets you map individual cells accross different TF perturbations and embeddings\n",
      "- all files are nameda according to the TFs that are upregulated\n",
      "- note, the indices in adata.obs will be duplicate. This is because single cells were perturbed with different concentrations/amounts of the TF cocktail\n",
      "\n",
      "Please update this file if these directories are restructured.\n",
      "\n"
     ]
    }
   ],
   "source": [
    "with open(data_directory + '/README.md', 'r') as file:\n",
    "    content = file.read()\n",
    "\n",
    "print(content)"
   ]
  },
  {
   "cell_type": "markdown",
   "id": "eaa96c6e",
   "metadata": {},
   "source": [
    "# Unpreturbed Cell Data"
   ]
  },
  {
   "cell_type": "code",
   "execution_count": null,
   "id": "6316a482",
   "metadata": {},
   "outputs": [],
   "source": [
    "adata = sc.read_h5ad(os.path.join(data_directory, unpreturbed_file))\n",
    "\n",
    "# Check adata object\n",
    "print(adata)\n",
    "\n",
    "gene_list = adata.var['gene_symbol'].values.tolist()\n",
    "\n",
    "# Print first 5 entries\n",
    "print(\"First 5 entries:\")\n",
    "print(gene_list[:5])\n",
    "\n",
    "# Print last 5 entries\n",
    "print(\"Last 5 entries:\")\n",
    "print(gene_list[-5:])"
   ]
  },
  {
   "cell_type": "code",
   "execution_count": null,
   "id": "af93fbcb",
   "metadata": {},
   "outputs": [],
   "source": [
    "adata.obs['free_annotation']"
   ]
  },
  {
   "cell_type": "code",
   "execution_count": null,
   "id": "9249677b",
   "metadata": {},
   "outputs": [],
   "source": [
    "purity_scores, average_purity = knn_purity(adata, k=10, label_key='cell_ontology_class')\n",
    "print(\"Average KNN Purity:\", average_purity)"
   ]
  },
  {
   "cell_type": "code",
   "execution_count": null,
   "id": "cb099020",
   "metadata": {},
   "outputs": [],
   "source": [
    "silhouette_avg = compute_silhouette(adata, label_key='cell_ontology_class', embedding_key='X_umap')\n",
    "print(\"Average Silhouette Coefficient:\", silhouette_avg)"
   ]
  },
  {
   "cell_type": "code",
   "execution_count": null,
   "id": "a2b7dd8f",
   "metadata": {},
   "outputs": [],
   "source": [
    "sc.pl.umap(adata, color=\"cell_ontology_class\")"
   ]
  },
  {
   "cell_type": "markdown",
   "id": "8a0fecc0",
   "metadata": {},
   "source": [
    "# Preturbed Cell Data (scGPT)"
   ]
  },
  {
   "cell_type": "code",
   "execution_count": null,
   "id": "907335d0",
   "metadata": {},
   "outputs": [],
   "source": [
    "cd \"/nfs/turbo/umms-indikar/shared/projects/DARPA_AI/in-silico-reprogramming/one-shot\""
   ]
  },
  {
   "cell_type": "code",
   "execution_count": null,
   "id": "7bad3971",
   "metadata": {},
   "outputs": [],
   "source": [
    "scgpt_embed_data = os.path.join(data_directory, \"scGPT\")"
   ]
  },
  {
   "cell_type": "code",
   "execution_count": null,
   "id": "e597fe7f-512d-47db-821a-c505384c55fc",
   "metadata": {},
   "outputs": [],
   "source": [
    "for file_name in os.listdir(scgpt_embed_data):\n",
    "    # Construct the full file path\n",
    "    file_path = os.path.join(scgpt_embed_data, file_name)\n",
    "\n",
    "    # Check if it's a file (not a directory)\n",
    "    if os.path.isfile(file_path):\n",
    "        # Print the file name without extension\n",
    "        print(os.path.splitext(file_name)[0])\n",
    "    \n",
    "    adata = sc.read_h5ad(file_path)\n",
    "    \n",
    "    purity_scores, average_purity = knn_purity(adata, k=10, label_key='cell_ontology_class')\n",
    "    print(\"Average KNN Purity:\", average_purity)\n",
    "    \n",
    "    silhouette_avg = compute_silhouette(adata, label_key='cell_ontology_class', embedding_key='X_umap')\n",
    "    print(\"Average Silhouette Coefficient:\", silhouette_avg)"
   ]
  },
  {
   "cell_type": "markdown",
   "id": "fc8bcf29-4790-444a-9ce7-bdd5d7e8a647",
   "metadata": {},
   "source": [
    "# To-Do\n",
    "- Redo embedding (UMAP) on fibroblast data\n",
    "- Write file to directory under same name\n",
    "- Try a few clustering methods, then cluster in embedded space post-preturbation\n",
    "- Check scores for data-space preturbations"
   ]
  },
  {
   "cell_type": "code",
   "execution_count": null,
   "id": "7b8eaa60",
   "metadata": {},
   "outputs": [],
   "source": []
  }
 ],
 "metadata": {
  "kernelspec": {
   "display_name": "fibroblast",
   "language": "python",
   "name": "fibroblast"
  },
  "language_info": {
   "codemirror_mode": {
    "name": "ipython",
    "version": 3
   },
   "file_extension": ".py",
   "mimetype": "text/x-python",
   "name": "python",
   "nbconvert_exporter": "python",
   "pygments_lexer": "ipython3",
   "version": "3.12.5"
  }
 },
 "nbformat": 4,
 "nbformat_minor": 5
}
