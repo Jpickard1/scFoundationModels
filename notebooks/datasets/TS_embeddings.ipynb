{
 "cells": [
  {
   "cell_type": "markdown",
   "id": "dcc31706-fd37-4db5-a8f6-5efee3ac8ad8",
   "metadata": {},
   "source": [
    "# Tabula Sapiens"
   ]
  },
  {
   "cell_type": "code",
   "execution_count": 7,
   "id": "f204968b-151c-47f8-a285-d2f660b4874f",
   "metadata": {},
   "outputs": [],
   "source": [
    "import os\n",
    "import sys\n",
    "import scanpy as sc"
   ]
  },
  {
   "cell_type": "code",
   "execution_count": 8,
   "id": "205db8f5-3c2c-4d7e-9364-2307811addec",
   "metadata": {},
   "outputs": [],
   "source": [
    "DATAPATH = \"/nfs/turbo/umms-indikar/shared/projects/DGC/data/tabula_sapiens/extract/\"\n",
    "EMBPATH  = \"/nfs/turbo/umms-indikar/shared/projects/foundation_models/experiments/tabulaSapiens\""
   ]
  },
  {
   "cell_type": "code",
   "execution_count": 9,
   "id": "23b24d83-81ec-460f-916c-f01e2abe4c74",
   "metadata": {},
   "outputs": [],
   "source": [
    "h5ad_files = []\n",
    "for root, dirs, files in os.walk(EMBPATH):\n",
    "    for file in files:\n",
    "        if file.endswith('.h5ad'):\n",
    "            h5ad_files.append(os.path.join(root, file))"
   ]
  },
  {
   "cell_type": "code",
   "execution_count": 10,
   "id": "2d92d84d-1af3-46e5-a49d-4b772edca65c",
   "metadata": {},
   "outputs": [
    {
     "name": "stdout",
     "output_type": "stream",
     "text": [
      "44\n",
      "/nfs/turbo/umms-indikar/shared/projects/foundation_models/experiments/tabulaSapiens/TS_germ line_Tgpt.h5ad\n",
      "/nfs/turbo/umms-indikar/shared/projects/foundation_models/experiments/tabulaSapiens/TS_Large_Intestine_geneformer.h5ad\n",
      "/nfs/turbo/umms-indikar/shared/projects/foundation_models/experiments/tabulaSapiens/TS_Spleen_geneformer.h5ad\n",
      "/nfs/turbo/umms-indikar/shared/projects/foundation_models/experiments/tabulaSapiens/TS_Skin_geneformer.h5ad\n",
      "/nfs/turbo/umms-indikar/shared/projects/foundation_models/experiments/tabulaSapiens/TS_Skin_Tgpt.h5ad\n",
      "/nfs/turbo/umms-indikar/shared/projects/foundation_models/experiments/tabulaSapiens/TS_Lymph_Node_geneformer.h5ad\n",
      "/nfs/turbo/umms-indikar/shared/projects/foundation_models/experiments/tabulaSapiens/TS_Vasculature_geneformer.h5ad\n",
      "/nfs/turbo/umms-indikar/shared/projects/foundation_models/experiments/tabulaSapiens/TS_Lymph_Node_Tgpt.h5ad\n",
      "/nfs/turbo/umms-indikar/shared/projects/foundation_models/experiments/tabulaSapiens/TS_Spleen_Tgpt.h5ad\n",
      "/nfs/turbo/umms-indikar/shared/projects/foundation_models/experiments/tabulaSapiens/TS_Kidney_geneformer.h5ad\n",
      "/nfs/turbo/umms-indikar/shared/projects/foundation_models/experiments/tabulaSapiens/TS_Kidney_Tgpt.h5ad\n",
      "/nfs/turbo/umms-indikar/shared/projects/foundation_models/experiments/tabulaSapiens/TS_Large_Intestine_Tgpt.h5ad\n",
      "/nfs/turbo/umms-indikar/shared/projects/foundation_models/experiments/tabulaSapiens/TS_germ line_geneformer.h5ad\n",
      "/nfs/turbo/umms-indikar/shared/projects/foundation_models/experiments/tabulaSapiens/TS_Vasculature_Tgpt.h5ad\n",
      "/nfs/turbo/umms-indikar/shared/projects/DGC/data/tabula_sapiens/extract/TS_germ line.h5ad\n",
      "/nfs/turbo/umms-indikar/shared/projects/DGC/data/tabula_sapiens/extract/TS_stromal.h5ad\n",
      "/nfs/turbo/umms-indikar/shared/projects/DGC/data/tabula_sapiens/extract/TS_Large_Intestine.h5ad\n",
      "/nfs/turbo/umms-indikar/shared/projects/DGC/data/tabula_sapiens/extract/TS_Lymph_Node.h5ad\n",
      "/nfs/turbo/umms-indikar/shared/projects/DGC/data/tabula_sapiens/extract/TS_Skin.h5ad\n",
      "/nfs/turbo/umms-indikar/shared/projects/DGC/data/tabula_sapiens/extract/TS_epithelial.h5ad\n",
      "/nfs/turbo/umms-indikar/shared/projects/DGC/data/tabula_sapiens/extract/TS_Spleen.h5ad\n",
      "/nfs/turbo/umms-indikar/shared/projects/DGC/data/tabula_sapiens/extract/TS_Vasculature.h5ad\n",
      "/nfs/turbo/umms-indikar/shared/projects/DGC/data/tabula_sapiens/extract/TS_Kidney.h5ad\n",
      "/nfs/turbo/umms-indikar/shared/projects/DGC/data/tabula_sapiens/extract/TS_Salivary_Gland.h5ad\n",
      "/nfs/turbo/umms-indikar/shared/projects/DGC/data/tabula_sapiens/extract/TS_Thymus.h5ad\n",
      "/nfs/turbo/umms-indikar/shared/projects/DGC/data/tabula_sapiens/extract/TS_Pancreas.h5ad\n",
      "/nfs/turbo/umms-indikar/shared/projects/DGC/data/tabula_sapiens/extract/TS_Fat.h5ad\n",
      "/nfs/turbo/umms-indikar/shared/projects/DGC/data/tabula_sapiens/extract/TS_Bladder.h5ad\n",
      "/nfs/turbo/umms-indikar/shared/projects/DGC/data/tabula_sapiens/extract/TS_endothelial.h5ad\n",
      "/nfs/turbo/umms-indikar/shared/projects/DGC/data/tabula_sapiens/extract/TS_Blood.h5ad\n",
      "/nfs/turbo/umms-indikar/shared/projects/DGC/data/tabula_sapiens/extract/TS_Trachea.h5ad\n",
      "/nfs/turbo/umms-indikar/shared/projects/DGC/data/tabula_sapiens/extract/TS_Bone_Marrow.h5ad\n",
      "/nfs/turbo/umms-indikar/shared/projects/DGC/data/tabula_sapiens/extract/TS_Tongue.h5ad\n",
      "/nfs/turbo/umms-indikar/shared/projects/DGC/data/tabula_sapiens/extract/TS_Lung.h5ad\n",
      "/nfs/turbo/umms-indikar/shared/projects/DGC/data/tabula_sapiens/extract/TabulaSapiens.h5ad\n",
      "/nfs/turbo/umms-indikar/shared/projects/DGC/data/tabula_sapiens/extract/TS_Liver.h5ad\n",
      "/nfs/turbo/umms-indikar/shared/projects/DGC/data/tabula_sapiens/extract/TS_Small_Intestine.h5ad\n",
      "/nfs/turbo/umms-indikar/shared/projects/DGC/data/tabula_sapiens/extract/TS_immune.h5ad\n",
      "/nfs/turbo/umms-indikar/shared/projects/DGC/data/tabula_sapiens/extract/TS_Uterus.h5ad\n",
      "/nfs/turbo/umms-indikar/shared/projects/DGC/data/tabula_sapiens/extract/TS_Eye.h5ad\n",
      "/nfs/turbo/umms-indikar/shared/projects/DGC/data/tabula_sapiens/extract/TS_Mammary.h5ad\n",
      "/nfs/turbo/umms-indikar/shared/projects/DGC/data/tabula_sapiens/extract/TS_Prostate.h5ad\n",
      "/nfs/turbo/umms-indikar/shared/projects/DGC/data/tabula_sapiens/extract/TS_Heart.h5ad\n",
      "/nfs/turbo/umms-indikar/shared/projects/DGC/data/tabula_sapiens/extract/TS_Muscle.h5ad\n"
     ]
    }
   ],
   "source": [
    "# h5ad_files = []\n",
    "for root, dirs, files in os.walk(DATAPATH):\n",
    "    for file in files:\n",
    "        if file.endswith('.h5ad'):\n",
    "            h5ad_files.append(os.path.join(root, file))\n",
    "print(len(h5ad_files))\n",
    "for file in h5ad_files:\n",
    "    print(file)"
   ]
  },
  {
   "cell_type": "markdown",
   "id": "74568578-7c93-4a68-8a9c-7ae23f377bde",
   "metadata": {},
   "source": [
    "# Scratch work for embeddings"
   ]
  },
  {
   "cell_type": "code",
   "execution_count": null,
   "id": "6669ad3e-a5b6-4c4e-8e83-224517f388b1",
   "metadata": {},
   "outputs": [],
   "source": [
    "# ts_embedding_1.py\n",
    "import os\n",
    "import sys\n",
    "import scanpy as sc\n",
    "\n",
    "sys.path.append('../anndata2embedding')\n",
    "from embed import *\n",
    "\n",
    "    jobnum = sys.args[1]\n",
    "    \n",
    "    sys.path.append('../anndata2embedding')\n",
    "    from embed import *\n",
    "    \n",
    "    DATAPATH = \"/nfs/turbo/umms-indikar/shared/projects/DGC/data/tabula_sapiens/extract/\"\n",
    "    OUTPUTPATH = '/nfs/turbo/umms-indikar/shared/projects/foundation_models/experiments/tabulaSapiens'\n",
    "    h5ad_files = []\n",
    "    for root, dirs, files in os.walk(DATAPATH):\n",
    "        for file in files:\n",
    "            if file.endswith('.h5ad'):\n",
    "                h5ad_files.append(os.path.join(root, file))\n",
    "    \n",
    "    file = h5ad_files[job_number]\n",
    "    print(f\"Reading file: {file}\")\n",
    "    adata = sc.read_h5ad(file)\n",
    "    print(f\"adata shape: {adata.shape}\")\n",
    "    adata.var['ensembl_id'] = adata.var['ensemblid']\n",
    "    adata.var['ensembl_id'] = adata.var['ensembl_id'].str.split('.').str[0]\n",
    "\n",
    "    embedAdGF = embed(adata, 'geneformer',\n",
    "                      output_directory = OUTPUTPATH,\n",
    "                      output_file      = os.path.splitext(os.path.basename(file))[0]\n",
    "                     )\n",
    "    embedAdGF.write(os.path.splitext(os.path.basename(file))[0] + '_geneformer.h5ad')\n",
    "\n",
    "    embedAdTgpt = embed(adata, 'tGPT',\n",
    "                      output_directory = OUTPUTPATH,\n",
    "                      output_file      = os.path.splitext(os.path.basename(file))[0]\n",
    "                     )\n",
    "    embedAdGF.write(os.path.splitext(os.path.basename(file))[0] + '_Tgpt.h5ad')\n",
    "\n",
    "\n",
    "if __main__():\n",
    "    main()\n"
   ]
  },
  {
   "cell_type": "code",
   "execution_count": 1,
   "id": "878c7e53-be02-4c27-a4cb-d8115ed893d8",
   "metadata": {},
   "outputs": [
    {
     "name": "stdout",
     "output_type": "stream",
     "text": [
      "general imports\n",
      "bioinf imports\n",
      "scgpt wont work\n",
      "tGPT will work\n",
      "geneformer will work\n"
     ]
    }
   ],
   "source": [
    "import os\n",
    "import sys\n",
    "import scanpy as sc\n",
    "\n",
    "sys.path.append('../anndata2embedding')\n",
    "from embed import *"
   ]
  },
  {
   "cell_type": "code",
   "execution_count": 2,
   "id": "57cf7679-555b-4e66-8fbc-4a783a795613",
   "metadata": {},
   "outputs": [],
   "source": [
    "DATAPATH = \"/nfs/turbo/umms-indikar/shared/projects/DGC/data/tabula_sapiens/extract/\""
   ]
  },
  {
   "cell_type": "code",
   "execution_count": 27,
   "id": "0aa0df66-ded9-4cc3-b45a-86b05e08f617",
   "metadata": {},
   "outputs": [
    {
     "name": "stdout",
     "output_type": "stream",
     "text": [
      "30\n",
      "/nfs/turbo/umms-indikar/shared/projects/DGC/data/tabula_sapiens/extract/TS_germ line.h5ad\n",
      "/nfs/turbo/umms-indikar/shared/projects/DGC/data/tabula_sapiens/extract/TS_stromal.h5ad\n",
      "/nfs/turbo/umms-indikar/shared/projects/DGC/data/tabula_sapiens/extract/TS_Large_Intestine.h5ad\n",
      "/nfs/turbo/umms-indikar/shared/projects/DGC/data/tabula_sapiens/extract/TS_Lymph_Node.h5ad\n",
      "/nfs/turbo/umms-indikar/shared/projects/DGC/data/tabula_sapiens/extract/TS_Skin.h5ad\n",
      "/nfs/turbo/umms-indikar/shared/projects/DGC/data/tabula_sapiens/extract/TS_epithelial.h5ad\n",
      "/nfs/turbo/umms-indikar/shared/projects/DGC/data/tabula_sapiens/extract/TS_Spleen.h5ad\n",
      "/nfs/turbo/umms-indikar/shared/projects/DGC/data/tabula_sapiens/extract/TS_Vasculature.h5ad\n",
      "/nfs/turbo/umms-indikar/shared/projects/DGC/data/tabula_sapiens/extract/TS_Kidney.h5ad\n",
      "/nfs/turbo/umms-indikar/shared/projects/DGC/data/tabula_sapiens/extract/TS_Salivary_Gland.h5ad\n",
      "/nfs/turbo/umms-indikar/shared/projects/DGC/data/tabula_sapiens/extract/TS_Thymus.h5ad\n",
      "/nfs/turbo/umms-indikar/shared/projects/DGC/data/tabula_sapiens/extract/TS_Pancreas.h5ad\n",
      "/nfs/turbo/umms-indikar/shared/projects/DGC/data/tabula_sapiens/extract/TS_Fat.h5ad\n",
      "/nfs/turbo/umms-indikar/shared/projects/DGC/data/tabula_sapiens/extract/TS_Bladder.h5ad\n",
      "/nfs/turbo/umms-indikar/shared/projects/DGC/data/tabula_sapiens/extract/TS_endothelial.h5ad\n",
      "/nfs/turbo/umms-indikar/shared/projects/DGC/data/tabula_sapiens/extract/TS_Blood.h5ad\n",
      "/nfs/turbo/umms-indikar/shared/projects/DGC/data/tabula_sapiens/extract/TS_Trachea.h5ad\n",
      "/nfs/turbo/umms-indikar/shared/projects/DGC/data/tabula_sapiens/extract/TS_Bone_Marrow.h5ad\n",
      "/nfs/turbo/umms-indikar/shared/projects/DGC/data/tabula_sapiens/extract/TS_Tongue.h5ad\n",
      "/nfs/turbo/umms-indikar/shared/projects/DGC/data/tabula_sapiens/extract/TS_Lung.h5ad\n",
      "/nfs/turbo/umms-indikar/shared/projects/DGC/data/tabula_sapiens/extract/TabulaSapiens.h5ad\n",
      "/nfs/turbo/umms-indikar/shared/projects/DGC/data/tabula_sapiens/extract/TS_Liver.h5ad\n",
      "/nfs/turbo/umms-indikar/shared/projects/DGC/data/tabula_sapiens/extract/TS_Small_Intestine.h5ad\n",
      "/nfs/turbo/umms-indikar/shared/projects/DGC/data/tabula_sapiens/extract/TS_immune.h5ad\n",
      "/nfs/turbo/umms-indikar/shared/projects/DGC/data/tabula_sapiens/extract/TS_Uterus.h5ad\n",
      "/nfs/turbo/umms-indikar/shared/projects/DGC/data/tabula_sapiens/extract/TS_Eye.h5ad\n",
      "/nfs/turbo/umms-indikar/shared/projects/DGC/data/tabula_sapiens/extract/TS_Mammary.h5ad\n",
      "/nfs/turbo/umms-indikar/shared/projects/DGC/data/tabula_sapiens/extract/TS_Prostate.h5ad\n",
      "/nfs/turbo/umms-indikar/shared/projects/DGC/data/tabula_sapiens/extract/TS_Heart.h5ad\n",
      "/nfs/turbo/umms-indikar/shared/projects/DGC/data/tabula_sapiens/extract/TS_Muscle.h5ad\n"
     ]
    }
   ],
   "source": [
    "h5ad_files = []\n",
    "for root, dirs, files in os.walk(DATAPATH):\n",
    "    for file in files:\n",
    "        if file.endswith('.h5ad'):\n",
    "            h5ad_files.append(os.path.join(root, file))\n",
    "print(len(h5ad_files))\n",
    "for file in h5ad_files:\n",
    "    print(file)"
   ]
  },
  {
   "cell_type": "code",
   "execution_count": 8,
   "id": "8914ddf9-1e54-4a5e-aa1a-0c8a45642328",
   "metadata": {},
   "outputs": [
    {
     "name": "stdout",
     "output_type": "stream",
     "text": [
      "Reading file: /nfs/turbo/umms-indikar/shared/projects/DGC/data/tabula_sapiens/extract/TS_germ line.h5ad\n",
      "adata shape: (11, 58870)\n",
      "Reading file: /nfs/turbo/umms-indikar/shared/projects/DGC/data/tabula_sapiens/extract/TS_stromal.h5ad\n"
     ]
    },
    {
     "name": "stderr",
     "output_type": "stream",
     "text": [
      "\n",
      "KeyboardInterrupt\n",
      "\n"
     ]
    }
   ],
   "source": [
    "for file in h5ad_files:\n",
    "    print(f\"Reading file: {file}\")\n",
    "    adata = sc.read_h5ad(file)\n",
    "    print(f\"adata shape: {adata.shape}\")\n",
    "    adata.var['ensembl_id'] = adata.var['ensemblid']\n",
    "    adata.var['ensembl_id'] = adata.var['ensembl_id'].str.split('.').str[0]\n",
    "    adata.var"
   ]
  },
  {
   "cell_type": "code",
   "execution_count": 5,
   "id": "3552e790-6a34-4b6b-9506-c35a01f4a8f4",
   "metadata": {},
   "outputs": [
    {
     "data": {
      "text/html": [
       "<div>\n",
       "<style scoped>\n",
       "    .dataframe tbody tr th:only-of-type {\n",
       "        vertical-align: middle;\n",
       "    }\n",
       "\n",
       "    .dataframe tbody tr th {\n",
       "        vertical-align: top;\n",
       "    }\n",
       "\n",
       "    .dataframe thead th {\n",
       "        text-align: right;\n",
       "    }\n",
       "</style>\n",
       "<table border=\"1\" class=\"dataframe\">\n",
       "  <thead>\n",
       "    <tr style=\"text-align: right;\">\n",
       "      <th></th>\n",
       "      <th>gene_symbol</th>\n",
       "      <th>feature_type</th>\n",
       "      <th>ensemblid</th>\n",
       "      <th>highly_variable</th>\n",
       "      <th>means</th>\n",
       "      <th>dispersions</th>\n",
       "      <th>dispersions_norm</th>\n",
       "      <th>mean</th>\n",
       "      <th>std</th>\n",
       "      <th>ensembl_id</th>\n",
       "    </tr>\n",
       "  </thead>\n",
       "  <tbody>\n",
       "    <tr>\n",
       "      <th>DDX11L1</th>\n",
       "      <td>DDX11L1</td>\n",
       "      <td>Gene Expression</td>\n",
       "      <td>ENSG00000223972.5</td>\n",
       "      <td>False</td>\n",
       "      <td>6.398244e-05</td>\n",
       "      <td>0.835044</td>\n",
       "      <td>-0.573947</td>\n",
       "      <td>0.000039</td>\n",
       "      <td>0.005574</td>\n",
       "      <td>ENSG00000223972</td>\n",
       "    </tr>\n",
       "    <tr>\n",
       "      <th>WASH7P</th>\n",
       "      <td>WASH7P</td>\n",
       "      <td>Gene Expression</td>\n",
       "      <td>ENSG00000227232.5</td>\n",
       "      <td>False</td>\n",
       "      <td>2.274395e-03</td>\n",
       "      <td>2.442280</td>\n",
       "      <td>0.533203</td>\n",
       "      <td>0.001080</td>\n",
       "      <td>0.031731</td>\n",
       "      <td>ENSG00000227232</td>\n",
       "    </tr>\n",
       "    <tr>\n",
       "      <th>MIR6859-1</th>\n",
       "      <td>MIR6859-1</td>\n",
       "      <td>Gene Expression</td>\n",
       "      <td>ENSG00000278267.1</td>\n",
       "      <td>False</td>\n",
       "      <td>6.175251e-05</td>\n",
       "      <td>1.295335</td>\n",
       "      <td>-0.256874</td>\n",
       "      <td>0.000033</td>\n",
       "      <td>0.005634</td>\n",
       "      <td>ENSG00000278267</td>\n",
       "    </tr>\n",
       "    <tr>\n",
       "      <th>MIR1302-2HG</th>\n",
       "      <td>MIR1302-2HG</td>\n",
       "      <td>Gene Expression</td>\n",
       "      <td>ENSG00000243485.5</td>\n",
       "      <td>False</td>\n",
       "      <td>1.372886e-04</td>\n",
       "      <td>2.656352</td>\n",
       "      <td>0.680668</td>\n",
       "      <td>0.000048</td>\n",
       "      <td>0.008041</td>\n",
       "      <td>ENSG00000243485</td>\n",
       "    </tr>\n",
       "    <tr>\n",
       "      <th>MIR1302-2</th>\n",
       "      <td>MIR1302-2</td>\n",
       "      <td>Gene Expression</td>\n",
       "      <td>ENSG00000284332.1</td>\n",
       "      <td>False</td>\n",
       "      <td>1.000000e-12</td>\n",
       "      <td>NaN</td>\n",
       "      <td>0.000000</td>\n",
       "      <td>0.000000</td>\n",
       "      <td>1.000000</td>\n",
       "      <td>ENSG00000284332</td>\n",
       "    </tr>\n",
       "    <tr>\n",
       "      <th>...</th>\n",
       "      <td>...</td>\n",
       "      <td>...</td>\n",
       "      <td>...</td>\n",
       "      <td>...</td>\n",
       "      <td>...</td>\n",
       "      <td>...</td>\n",
       "      <td>...</td>\n",
       "      <td>...</td>\n",
       "      <td>...</td>\n",
       "      <td>...</td>\n",
       "    </tr>\n",
       "    <tr>\n",
       "      <th>MT-ND6</th>\n",
       "      <td>MT-ND6</td>\n",
       "      <td>Gene Expression</td>\n",
       "      <td>ENSG00000198695.2</td>\n",
       "      <td>False</td>\n",
       "      <td>9.634841e-01</td>\n",
       "      <td>2.466404</td>\n",
       "      <td>0.154140</td>\n",
       "      <td>0.590065</td>\n",
       "      <td>0.741395</td>\n",
       "      <td>ENSG00000198695</td>\n",
       "    </tr>\n",
       "    <tr>\n",
       "      <th>MT-TE</th>\n",
       "      <td>MT-TE</td>\n",
       "      <td>Gene Expression</td>\n",
       "      <td>ENSG00000210194.1</td>\n",
       "      <td>False</td>\n",
       "      <td>1.600667e-01</td>\n",
       "      <td>1.603787</td>\n",
       "      <td>-0.044396</td>\n",
       "      <td>0.083929</td>\n",
       "      <td>0.301820</td>\n",
       "      <td>ENSG00000210194</td>\n",
       "    </tr>\n",
       "    <tr>\n",
       "      <th>MT-CYB</th>\n",
       "      <td>MT-CYB</td>\n",
       "      <td>Gene Expression</td>\n",
       "      <td>ENSG00000198727.2</td>\n",
       "      <td>False</td>\n",
       "      <td>4.367693e+00</td>\n",
       "      <td>4.765751</td>\n",
       "      <td>-0.499747</td>\n",
       "      <td>3.874830</td>\n",
       "      <td>1.104192</td>\n",
       "      <td>ENSG00000198727</td>\n",
       "    </tr>\n",
       "    <tr>\n",
       "      <th>MT-TT</th>\n",
       "      <td>MT-TT</td>\n",
       "      <td>Gene Expression</td>\n",
       "      <td>ENSG00000210195.2</td>\n",
       "      <td>False</td>\n",
       "      <td>6.573967e-02</td>\n",
       "      <td>0.624316</td>\n",
       "      <td>-0.719108</td>\n",
       "      <td>0.040580</td>\n",
       "      <td>0.186848</td>\n",
       "      <td>ENSG00000210195</td>\n",
       "    </tr>\n",
       "    <tr>\n",
       "      <th>MT-TP</th>\n",
       "      <td>MT-TP</td>\n",
       "      <td>Gene Expression</td>\n",
       "      <td>ENSG00000210196.2</td>\n",
       "      <td>True</td>\n",
       "      <td>4.385102e-01</td>\n",
       "      <td>2.705558</td>\n",
       "      <td>1.115482</td>\n",
       "      <td>0.204806</td>\n",
       "      <td>0.501265</td>\n",
       "      <td>ENSG00000210196</td>\n",
       "    </tr>\n",
       "  </tbody>\n",
       "</table>\n",
       "<p>58870 rows × 10 columns</p>\n",
       "</div>"
      ],
      "text/plain": [
       "             gene_symbol     feature_type          ensemblid  highly_variable  \\\n",
       "DDX11L1          DDX11L1  Gene Expression  ENSG00000223972.5            False   \n",
       "WASH7P            WASH7P  Gene Expression  ENSG00000227232.5            False   \n",
       "MIR6859-1      MIR6859-1  Gene Expression  ENSG00000278267.1            False   \n",
       "MIR1302-2HG  MIR1302-2HG  Gene Expression  ENSG00000243485.5            False   \n",
       "MIR1302-2      MIR1302-2  Gene Expression  ENSG00000284332.1            False   \n",
       "...                  ...              ...                ...              ...   \n",
       "MT-ND6            MT-ND6  Gene Expression  ENSG00000198695.2            False   \n",
       "MT-TE              MT-TE  Gene Expression  ENSG00000210194.1            False   \n",
       "MT-CYB            MT-CYB  Gene Expression  ENSG00000198727.2            False   \n",
       "MT-TT              MT-TT  Gene Expression  ENSG00000210195.2            False   \n",
       "MT-TP              MT-TP  Gene Expression  ENSG00000210196.2             True   \n",
       "\n",
       "                    means  dispersions  dispersions_norm      mean       std  \\\n",
       "DDX11L1      6.398244e-05     0.835044         -0.573947  0.000039  0.005574   \n",
       "WASH7P       2.274395e-03     2.442280          0.533203  0.001080  0.031731   \n",
       "MIR6859-1    6.175251e-05     1.295335         -0.256874  0.000033  0.005634   \n",
       "MIR1302-2HG  1.372886e-04     2.656352          0.680668  0.000048  0.008041   \n",
       "MIR1302-2    1.000000e-12          NaN          0.000000  0.000000  1.000000   \n",
       "...                   ...          ...               ...       ...       ...   \n",
       "MT-ND6       9.634841e-01     2.466404          0.154140  0.590065  0.741395   \n",
       "MT-TE        1.600667e-01     1.603787         -0.044396  0.083929  0.301820   \n",
       "MT-CYB       4.367693e+00     4.765751         -0.499747  3.874830  1.104192   \n",
       "MT-TT        6.573967e-02     0.624316         -0.719108  0.040580  0.186848   \n",
       "MT-TP        4.385102e-01     2.705558          1.115482  0.204806  0.501265   \n",
       "\n",
       "                  ensembl_id  \n",
       "DDX11L1      ENSG00000223972  \n",
       "WASH7P       ENSG00000227232  \n",
       "MIR6859-1    ENSG00000278267  \n",
       "MIR1302-2HG  ENSG00000243485  \n",
       "MIR1302-2    ENSG00000284332  \n",
       "...                      ...  \n",
       "MT-ND6       ENSG00000198695  \n",
       "MT-TE        ENSG00000210194  \n",
       "MT-CYB       ENSG00000198727  \n",
       "MT-TT        ENSG00000210195  \n",
       "MT-TP        ENSG00000210196  \n",
       "\n",
       "[58870 rows x 10 columns]"
      ]
     },
     "execution_count": 5,
     "metadata": {},
     "output_type": "execute_result"
    }
   ],
   "source": [
    "adata.var['ensembl_id'] = adata.var['ensemblid']\n",
    "adata.var['ensembl_id'] = adata.var['ensembl_id'].str.split('.').str[0]\n",
    "adata.var"
   ]
  },
  {
   "cell_type": "code",
   "execution_count": 20,
   "id": "2e100a69-9e1c-4ee9-800e-54087f7e1acb",
   "metadata": {},
   "outputs": [
    {
     "data": {
      "text/plain": [
       "'TS_stromal'"
      ]
     },
     "execution_count": 20,
     "metadata": {},
     "output_type": "execute_result"
    }
   ],
   "source": [
    "import os\n",
    "os.path.splitext(os.path.basename(file))[0]"
   ]
  },
  {
   "cell_type": "code",
   "execution_count": 21,
   "id": "77b9d88a-2f18-4492-9547-1f574f17fef0",
   "metadata": {},
   "outputs": [
    {
     "name": "stderr",
     "output_type": "stream",
     "text": [
      "num_proc must be <= 11. Reducing num_proc to 11 for dataset of size 11.\n"
     ]
    },
    {
     "data": {
      "application/vnd.jupyter.widget-view+json": {
       "model_id": "91b207105c804ca8a85bd8cc6478c89b",
       "version_major": 2,
       "version_minor": 0
      },
      "text/plain": [
       "Map (num_proc=11):   0%|          | 0/11 [00:00<?, ? examples/s]"
      ]
     },
     "metadata": {},
     "output_type": "display_data"
    },
    {
     "data": {
      "application/vnd.jupyter.widget-view+json": {
       "model_id": "b79a684b274c426ca6a048288d4c1507",
       "version_major": 2,
       "version_minor": 0
      },
      "text/plain": [
       "Saving the dataset (0/1 shards):   0%|          | 0/11 [00:00<?, ? examples/s]"
      ]
     },
     "metadata": {},
     "output_type": "display_data"
    },
    {
     "name": "stdout",
     "output_type": "stream",
     "text": [
      "/nfs/turbo/umms-indikar/shared/projects/geneformer/geneformer-12L-30M/\n"
     ]
    },
    {
     "data": {
      "application/vnd.jupyter.widget-view+json": {
       "model_id": "7b6c78267ff041049cff0f0ed1a668e9",
       "version_major": 2,
       "version_minor": 0
      },
      "text/plain": [
       "  0%|          | 0/2 [00:00<?, ?it/s]"
      ]
     },
     "metadata": {},
     "output_type": "display_data"
    }
   ],
   "source": [
    "embedAdGF = embed(adata, 'geneformer',\n",
    "                  output_directory = '/nfs/turbo/umms-indikar/shared/projects/foundation_models/experiments/tabulaSapiens',\\\n",
    "                  output_file      = os.path.splitext(os.path.basename(file))[0]\n",
    "                 )\n"
   ]
  },
  {
   "cell_type": "code",
   "execution_count": 25,
   "id": "1c150f3a-bfe6-465d-ac0e-dc7a654d3f10",
   "metadata": {},
   "outputs": [
    {
     "data": {
      "text/plain": [
       "'TS_stromal'"
      ]
     },
     "execution_count": 25,
     "metadata": {},
     "output_type": "execute_result"
    }
   ],
   "source": []
  },
  {
   "cell_type": "code",
   "execution_count": 23,
   "id": "e9110f6e-a9be-4ea5-b07c-cb331a230ca9",
   "metadata": {},
   "outputs": [
    {
     "name": "stdout",
     "output_type": "stream",
     "text": [
      "cuda\n",
      "Tokenizer set\n",
      "model set\n",
      "model to device\n",
      "model eval\n"
     ]
    },
    {
     "name": "stderr",
     "output_type": "stream",
     "text": [
      "100%|██████████| 1/1 [00:00<00:00,  1.03it/s]\n"
     ]
    }
   ],
   "source": [
    "embedAdGF = embed(adata, 'tGPT',\n",
    "                  output_directory = '/nfs/turbo/umms-indikar/shared/projects/foundation_models/experiments/tabulaSapiens',\\\n",
    "                  output_file      = os.path.splitext(os.path.basename(file))[0]\n",
    "                 )\n"
   ]
  },
  {
   "cell_type": "code",
   "execution_count": 24,
   "id": "41cea557-d535-4e94-849c-fc88ab71bf97",
   "metadata": {},
   "outputs": [
    {
     "data": {
      "text/plain": [
       "AnnData object with n_obs × n_vars = 11 × 1024\n",
       "    obs: 'organ_tissue', 'method', 'donor', 'anatomical_information', 'n_counts_UMIs', 'n_genes', 'cell_ontology_class', 'free_annotation', 'manually_annotated', 'compartment', 'gender', 'n_counts'"
      ]
     },
     "execution_count": 24,
     "metadata": {},
     "output_type": "execute_result"
    }
   ],
   "source": [
    "embedAdGF"
   ]
  },
  {
   "cell_type": "code",
   "execution_count": 22,
   "id": "2f60d9db-2d0f-4af4-b464-0db2af6c6eed",
   "metadata": {},
   "outputs": [
    {
     "data": {
      "text/plain": [
       "'TS_stromal'"
      ]
     },
     "execution_count": 22,
     "metadata": {},
     "output_type": "execute_result"
    }
   ],
   "source": [
    "\n",
    "embedAdGF.obs\n",
    "\n",
    "os.path.splitext(os.path.basename(file))[0]\n"
   ]
  }
 ],
 "metadata": {
  "kernelspec": {
   "display_name": "Python 3 (ipykernel)",
   "language": "python",
   "name": "python3"
  },
  "language_info": {
   "codemirror_mode": {
    "name": "ipython",
    "version": 3
   },
   "file_extension": ".py",
   "mimetype": "text/x-python",
   "name": "python",
   "nbconvert_exporter": "python",
   "pygments_lexer": "ipython3",
   "version": "3.11.7"
  }
 },
 "nbformat": 4,
 "nbformat_minor": 5
}
