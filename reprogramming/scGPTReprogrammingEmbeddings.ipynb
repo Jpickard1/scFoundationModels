{
 "cells": [
  {
   "cell_type": "markdown",
   "id": "5aee8b3d-5984-4c37-9f3c-034d5bb4873b",
   "metadata": {},
   "source": [
    "# scGPT Reprogramming Embeddings\n",
    "\n",
    "The purpose of this notebook is to embed perturbed single cell files. In particular:\n",
    "\n",
    "1. one-shot perturbed single cell expression data are obtained from: `/nfs/turbo/umms-indikar/shared/projects/DARPA_AI/in-silico-reprogramming/one-shot/perturbed`\n",
    "2. each file in the input directory is read and embedded with scGPT\n",
    "3. the corresponding embeddings are saved to `/nfs/turbo/umms-indikar/shared/projects/DARPA_AI/in-silico-reprogramming/one-shot/scGPT`\n",
    "4. if a particular recipie already"
   ]
  },
  {
   "cell_type": "code",
   "execution_count": 1,
   "id": "4995df6c-0510-457f-90e0-c7bb12760ef4",
   "metadata": {},
   "outputs": [
    {
     "name": "stderr",
     "output_type": "stream",
     "text": [
      "/home/jpic/.conda/envs/scgpt3/lib/python3.10/site-packages/scgpt/model/model.py:21: UserWarning: flash_attn is not installed\n",
      "  warnings.warn(\"flash_attn is not installed\")\n",
      "/home/jpic/.conda/envs/scgpt3/lib/python3.10/site-packages/scgpt/model/multiomic_model.py:19: UserWarning: flash_attn is not installed\n",
      "  warnings.warn(\"flash_attn is not installed\")\n"
     ]
    }
   ],
   "source": [
    "import os\n",
    "import sys\n",
    "from pathlib import Path\n",
    "\n",
    "import numpy as np\n",
    "import pandas as pd\n",
    "from scipy.stats import mode\n",
    "import scanpy as sc\n",
    "import sklearn\n",
    "import warnings\n",
    "import torch\n",
    "\n",
    "sys.path.insert(0, \"../../\")\n",
    "import scgpt as scg\n",
    "\n",
    "# extra dependency for similarity search\n",
    "try:\n",
    "    import faiss\n",
    "\n",
    "    faiss_imported = True\n",
    "except ImportError:\n",
    "    faiss_imported = False\n",
    "    print(\n",
    "        \"faiss not installed! We highly recommend installing it for fast similarity search.\"\n",
    "    )\n",
    "    print(\"To install it, see https://github.com/facebookresearch/faiss/wiki/Installing-Faiss\")\n",
    "\n",
    "warnings.filterwarnings(\"ignore\", category=ResourceWarning)"
   ]
  },
  {
   "cell_type": "code",
   "execution_count": 2,
   "id": "c638da90-f1c7-4bea-99f0-894e8dbb624b",
   "metadata": {},
   "outputs": [
    {
     "name": "stdout",
     "output_type": "stream",
     "text": [
      "adata.shape=(38151, 58870)\n"
     ]
    }
   ],
   "source": [
    "# Directory containing the .h5ad files\n",
    "input_directory = \"/nfs/turbo/umms-indikar/shared/projects/DARPA_AI/in-silico-reprogramming/one-shot/perturbed\"\n",
    "output_directory = \"/nfs/turbo/umms-indikar/shared/projects/DARPA_AI/in-silico-reprogramming/one-shot/scGPT/\"\n",
    "\n",
    "# Load source data\n",
    "DATAPATH = \"/nfs/turbo/umms-indikar/shared/projects/DGC/data/tabula_sapiens/jpic/\"\n",
    "FILE = \"fibroblast.h5ad\"\n",
    "adata = sc.read_h5ad(os.path.join(DATAPATH, FILE))\n",
    "print(f\"{adata.shape=}\")"
   ]
  },
  {
   "cell_type": "code",
   "execution_count": 3,
   "id": "7c9cf379-9393-4eb7-a8ea-72e5c590e0e4",
   "metadata": {},
   "outputs": [],
   "source": [
    "# scGPT parameters\n",
    "model_dir     = Path(\"/nfs/turbo/umms-indikar/shared/projects/foundation_models/scGPT_human\")\n",
    "cell_type_key = \"Celltype\"\n",
    "gene_col      = \"gene_symbol\""
   ]
  },
  {
   "cell_type": "code",
   "execution_count": null,
   "id": "b20dcefd-5575-4f56-bf59-60a6a23d52b0",
   "metadata": {},
   "outputs": [
    {
     "name": "stdout",
     "output_type": "stream",
     "text": [
      "filename='SOX2.h5ad'\n",
      "output_filepath='/nfs/turbo/umms-indikar/shared/projects/DARPA_AI/in-silico-reprogramming/one-shot/scGPT/SOX2.h5ad'\n",
      "File already exists, skipping: /nfs/turbo/umms-indikar/shared/projects/DARPA_AI/in-silico-reprogramming/one-shot/scGPT/SOX2.h5ad\n",
      "filename='SOX2_HMGA2.h5ad'\n",
      "output_filepath='/nfs/turbo/umms-indikar/shared/projects/DARPA_AI/in-silico-reprogramming/one-shot/scGPT/SOX2_HMGA2.h5ad'\n",
      "File already exists, skipping: /nfs/turbo/umms-indikar/shared/projects/DARPA_AI/in-silico-reprogramming/one-shot/scGPT/SOX2_HMGA2.h5ad\n",
      "filename='ASCL1_PAX6.h5ad'\n",
      "output_filepath='/nfs/turbo/umms-indikar/shared/projects/DARPA_AI/in-silico-reprogramming/one-shot/scGPT/ASCL1_PAX6.h5ad'\n",
      "This file does not exist. Embeddings will be generated ...\n",
      "filepath='/nfs/turbo/umms-indikar/shared/projects/DARPA_AI/in-silico-reprogramming/one-shot/perturbed/ASCL1_PAX6.h5ad'\n"
     ]
    },
    {
     "name": "stderr",
     "output_type": "stream",
     "text": [
      "/home/jpic/.conda/envs/scgpt3/lib/python3.10/site-packages/anndata/_core/anndata.py:1818: UserWarning: Observation names are not unique. To make them unique, call `.obs_names_make_unique`.\n",
      "  utils.warn_names_duplicates(\"obs\")\n"
     ]
    },
    {
     "name": "stdout",
     "output_type": "stream",
     "text": [
      "adata.shape=(114453, 58870)\n",
      "scGPT - INFO - match 37825/58870 genes in vocabulary of size 60697.\n"
     ]
    },
    {
     "name": "stderr",
     "output_type": "stream",
     "text": [
      "/home/jpic/.conda/envs/scgpt3/lib/python3.10/site-packages/scgpt/model/model.py:77: UserWarning: flash-attn is not installed, using pytorch transformer instead. Set use_fast_transformer=False to avoid this warning. Installing flash-attn is highly recommended.\n",
      "  warnings.warn(\n",
      "Embedding cells: 100%|██████████| 1789/1789 [07:19<00:00,  4.07it/s]\n",
      "/home/jpic/.conda/envs/scgpt3/lib/python3.10/site-packages/anndata/_core/anndata.py:430: FutureWarning: The dtype argument is deprecated and will be removed in late 2024.\n",
      "  warnings.warn(\n",
      "/home/jpic/.conda/envs/scgpt3/lib/python3.10/site-packages/anndata/_core/anndata.py:1818: UserWarning: Observation names are not unique. To make them unique, call `.obs_names_make_unique`.\n",
      "  utils.warn_names_duplicates(\"obs\")\n"
     ]
    },
    {
     "name": "stdout",
     "output_type": "stream",
     "text": [
      "File saved\n",
      "filename='SOX2_PAX6.h5ad'\n",
      "output_filepath='/nfs/turbo/umms-indikar/shared/projects/DARPA_AI/in-silico-reprogramming/one-shot/scGPT/SOX2_PAX6.h5ad'\n",
      "This file does not exist. Embeddings will be generated ...\n",
      "filepath='/nfs/turbo/umms-indikar/shared/projects/DARPA_AI/in-silico-reprogramming/one-shot/perturbed/SOX2_PAX6.h5ad'\n"
     ]
    },
    {
     "name": "stderr",
     "output_type": "stream",
     "text": [
      "/home/jpic/.conda/envs/scgpt3/lib/python3.10/site-packages/anndata/_core/anndata.py:1818: UserWarning: Observation names are not unique. To make them unique, call `.obs_names_make_unique`.\n",
      "  utils.warn_names_duplicates(\"obs\")\n"
     ]
    },
    {
     "name": "stdout",
     "output_type": "stream",
     "text": [
      "adata.shape=(114453, 58870)\n",
      "scGPT - INFO - match 37825/58870 genes in vocabulary of size 60697.\n"
     ]
    },
    {
     "name": "stderr",
     "output_type": "stream",
     "text": [
      "/home/jpic/.conda/envs/scgpt3/lib/python3.10/site-packages/scgpt/model/model.py:77: UserWarning: flash-attn is not installed, using pytorch transformer instead. Set use_fast_transformer=False to avoid this warning. Installing flash-attn is highly recommended.\n",
      "  warnings.warn(\n",
      "Embedding cells:  49%|████▉     | 876/1789 [03:48<03:30,  4.33it/s] "
     ]
    }
   ],
   "source": [
    "# Loop over all .h5ad files found in input_directory\n",
    "for filename in os.listdir(input_directory):\n",
    "    if filename.endswith(\".h5ad\"):\n",
    "        print(f\"{filename=}\")\n",
    "\n",
    "        # Check if the output file already exists\n",
    "        output_filepath = os.path.join(output_directory, filename)\n",
    "        print(f\"{output_filepath=}\")\n",
    "\n",
    "        if os.path.exists(output_filepath):\n",
    "            print(f\"File already exists, skipping: {output_filepath}\")\n",
    "            continue  # Skip to the next file\n",
    "        else:\n",
    "            print(\"This file does not exist. Embeddings will be generated ...\")\n",
    "        \n",
    "        # Check the input perturbations\n",
    "        filepath = os.path.join(input_directory, filename)\n",
    "        print(f\"{filepath=}\")\n",
    "\n",
    "        # Read in the perturbed data\n",
    "        adata = sc.read_h5ad(filepath)\n",
    "        adata.X = adata.X.toarray()\n",
    "        print(f\"{adata.shape=}\")\n",
    "\n",
    "        # Frees up all the unused cached memory on the GPU\n",
    "        torch.cuda.empty_cache()\n",
    "        \n",
    "        # Perform the embeddings with scGPT\n",
    "        ref_embed_adata = scg.tasks.embed_data(\n",
    "            adata,\n",
    "            model_dir,\n",
    "            gene_col=\"index\",\n",
    "            obs_to_save=list(adata.obs.columns),  # optional arg, only for saving metainfo\n",
    "            batch_size=64,\n",
    "            return_new_adata=True,\n",
    "        )\n",
    "\n",
    "        # Save the embeddings to a new file in the output path\n",
    "        ref_embed_adata.write(output_filepath)\n",
    "        print(\"File saved\")"
   ]
  }
 ],
 "metadata": {
  "kernelspec": {
   "display_name": "scgpt3",
   "language": "python",
   "name": "scgpt3"
  },
  "language_info": {
   "codemirror_mode": {
    "name": "ipython",
    "version": 3
   },
   "file_extension": ".py",
   "mimetype": "text/x-python",
   "name": "python",
   "nbconvert_exporter": "python",
   "pygments_lexer": "ipython3",
   "version": "3.10.14"
  }
 },
 "nbformat": 4,
 "nbformat_minor": 5
}
